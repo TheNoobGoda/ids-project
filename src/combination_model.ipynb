{
 "cells": [
  {
   "cell_type": "code",
   "execution_count": 13,
   "metadata": {},
   "outputs": [],
   "source": [
    "import pandas as pd\n",
    "import sklearn.metrics\n",
    "from sklearn.model_selection import train_test_split, cross_val_score, KFold\n",
    "from imblearn.over_sampling import RandomOverSampler\n",
    "from imblearn.under_sampling import RandomUnderSampler\n",
    "from sklearn.svm import SVC\n",
    "from sklearn.neural_network import MLPClassifier\n",
    "from sklearn.ensemble import VotingClassifier, RandomForestClassifier"
   ]
  },
  {
   "cell_type": "code",
   "execution_count": 14,
   "metadata": {},
   "outputs": [
    {
     "name": "stdout",
     "output_type": "stream",
     "text": [
      "\n",
      "Class distribution after oversampling:\n",
      "churn\n",
      "No     3281\n",
      "Yes    3281\n",
      "Name: count, dtype: int64\n",
      "\n",
      "Class distribution after undersampling:\n",
      "churn\n",
      "No     509\n",
      "Yes    509\n",
      "Name: count, dtype: int64\n"
     ]
    }
   ],
   "source": [
    "df = pd.read_csv('../clean_data.csv')\n",
    "\n",
    "numerical_columns = df.select_dtypes(include=['float64','int']).columns\n",
    "\n",
    "x = df[numerical_columns]\n",
    "y = df['churn']\n",
    "\n",
    "X_train, X_test, y_train, y_test = train_test_split(x, y, test_size=0.2, random_state=42)\n",
    "\n",
    "ros = RandomOverSampler(random_state=42)\n",
    "X_oversampled, y_oversampled = ros.fit_resample(X_train, y_train)\n",
    "\n",
    "# Display class distribution after oversampling\n",
    "print(\"\\nClass distribution after oversampling:\")\n",
    "print(pd.Series(y_oversampled).value_counts())\n",
    "\n",
    "# Apply RandomUnderSampler to address class imbalance\n",
    "rus = RandomUnderSampler(random_state=42)\n",
    "X_undersampled, y_undersampled = rus.fit_resample(X_train, y_train)\n",
    "\n",
    "# Display class distribution after undersampling\n",
    "print(\"\\nClass distribution after undersampling:\")\n",
    "print(pd.Series(y_undersampled).value_counts())"
   ]
  },
  {
   "cell_type": "code",
   "execution_count": 15,
   "metadata": {},
   "outputs": [],
   "source": [
    "svm = SVC(kernel='rbf', C=10, gamma=1, degree=2, probability=True)\n",
    "nn_accuracy = MLPClassifier(activation= 'relu', alpha= 0.001, batch_size= 32, hidden_layer_sizes= (50, 50), learning_rate= 'adaptive', max_iter= 9999999999, solver= 'adam') \n",
    "rf_model = RandomForestClassifier(bootstrap=False, max_depth=30, max_features=1, min_samples_split=5, n_estimators=200)\n",
    "\n",
    "models = [('svm',svm),('nn',nn_accuracy),('rf',rf_model)]"
   ]
  },
  {
   "cell_type": "code",
   "execution_count": 16,
   "metadata": {},
   "outputs": [],
   "source": [
    "hard_voting_clf = VotingClassifier(models, voting='hard')\n",
    "\n",
    "soft_voting_clf = VotingClassifier(models, voting='soft')"
   ]
  },
  {
   "cell_type": "code",
   "execution_count": 17,
   "metadata": {},
   "outputs": [
    {
     "name": "stdout",
     "output_type": "stream",
     "text": [
      "hard\n",
      "accuracy: 0.9430379746835443\n",
      "recall: 0.7153284671532847\n",
      "precision: 0.8672566371681416\n",
      "f1: 0.7839999999999999\n",
      "confusion matrix:\n",
      "[[796  15]\n",
      " [ 39  98]]\n",
      "\n"
     ]
    }
   ],
   "source": [
    "hard_voting_clf.fit(X_oversampled,y_oversampled)\n",
    "\n",
    "yhat = hard_voting_clf.predict(X_test)\n",
    "\n",
    "acc = sklearn.metrics.accuracy_score(y_test,yhat)\n",
    "recall = sklearn.metrics.recall_score(y_test,yhat,pos_label='Yes')\n",
    "prec = sklearn.metrics.precision_score(y_test,yhat,pos_label='Yes')\n",
    "f1 = sklearn.metrics.f1_score(y_test,yhat,pos_label='Yes')\n",
    "conf_matrix =  sklearn.metrics.confusion_matrix(y_test,yhat)\n",
    "print('hard')\n",
    "print(f\"accuracy: {acc}\")\n",
    "print(f\"recall: {recall}\")\n",
    "print(f\"precision: {prec}\")\n",
    "print(f\"f1: {f1}\")\n",
    "print(f\"confusion matrix:\\n{conf_matrix}\\n\")"
   ]
  },
  {
   "cell_type": "code",
   "execution_count": 18,
   "metadata": {},
   "outputs": [
    {
     "name": "stdout",
     "output_type": "stream",
     "text": [
      "soft\n",
      "accuracy: 0.939873417721519\n",
      "recall: 0.7299270072992701\n",
      "precision: 0.8333333333333334\n",
      "f1: 0.7782101167315175\n",
      "confusion matrix:\n",
      "[[791  20]\n",
      " [ 37 100]]\n",
      "\n"
     ]
    }
   ],
   "source": [
    "soft_voting_clf.fit(X_oversampled,y_oversampled)\n",
    "\n",
    "yhat = soft_voting_clf.predict(X_test)\n",
    "\n",
    "acc = sklearn.metrics.accuracy_score(y_test,yhat)\n",
    "recall = sklearn.metrics.recall_score(y_test,yhat,pos_label='Yes')\n",
    "prec = sklearn.metrics.precision_score(y_test,yhat,pos_label='Yes')\n",
    "f1 = sklearn.metrics.f1_score(y_test,yhat,pos_label='Yes')\n",
    "conf_matrix =  sklearn.metrics.confusion_matrix(y_test,yhat)\n",
    "print('soft')\n",
    "print(f\"accuracy: {acc}\")\n",
    "print(f\"recall: {recall}\")\n",
    "print(f\"precision: {prec}\")\n",
    "print(f\"f1: {f1}\")\n",
    "print(f\"confusion matrix:\\n{conf_matrix}\\n\")"
   ]
  }
 ],
 "metadata": {
  "kernelspec": {
   "display_name": "Python 3",
   "language": "python",
   "name": "python3"
  },
  "language_info": {
   "codemirror_mode": {
    "name": "ipython",
    "version": 3
   },
   "file_extension": ".py",
   "mimetype": "text/x-python",
   "name": "python",
   "nbconvert_exporter": "python",
   "pygments_lexer": "ipython3",
   "version": "3.11.5"
  }
 },
 "nbformat": 4,
 "nbformat_minor": 2
}
