{
 "cells": [
  {
   "cell_type": "code",
   "execution_count": 1,
   "metadata": {},
   "outputs": [
    {
     "name": "stderr",
     "output_type": "stream",
     "text": [
      "/usr/lib/python3.11/site-packages/sklearn/experimental/enable_hist_gradient_boosting.py:15: UserWarning: Since version 1.0, it is not needed to import enable_hist_gradient_boosting anymore. HistGradientBoostingClassifier and HistGradientBoostingRegressor are now stable and can be normally imported from sklearn.ensemble.\n",
      "  warnings.warn(\n"
     ]
    }
   ],
   "source": [
    "import pandas as pd\n",
    "from imblearn.over_sampling import RandomOverSampler\n",
    "from imblearn.under_sampling import RandomUnderSampler\n",
    "from sklearn.model_selection import train_test_split\n",
    "from sklearn.ensemble import RandomForestClassifier, GradientBoostingClassifier, HistGradientBoostingClassifier, BaggingClassifier, AdaBoostClassifier\n",
    "from sklearn.metrics import accuracy_score, classification_report, confusion_matrix, make_scorer, f1_score, precision_score, recall_score\n",
    "from sklearn.experimental import enable_hist_gradient_boosting\n",
    "from sklearn.model_selection import cross_val_score, GridSearchCV, cross_val_score, KFold\n",
    "from sklearn.preprocessing import LabelEncoder\n",
    "from sklearn.impute import SimpleImputer\n",
    "from sklearn.pipeline import make_pipeline\n",
    "import matplotlib.pyplot as plt\n",
    "import seaborn as sns\n",
    "import numpy as np"
   ]
  },
  {
   "cell_type": "code",
   "execution_count": 2,
   "metadata": {},
   "outputs": [
    {
     "name": "stdout",
     "output_type": "stream",
     "text": [
      "\n",
      "Class distribution after oversampling:\n",
      "No     3273\n",
      "Yes    3273\n",
      "Name: churn, dtype: int64\n",
      "\n",
      "Class distribution after undersampling:\n",
      "No     519\n",
      "Yes    519\n",
      "Name: churn, dtype: int64\n"
     ]
    },
    {
     "data": {
      "text/html": [
       "<div>\n",
       "<style scoped>\n",
       "    .dataframe tbody tr th:only-of-type {\n",
       "        vertical-align: middle;\n",
       "    }\n",
       "\n",
       "    .dataframe tbody tr th {\n",
       "        vertical-align: top;\n",
       "    }\n",
       "\n",
       "    .dataframe thead th {\n",
       "        text-align: right;\n",
       "    }\n",
       "</style>\n",
       "<table border=\"1\" class=\"dataframe\">\n",
       "  <thead>\n",
       "    <tr style=\"text-align: right;\">\n",
       "      <th></th>\n",
       "      <th>accountlength</th>\n",
       "      <th>numbervmailmessages</th>\n",
       "      <th>totaldayminutes</th>\n",
       "      <th>totaldaycalls</th>\n",
       "      <th>totalevecalls</th>\n",
       "      <th>totalevecharge</th>\n",
       "      <th>totalnightminutes</th>\n",
       "      <th>totalnightcalls</th>\n",
       "      <th>totalintlcalls</th>\n",
       "      <th>totalintlcharge</th>\n",
       "      <th>numbercustomerservicecalls</th>\n",
       "    </tr>\n",
       "  </thead>\n",
       "  <tbody>\n",
       "    <tr>\n",
       "      <th>0</th>\n",
       "      <td>0.384259</td>\n",
       "      <td>0.000000</td>\n",
       "      <td>0.537786</td>\n",
       "      <td>0.396552</td>\n",
       "      <td>0.658120</td>\n",
       "      <td>0.890114</td>\n",
       "      <td>0.657114</td>\n",
       "      <td>0.316239</td>\n",
       "      <td>0.3</td>\n",
       "      <td>0.270455</td>\n",
       "      <td>0.0</td>\n",
       "    </tr>\n",
       "    <tr>\n",
       "      <th>1</th>\n",
       "      <td>0.459605</td>\n",
       "      <td>0.291667</td>\n",
       "      <td>0.541863</td>\n",
       "      <td>0.379310</td>\n",
       "      <td>0.410256</td>\n",
       "      <td>0.119732</td>\n",
       "      <td>0.597468</td>\n",
       "      <td>0.666667</td>\n",
       "      <td>0.2</td>\n",
       "      <td>0.515909</td>\n",
       "      <td>0.4</td>\n",
       "    </tr>\n",
       "    <tr>\n",
       "      <th>2</th>\n",
       "      <td>0.532407</td>\n",
       "      <td>0.479167</td>\n",
       "      <td>0.732204</td>\n",
       "      <td>0.310345</td>\n",
       "      <td>0.675214</td>\n",
       "      <td>0.287909</td>\n",
       "      <td>0.758747</td>\n",
       "      <td>0.529915</td>\n",
       "      <td>0.2</td>\n",
       "      <td>0.595455</td>\n",
       "      <td>0.4</td>\n",
       "    </tr>\n",
       "    <tr>\n",
       "      <th>3</th>\n",
       "      <td>0.680556</td>\n",
       "      <td>0.000000</td>\n",
       "      <td>0.661963</td>\n",
       "      <td>0.431034</td>\n",
       "      <td>0.470085</td>\n",
       "      <td>0.444269</td>\n",
       "      <td>0.443519</td>\n",
       "      <td>0.316239</td>\n",
       "      <td>0.3</td>\n",
       "      <td>0.250000</td>\n",
       "      <td>0.4</td>\n",
       "    </tr>\n",
       "    <tr>\n",
       "      <th>4</th>\n",
       "      <td>0.277778</td>\n",
       "      <td>0.000000</td>\n",
       "      <td>0.674506</td>\n",
       "      <td>0.724138</td>\n",
       "      <td>0.290598</td>\n",
       "      <td>0.494683</td>\n",
       "      <td>0.403199</td>\n",
       "      <td>0.333333</td>\n",
       "      <td>0.1</td>\n",
       "      <td>0.368182</td>\n",
       "      <td>0.0</td>\n",
       "    </tr>\n",
       "    <tr>\n",
       "      <th>...</th>\n",
       "      <td>...</td>\n",
       "      <td>...</td>\n",
       "      <td>...</td>\n",
       "      <td>...</td>\n",
       "      <td>...</td>\n",
       "      <td>...</td>\n",
       "      <td>...</td>\n",
       "      <td>...</td>\n",
       "      <td>...</td>\n",
       "      <td>...</td>\n",
       "      <td>...</td>\n",
       "    </tr>\n",
       "    <tr>\n",
       "      <th>6541</th>\n",
       "      <td>0.375000</td>\n",
       "      <td>0.000000</td>\n",
       "      <td>0.973032</td>\n",
       "      <td>0.267241</td>\n",
       "      <td>0.666667</td>\n",
       "      <td>0.520284</td>\n",
       "      <td>0.723092</td>\n",
       "      <td>0.512821</td>\n",
       "      <td>0.5</td>\n",
       "      <td>0.520455</td>\n",
       "      <td>0.0</td>\n",
       "    </tr>\n",
       "    <tr>\n",
       "      <th>6542</th>\n",
       "      <td>0.662037</td>\n",
       "      <td>0.000000</td>\n",
       "      <td>0.132016</td>\n",
       "      <td>0.646552</td>\n",
       "      <td>0.367521</td>\n",
       "      <td>0.080740</td>\n",
       "      <td>0.409530</td>\n",
       "      <td>0.487179</td>\n",
       "      <td>0.6</td>\n",
       "      <td>0.372727</td>\n",
       "      <td>0.8</td>\n",
       "    </tr>\n",
       "    <tr>\n",
       "      <th>6543</th>\n",
       "      <td>0.509259</td>\n",
       "      <td>0.000000</td>\n",
       "      <td>0.438696</td>\n",
       "      <td>0.043103</td>\n",
       "      <td>0.094017</td>\n",
       "      <td>0.724301</td>\n",
       "      <td>0.432189</td>\n",
       "      <td>0.521368</td>\n",
       "      <td>0.1</td>\n",
       "      <td>0.406818</td>\n",
       "      <td>0.4</td>\n",
       "    </tr>\n",
       "    <tr>\n",
       "      <th>6544</th>\n",
       "      <td>0.680556</td>\n",
       "      <td>0.000000</td>\n",
       "      <td>0.671057</td>\n",
       "      <td>0.336207</td>\n",
       "      <td>0.247863</td>\n",
       "      <td>0.450965</td>\n",
       "      <td>0.240586</td>\n",
       "      <td>0.470085</td>\n",
       "      <td>0.1</td>\n",
       "      <td>0.459091</td>\n",
       "      <td>0.0</td>\n",
       "    </tr>\n",
       "    <tr>\n",
       "      <th>6545</th>\n",
       "      <td>0.296296</td>\n",
       "      <td>0.000000</td>\n",
       "      <td>0.709313</td>\n",
       "      <td>0.836207</td>\n",
       "      <td>0.606838</td>\n",
       "      <td>0.632532</td>\n",
       "      <td>0.783739</td>\n",
       "      <td>0.641026</td>\n",
       "      <td>0.4</td>\n",
       "      <td>0.127273</td>\n",
       "      <td>0.8</td>\n",
       "    </tr>\n",
       "  </tbody>\n",
       "</table>\n",
       "<p>6546 rows × 11 columns</p>\n",
       "</div>"
      ],
      "text/plain": [
       "      accountlength  numbervmailmessages  totaldayminutes  totaldaycalls  \\\n",
       "0          0.384259             0.000000         0.537786       0.396552   \n",
       "1          0.459605             0.291667         0.541863       0.379310   \n",
       "2          0.532407             0.479167         0.732204       0.310345   \n",
       "3          0.680556             0.000000         0.661963       0.431034   \n",
       "4          0.277778             0.000000         0.674506       0.724138   \n",
       "...             ...                  ...              ...            ...   \n",
       "6541       0.375000             0.000000         0.973032       0.267241   \n",
       "6542       0.662037             0.000000         0.132016       0.646552   \n",
       "6543       0.509259             0.000000         0.438696       0.043103   \n",
       "6544       0.680556             0.000000         0.671057       0.336207   \n",
       "6545       0.296296             0.000000         0.709313       0.836207   \n",
       "\n",
       "      totalevecalls  totalevecharge  totalnightminutes  totalnightcalls  \\\n",
       "0          0.658120        0.890114           0.657114         0.316239   \n",
       "1          0.410256        0.119732           0.597468         0.666667   \n",
       "2          0.675214        0.287909           0.758747         0.529915   \n",
       "3          0.470085        0.444269           0.443519         0.316239   \n",
       "4          0.290598        0.494683           0.403199         0.333333   \n",
       "...             ...             ...                ...              ...   \n",
       "6541       0.666667        0.520284           0.723092         0.512821   \n",
       "6542       0.367521        0.080740           0.409530         0.487179   \n",
       "6543       0.094017        0.724301           0.432189         0.521368   \n",
       "6544       0.247863        0.450965           0.240586         0.470085   \n",
       "6545       0.606838        0.632532           0.783739         0.641026   \n",
       "\n",
       "      totalintlcalls  totalintlcharge  numbercustomerservicecalls  \n",
       "0                0.3         0.270455                         0.0  \n",
       "1                0.2         0.515909                         0.4  \n",
       "2                0.2         0.595455                         0.4  \n",
       "3                0.3         0.250000                         0.4  \n",
       "4                0.1         0.368182                         0.0  \n",
       "...              ...              ...                         ...  \n",
       "6541             0.5         0.520455                         0.0  \n",
       "6542             0.6         0.372727                         0.8  \n",
       "6543             0.1         0.406818                         0.4  \n",
       "6544             0.1         0.459091                         0.0  \n",
       "6545             0.4         0.127273                         0.8  \n",
       "\n",
       "[6546 rows x 11 columns]"
      ]
     },
     "execution_count": 2,
     "metadata": {},
     "output_type": "execute_result"
    }
   ],
   "source": [
    "df = pd.read_csv(\"./../clean_data.csv\")\n",
    "\n",
    "numerical_columns = df.select_dtypes(include=['float64']).columns\n",
    "\n",
    "x = df[numerical_columns]\n",
    "y = df['churn']\n",
    "\n",
    "X_train, X_test, y_train, y_test = train_test_split(x, y, test_size=0.2, random_state=42)\n",
    "\n",
    "\n",
    "# Balancing data\n",
    "ros = RandomOverSampler(random_state=42)\n",
    "X_oversampled, y_oversampled = ros.fit_resample(X_train, y_train)\n",
    "\n",
    "# Display class distribution after oversampling\n",
    "print(\"\\nClass distribution after oversampling:\")\n",
    "print(pd.Series(y_oversampled).value_counts())\n",
    "\n",
    "# Apply RandomUnderSampler to address class imbalance\n",
    "rus = RandomUnderSampler(random_state=42)\n",
    "X_undersampled, y_undersampled = rus.fit_resample(X_train, y_train)\n",
    "\n",
    "# Display class distribution after undersampling\n",
    "print(\"\\nClass distribution after undersampling:\")\n",
    "print(pd.Series(y_undersampled).value_counts())\n",
    "\n",
    "X_oversampled"
   ]
  },
  {
   "cell_type": "code",
   "execution_count": 14,
   "metadata": {},
   "outputs": [
    {
     "name": "stdout",
     "output_type": "stream",
     "text": [
      "Random Forest - Accuracy: 0.9156118143459916\n",
      "\n",
      "Random Forest - Confusion Matrix:\n",
      " [[803  18]\n",
      " [ 62  65]]\n",
      "\n",
      "Random Forest - Recall: 0.9156118143459916\n",
      "Random Forest - Precision: 0.7831325301204819\n",
      "Random Forest - F1: 0.6190476190476191\n"
     ]
    }
   ],
   "source": [
    "# Random forest\n",
    "\n",
    "rf_model = RandomForestClassifier(random_state=42)\n",
    "rf_model.fit(X_oversampled, y_oversampled)\n",
    "y_pred_rf = rf_model.predict(X_test)\n",
    "\n",
    "print(\"Random Forest - Accuracy:\", accuracy_score(y_test, y_pred_rf))\n",
    "print(\"\\nRandom Forest - Confusion Matrix:\\n\", confusion_matrix(y_test, y_pred_rf))\n",
    "print(\"\\nRandom Forest - Recall:\", accuracy_score(y_test, y_pred_rf))\n",
    "print(\"Random Forest - Precision:\", precision_score(y_test, y_pred_rf, pos_label='Yes'))\n",
    "print(\"Random Forest - F1:\", f1_score(y_test, y_pred_rf, pos_label='Yes'))\n"
   ]
  },
  {
   "cell_type": "code",
   "execution_count": 17,
   "metadata": {},
   "outputs": [
    {
     "name": "stdout",
     "output_type": "stream",
     "text": [
      "GradientBoostingClassifier - Accuracy: 0.8544303797468354\n",
      "\n",
      "GradientBoostingClassifier - Confusion Matrix:\n",
      " [[730  91]\n",
      " [ 47  80]]\n",
      "\n",
      "GradientBoostingClassifier - Recall: 0.8544303797468354\n",
      "GradientBoostingClassifier - Precision: 0.4678362573099415\n",
      "GradientBoostingClassifier - F1: 0.5369127516778524\n"
     ]
    }
   ],
   "source": [
    "# GradientBoostingClassifier\n",
    "\n",
    "gb_model = GradientBoostingClassifier(random_state=42)\n",
    "gb_model.fit(X_oversampled, y_oversampled)\n",
    "y_pred_gb = gb_model.predict(X_test)\n",
    "\n",
    "print(\"GradientBoostingClassifier - Accuracy:\", accuracy_score(y_test, y_pred_gb))\n",
    "print(\"\\nGradientBoostingClassifier - Confusion Matrix:\\n\", confusion_matrix(y_test, y_pred_gb))\n",
    "print(\"\\nGradientBoostingClassifier - Recall:\", accuracy_score(y_test, y_pred_gb))\n",
    "print(\"GradientBoostingClassifier - Precision:\", precision_score(y_test, y_pred_gb, pos_label='Yes'))\n",
    "print(\"GradientBoostingClassifier - F1:\", f1_score(y_test, y_pred_gb, pos_label='Yes'))\n"
   ]
  },
  {
   "cell_type": "code",
   "execution_count": 18,
   "metadata": {},
   "outputs": [
    {
     "name": "stdout",
     "output_type": "stream",
     "text": [
      "HistGradientBoostingClassifier - Accuracy: 0.8966244725738397\n",
      "\n",
      "HistGradientBoostingClassifier - Confusion Matrix:\n",
      " [[781  40]\n",
      " [ 58  69]]\n",
      "\n",
      "HistGradientBoostingClassifier - Classification Report:\n",
      "               precision    recall  f1-score   support\n",
      "\n",
      "          No       0.93      0.95      0.94       821\n",
      "         Yes       0.63      0.54      0.58       127\n",
      "\n",
      "    accuracy                           0.90       948\n",
      "   macro avg       0.78      0.75      0.76       948\n",
      "weighted avg       0.89      0.90      0.89       948\n",
      "\n",
      "\n",
      "HistGradientBoostingClassifier - Recall: 0.8966244725738397\n",
      "HistGradientBoostingClassifier - Precision: 0.6330275229357798\n",
      "HistGradientBoostingClassifier - F1: 0.5847457627118645\n"
     ]
    }
   ],
   "source": [
    "# HistGradientBoostingClassifier\n",
    "\n",
    "hgbc_model = HistGradientBoostingClassifier(random_state=42)\n",
    "hgbc_model.fit(X_oversampled, y_oversampled)\n",
    "y_pred_hgbc = hgbc_model.predict(X_test)\n",
    "\n",
    "print(\"HistGradientBoostingClassifier - Accuracy:\", accuracy_score(y_test, y_pred_hgbc))\n",
    "print(\"\\nHistGradientBoostingClassifier - Confusion Matrix:\\n\", confusion_matrix(y_test, y_pred_hgbc))\n",
    "print(\"\\nHistGradientBoostingClassifier - Classification Report:\\n\", classification_report(y_test, y_pred_hgbc))\n",
    "print(\"\\nHistGradientBoostingClassifier - Recall:\", accuracy_score(y_test, y_pred_hgbc))\n",
    "print(\"HistGradientBoostingClassifier - Precision:\", precision_score(y_test, y_pred_hgbc, pos_label='Yes'))\n",
    "print(\"HistGradientBoostingClassifier - F1:\", f1_score(y_test, y_pred_hgbc, pos_label='Yes'))\n"
   ]
  },
  {
   "cell_type": "code",
   "execution_count": 19,
   "metadata": {},
   "outputs": [
    {
     "name": "stdout",
     "output_type": "stream",
     "text": [
      "Cross-Validation Scores - Random Forest: [0.98350137 0.98945921 0.98716774]\n",
      "Random Forest Mean Accuracy: 0.9867094408799266\n",
      "Cross-Validation Scores - Gradient Boosting: [0.85059578 0.86480293 0.85701192]\n",
      "Gradient Boosting Mean Accuracy: 0.8574702108157654\n"
     ]
    }
   ],
   "source": [
    "# Cross-Validation\n",
    "\n",
    "cv_scores_rf = cross_val_score(rf_model, X_oversampled, y_oversampled, cv=3)\n",
    "cv_scores_gb = cross_val_score(gb_model, X_oversampled, y_oversampled, cv=3)\n",
    "\n",
    "print(\"Cross-Validation Scores - Random Forest:\", cv_scores_rf)\n",
    "print(\"Random Forest Mean Accuracy:\", np.mean(cv_scores_rf))\n",
    "print(\"Cross-Validation Scores - Gradient Boosting:\", cv_scores_gb)\n",
    "print(\"Gradient Boosting Mean Accuracy:\", np.mean(cv_scores_gb))"
   ]
  },
  {
   "cell_type": "code",
   "execution_count": 20,
   "metadata": {},
   "outputs": [],
   "source": [
    "# Hyperparameter spaces for different classifiers\n",
    "param_grid_bagging = {\n",
    "    'baggingclassifier__n_estimators': [50, 100, 200],\n",
    "}\n",
    "\n",
    "param_grid_rf = {\n",
    "    'randomforestclassifier__n_estimators': [50, 100, 200],\n",
    "    'randomforestclassifier__max_depth': [None, 10, 20],  \n",
    "    'randomforestclassifier__max_features': ['sqrt', 'log2', None, 1, 2, 3],  \n",
    "}\n",
    "\n",
    "param_grid_ada = {\n",
    "    'adaboostclassifier__n_estimators': [50, 100, 200],\n",
    "}\n",
    "\n",
    "param_grid_gb = {\n",
    "    'gradientboostingclassifier__n_estimators': [50, 100, 200],\n",
    "    'gradientboostingclassifier__learning_rate': [0.01, 0.1, 0.2],\n",
    "}\n",
    "\n",
    "\n",
    "imputer = SimpleImputer(strategy='mean')\n",
    "X_imputed = imputer.fit_transform(X_train)"
   ]
  },
  {
   "cell_type": "code",
   "execution_count": 41,
   "metadata": {},
   "outputs": [
    {
     "name": "stdout",
     "output_type": "stream",
     "text": [
      "Best Hyperparameters for Bagging: {'baggingclassifier__n_estimators': 200}\n",
      "Best Bagging Accuracy: 0.8551236749116607\n"
     ]
    }
   ],
   "source": [
    "# BaggingClassifier\n",
    "bagging_model = BaggingClassifier()\n",
    "bagging_model_with_imputer = make_pipeline(SimpleImputer(strategy='mean'), bagging_model)\n",
    "grid_search_bagging = GridSearchCV(bagging_model_with_imputer, param_grid_bagging, cv=5)\n",
    "grid_search_bagging.fit(X_imputed, y_train_encoded)\n",
    "\n",
    "\n",
    "X_test_imputed = imputer.transform(X_test)\n",
    "y_pred_bagging = grid_search_bagging.best_estimator_.predict(X_test_imputed)\n",
    "acc_bagging = grid_search_bagging.best_estimator_.score(X_test_imputed, y_test_encoded)\n",
    "\n",
    "print(\"Best Hyperparameters for Bagging:\", grid_search_bagging.best_params_)\n",
    "print(\"Best Bagging Accuracy:\", acc_bagging)"
   ]
  },
  {
   "cell_type": "code",
   "execution_count": 42,
   "metadata": {},
   "outputs": [
    {
     "name": "stdout",
     "output_type": "stream",
     "text": [
      "Best Hyperparameters for RandomForest: {'randomforestclassifier__max_depth': 10, 'randomforestclassifier__max_features': None, 'randomforestclassifier__n_estimators': 200}\n",
      "Best RandomForest Accuracy: 0.8515901060070671\n"
     ]
    }
   ],
   "source": [
    "# RandomForestClassifier\n",
    "rf_model = RandomForestClassifier()\n",
    "rf_model_with_imputer = make_pipeline(SimpleImputer(strategy='mean'), rf_model)\n",
    "grid_search_rf = GridSearchCV(rf_model_with_imputer, param_grid_rf, cv=5)\n",
    "grid_search_rf.fit(X_imputed, y_train_encoded)\n",
    "\n",
    "X_test_imputed = imputer.transform(X_test)\n",
    "y_pred_rf = grid_search_rf.best_estimator_.predict(X_test_imputed)\n",
    "acc_rf = grid_search_rf.best_estimator_.score(X_test_imputed, y_test_encoded)\n",
    "\n",
    "print(\"Best Hyperparameters for RandomForest:\", grid_search_rf.best_params_)\n",
    "print(\"Best RandomForest Accuracy:\", acc_rf)"
   ]
  },
  {
   "cell_type": "code",
   "execution_count": 43,
   "metadata": {},
   "outputs": [
    {
     "name": "stdout",
     "output_type": "stream",
     "text": [
      "Best Hyperparameters for AdaBoost: {'adaboostclassifier__n_estimators': 50}\n",
      "Best AdaBoost Accuracy: 0.7950530035335689\n"
     ]
    }
   ],
   "source": [
    "# AdaBoostClassifier\n",
    "ada_model = AdaBoostClassifier()\n",
    "ada_model_with_imputer = make_pipeline(SimpleImputer(strategy='mean'), ada_model)\n",
    "grid_search_ada = GridSearchCV(ada_model_with_imputer, param_grid_ada, cv=5)\n",
    "grid_search_ada.fit(X_imputed, y_train_encoded)\n",
    "\n",
    "X_test_imputed = imputer.transform(X_test)\n",
    "y_pred_ada = grid_search_ada.best_estimator_.predict(X_test_imputed)\n",
    "acc_ada = grid_search_ada.best_estimator_.score(X_test_imputed, y_test_encoded)\n",
    "\n",
    "print(\"Best Hyperparameters for AdaBoost:\", grid_search_ada.best_params_)\n",
    "print(\"Best AdaBoost Accuracy:\", acc_ada)"
   ]
  },
  {
   "cell_type": "code",
   "execution_count": 44,
   "metadata": {},
   "outputs": [
    {
     "name": "stdout",
     "output_type": "stream",
     "text": [
      "Best Hyperparameters for GradientBoosting: {'gradientboostingclassifier__learning_rate': 0.1, 'gradientboostingclassifier__n_estimators': 100}\n",
      "Best GradientBoosting Accuracy: 0.8798586572438163\n"
     ]
    }
   ],
   "source": [
    "# GradientBoostingClassifier\n",
    "gb_model = GradientBoostingClassifier()\n",
    "gb_model_with_imputer = make_pipeline(SimpleImputer(strategy='mean'), gb_model)\n",
    "grid_search_gb = GridSearchCV(gb_model_with_imputer, param_grid_gb, cv=5)\n",
    "grid_search_gb.fit(X_imputed, y_train_encoded)\n",
    "\n",
    "X_test_imputed = imputer.transform(X_test)\n",
    "y_pred_gb= grid_search_gb.best_estimator_.predict(X_test_imputed)\n",
    "acc_gb = grid_search_gb.best_estimator_.score(X_test_imputed, y_test_encoded)\n",
    "\n",
    "print(\"Best Hyperparameters for GradientBoosting:\", grid_search_gb.best_params_)\n",
    "print(\"Best GradientBoosting Accuracy:\", acc_gb)\n"
   ]
  },
  {
   "cell_type": "code",
   "execution_count": null,
   "metadata": {},
   "outputs": [],
   "source": []
  }
 ],
 "metadata": {
  "kernelspec": {
   "display_name": "Python 3.11.5 64-bit ('sbin')",
   "language": "python",
   "name": "python3"
  },
  "language_info": {
   "codemirror_mode": {
    "name": "ipython",
    "version": 3
   },
   "file_extension": ".py",
   "mimetype": "text/x-python",
   "name": "python",
   "nbconvert_exporter": "python",
   "pygments_lexer": "ipython3",
   "version": "3.11.5"
  },
  "orig_nbformat": 4,
  "vscode": {
   "interpreter": {
    "hash": "4e1d9a8909477db77738c33245c29c7265277ef753467dede8cf3f814cde494e"
   }
  }
 },
 "nbformat": 4,
 "nbformat_minor": 2
}
