{
 "cells": [
  {
   "cell_type": "code",
   "execution_count": 1,
   "metadata": {},
   "outputs": [],
   "source": [
    "import pandas as pd\n",
    "import matplotlib.pyplot as plt\n",
    "import seaborn as sns\n",
    "import numpy as np\n",
    "from sklearn.impute import SimpleImputer, KNNImputer\n",
    "from sklearn.preprocessing import MinMaxScaler\n",
    "from imblearn.over_sampling import RandomOverSampler\n",
    "from imblearn.under_sampling import RandomUnderSampler\n",
    "from scipy import stats\n",
    "import sklearn.metrics\n",
    "from sklearn.neural_network import MLPClassifier\n",
    "from sklearn.neighbors import KNeighborsClassifier\n",
    "from sklearn.model_selection import train_test_split, GridSearchCV, cross_val_score, KFold\n",
    "from sklearn.preprocessing import StandardScaler\n",
    "from sklearn.ensemble import VotingClassifier\n",
    "from sklearn.naive_bayes import GaussianNB, CategoricalNB\n",
    "from mixed_naive_bayes import MixedNB\n",
    "from sklearn.svm import SVC\n",
    "import sklearn.metrics as metrics\n",
    "from sklearn.metrics import ConfusionMatrixDisplay"
   ]
  },
  {
   "cell_type": "code",
   "execution_count": 2,
   "metadata": {},
   "outputs": [
    {
     "data": {
      "text/html": [
       "<div>\n",
       "<style scoped>\n",
       "    .dataframe tbody tr th:only-of-type {\n",
       "        vertical-align: middle;\n",
       "    }\n",
       "\n",
       "    .dataframe tbody tr th {\n",
       "        vertical-align: top;\n",
       "    }\n",
       "\n",
       "    .dataframe thead th {\n",
       "        text-align: right;\n",
       "    }\n",
       "</style>\n",
       "<table border=\"1\" class=\"dataframe\">\n",
       "  <thead>\n",
       "    <tr style=\"text-align: right;\">\n",
       "      <th></th>\n",
       "      <th>churn</th>\n",
       "      <th>accountlength</th>\n",
       "      <th>internationalplan</th>\n",
       "      <th>voicemailplan</th>\n",
       "      <th>numbervmailmessages</th>\n",
       "      <th>totaldayminutes</th>\n",
       "      <th>totaldaycalls</th>\n",
       "      <th>totalevecalls</th>\n",
       "      <th>totalevecharge</th>\n",
       "      <th>totalnightminutes</th>\n",
       "      <th>totalnightcalls</th>\n",
       "      <th>totalintlcalls</th>\n",
       "      <th>totalintlcharge</th>\n",
       "      <th>numbercustomerservicecalls</th>\n",
       "    </tr>\n",
       "  </thead>\n",
       "  <tbody>\n",
       "    <tr>\n",
       "      <th>count</th>\n",
       "      <td>4740.000000</td>\n",
       "      <td>4740.000000</td>\n",
       "      <td>4740.000000</td>\n",
       "      <td>4740.000000</td>\n",
       "      <td>4740.000000</td>\n",
       "      <td>4740.000000</td>\n",
       "      <td>4740.000000</td>\n",
       "      <td>4740.000000</td>\n",
       "      <td>4740.000000</td>\n",
       "      <td>4740.000000</td>\n",
       "      <td>4740.000000</td>\n",
       "      <td>4740.000000</td>\n",
       "      <td>4740.000000</td>\n",
       "      <td>4740.000000</td>\n",
       "    </tr>\n",
       "    <tr>\n",
       "      <th>mean</th>\n",
       "      <td>0.136287</td>\n",
       "      <td>0.457745</td>\n",
       "      <td>0.905696</td>\n",
       "      <td>0.739873</td>\n",
       "      <td>0.159757</td>\n",
       "      <td>0.505552</td>\n",
       "      <td>0.500827</td>\n",
       "      <td>0.498255</td>\n",
       "      <td>0.494973</td>\n",
       "      <td>0.500983</td>\n",
       "      <td>0.494609</td>\n",
       "      <td>0.331994</td>\n",
       "      <td>0.503846</td>\n",
       "      <td>0.304536</td>\n",
       "    </tr>\n",
       "    <tr>\n",
       "      <th>std</th>\n",
       "      <td>0.343129</td>\n",
       "      <td>0.181672</td>\n",
       "      <td>0.292282</td>\n",
       "      <td>0.438750</td>\n",
       "      <td>0.279362</td>\n",
       "      <td>0.166457</td>\n",
       "      <td>0.168083</td>\n",
       "      <td>0.167155</td>\n",
       "      <td>0.166495</td>\n",
       "      <td>0.165245</td>\n",
       "      <td>0.166795</td>\n",
       "      <td>0.214228</td>\n",
       "      <td>0.160508</td>\n",
       "      <td>0.241370</td>\n",
       "    </tr>\n",
       "    <tr>\n",
       "      <th>min</th>\n",
       "      <td>0.000000</td>\n",
       "      <td>0.000000</td>\n",
       "      <td>0.000000</td>\n",
       "      <td>0.000000</td>\n",
       "      <td>0.000000</td>\n",
       "      <td>0.000000</td>\n",
       "      <td>0.000000</td>\n",
       "      <td>0.000000</td>\n",
       "      <td>0.000000</td>\n",
       "      <td>0.000000</td>\n",
       "      <td>0.000000</td>\n",
       "      <td>0.000000</td>\n",
       "      <td>0.000000</td>\n",
       "      <td>0.000000</td>\n",
       "    </tr>\n",
       "    <tr>\n",
       "      <th>25%</th>\n",
       "      <td>0.000000</td>\n",
       "      <td>0.333333</td>\n",
       "      <td>1.000000</td>\n",
       "      <td>0.000000</td>\n",
       "      <td>0.000000</td>\n",
       "      <td>0.390718</td>\n",
       "      <td>0.387931</td>\n",
       "      <td>0.384615</td>\n",
       "      <td>0.381154</td>\n",
       "      <td>0.390203</td>\n",
       "      <td>0.384615</td>\n",
       "      <td>0.200000</td>\n",
       "      <td>0.397727</td>\n",
       "      <td>0.200000</td>\n",
       "    </tr>\n",
       "    <tr>\n",
       "      <th>50%</th>\n",
       "      <td>0.000000</td>\n",
       "      <td>0.458333</td>\n",
       "      <td>1.000000</td>\n",
       "      <td>1.000000</td>\n",
       "      <td>0.000000</td>\n",
       "      <td>0.503606</td>\n",
       "      <td>0.500000</td>\n",
       "      <td>0.504274</td>\n",
       "      <td>0.495865</td>\n",
       "      <td>0.501166</td>\n",
       "      <td>0.495726</td>\n",
       "      <td>0.300000</td>\n",
       "      <td>0.509091</td>\n",
       "      <td>0.200000</td>\n",
       "    </tr>\n",
       "    <tr>\n",
       "      <th>75%</th>\n",
       "      <td>0.000000</td>\n",
       "      <td>0.578704</td>\n",
       "      <td>1.000000</td>\n",
       "      <td>1.000000</td>\n",
       "      <td>0.333333</td>\n",
       "      <td>0.618140</td>\n",
       "      <td>0.612069</td>\n",
       "      <td>0.615385</td>\n",
       "      <td>0.605849</td>\n",
       "      <td>0.614878</td>\n",
       "      <td>0.606838</td>\n",
       "      <td>0.500000</td>\n",
       "      <td>0.613636</td>\n",
       "      <td>0.400000</td>\n",
       "    </tr>\n",
       "    <tr>\n",
       "      <th>max</th>\n",
       "      <td>1.000000</td>\n",
       "      <td>1.000000</td>\n",
       "      <td>1.000000</td>\n",
       "      <td>1.000000</td>\n",
       "      <td>1.000000</td>\n",
       "      <td>1.000000</td>\n",
       "      <td>1.000000</td>\n",
       "      <td>1.000000</td>\n",
       "      <td>1.000000</td>\n",
       "      <td>1.000000</td>\n",
       "      <td>1.000000</td>\n",
       "      <td>1.000000</td>\n",
       "      <td>1.000000</td>\n",
       "      <td>1.000000</td>\n",
       "    </tr>\n",
       "  </tbody>\n",
       "</table>\n",
       "</div>"
      ],
      "text/plain": [
       "             churn  accountlength  internationalplan  voicemailplan  \\\n",
       "count  4740.000000    4740.000000        4740.000000    4740.000000   \n",
       "mean      0.136287       0.457745           0.905696       0.739873   \n",
       "std       0.343129       0.181672           0.292282       0.438750   \n",
       "min       0.000000       0.000000           0.000000       0.000000   \n",
       "25%       0.000000       0.333333           1.000000       0.000000   \n",
       "50%       0.000000       0.458333           1.000000       1.000000   \n",
       "75%       0.000000       0.578704           1.000000       1.000000   \n",
       "max       1.000000       1.000000           1.000000       1.000000   \n",
       "\n",
       "       numbervmailmessages  totaldayminutes  totaldaycalls  totalevecalls  \\\n",
       "count          4740.000000      4740.000000    4740.000000    4740.000000   \n",
       "mean              0.159757         0.505552       0.500827       0.498255   \n",
       "std               0.279362         0.166457       0.168083       0.167155   \n",
       "min               0.000000         0.000000       0.000000       0.000000   \n",
       "25%               0.000000         0.390718       0.387931       0.384615   \n",
       "50%               0.000000         0.503606       0.500000       0.504274   \n",
       "75%               0.333333         0.618140       0.612069       0.615385   \n",
       "max               1.000000         1.000000       1.000000       1.000000   \n",
       "\n",
       "       totalevecharge  totalnightminutes  totalnightcalls  totalintlcalls  \\\n",
       "count     4740.000000        4740.000000      4740.000000     4740.000000   \n",
       "mean         0.494973           0.500983         0.494609        0.331994   \n",
       "std          0.166495           0.165245         0.166795        0.214228   \n",
       "min          0.000000           0.000000         0.000000        0.000000   \n",
       "25%          0.381154           0.390203         0.384615        0.200000   \n",
       "50%          0.495865           0.501166         0.495726        0.300000   \n",
       "75%          0.605849           0.614878         0.606838        0.500000   \n",
       "max          1.000000           1.000000         1.000000        1.000000   \n",
       "\n",
       "       totalintlcharge  numbercustomerservicecalls  \n",
       "count      4740.000000                 4740.000000  \n",
       "mean          0.503846                    0.304536  \n",
       "std           0.160508                    0.241370  \n",
       "min           0.000000                    0.000000  \n",
       "25%           0.397727                    0.200000  \n",
       "50%           0.509091                    0.200000  \n",
       "75%           0.613636                    0.400000  \n",
       "max           1.000000                    1.000000  "
      ]
     },
     "execution_count": 2,
     "metadata": {},
     "output_type": "execute_result"
    }
   ],
   "source": [
    "# Importing the pre-processed version of the data and turning the target variable into a binary variable\n",
    "df = pd.read_csv(\"preproc_data.csv\")\n",
    "df = df.iloc[:, 1:]\n",
    "df['churn'] = df['churn'].map({'No': 0, 'Yes': 1})\n",
    "df.describe(include='all')"
   ]
  },
  {
   "cell_type": "code",
   "execution_count": 3,
   "metadata": {},
   "outputs": [],
   "source": [
    "# Separating the dependent from the independent variables\n",
    "X = df.drop('churn', axis=1).to_numpy()\n",
    "y = df.loc[:, 'churn'].to_numpy()"
   ]
  },
  {
   "cell_type": "code",
   "execution_count": 4,
   "metadata": {},
   "outputs": [
    {
     "name": "stdout",
     "output_type": "stream",
     "text": [
      "Array before: yes 519, no 3273\n",
      "Array after: yes 519, no 3273\n"
     ]
    }
   ],
   "source": [
    "# Apply undersampling to the imbalanced class\n",
    "\n",
    "Xtrain, X_test, ytrain, y_test = train_test_split(X, y, test_size=0.2, random_state=42)\n",
    "\n",
    "count_no = np.sum(ytrain == 0)\n",
    "count_yes = np.sum(ytrain == 1)\n",
    "print(f\"Array before: yes {count_yes}, no {count_no}\")\n",
    "\n",
    "# Apply RandomUnderSampler to address class imbalance\n",
    "rus = RandomUnderSampler(random_state=42)\n",
    "X_train, y_train = rus.fit_resample(Xtrain, ytrain)\n",
    "\n",
    "count_no = np.sum(ytrain == 0)\n",
    "count_yes = np.sum(ytrain == 1)\n",
    "print(f\"Array after: yes {count_yes}, no {count_no}\")"
   ]
  },
  {
   "cell_type": "markdown",
   "metadata": {},
   "source": [
    "Now we will do a grid search over a set of parameters to find out what are the best hyperparameters for accuracy and for F1-Score."
   ]
  },
  {
   "cell_type": "code",
   "execution_count": 5,
   "metadata": {},
   "outputs": [
    {
     "name": "stdout",
     "output_type": "stream",
     "text": [
      "Fitting 5 folds for each of 192 candidates, totalling 960 fits\n",
      "{'C': 10, 'degree': 2, 'gamma': 1, 'kernel': 'rbf'}\n",
      "Fitting 5 folds for each of 192 candidates, totalling 960 fits\n",
      "{'C': 10, 'degree': 2, 'gamma': 1, 'kernel': 'rbf'}\n"
     ]
    }
   ],
   "source": [
    "params = {\n",
    "    'kernel': ['linear', 'rbf', 'poly', 'sigmoid'],\n",
    "    'C': [0.1, 1, 10, 100],\n",
    "    'gamma': ['auto', 'scale', 0.1, 1],\n",
    "    'degree': [2, 3, 4],\n",
    "    }\n",
    "\n",
    "clf_accuracy = GridSearchCV(estimator=SVC(),param_grid=params,cv=5,n_jobs=5,verbose=1,scoring='accuracy')\n",
    "clf_accuracy.fit(X_train,y_train)\n",
    "\n",
    "print(clf_accuracy.best_params_)\n",
    "svc_accuracy = SVC(**clf_accuracy.best_params_) \n",
    "\n",
    "f1 = sklearn.metrics.make_scorer(sklearn.metrics.f1_score, average='micro')\n",
    "\n",
    "clf_f1 = GridSearchCV(estimator=SVC(),param_grid=params,cv=5,n_jobs=5,verbose=1,scoring=f1)\n",
    "clf_f1.fit(X_train,y_train)\n",
    "\n",
    "print(clf_f1.best_params_)\n",
    "svc_f1 = SVC(**clf_accuracy.best_params_) \n",
    "\n",
    "combi_svc = VotingClassifier(estimators=[('acc', svc_accuracy), ('f1', svc_f1)], voting='soft')"
   ]
  },
  {
   "cell_type": "markdown",
   "metadata": {},
   "source": [
    "The best hyperparameters ended up being the same for both the accuracy and F1 models. We will use cross validation to confirm one of the hyperparameters. In this case, we will check the C hyperparameter."
   ]
  },
  {
   "cell_type": "code",
   "execution_count": 6,
   "metadata": {},
   "outputs": [],
   "source": [
    "def cvSVMC(min, max, div, scoring):\n",
    "    scorings = [0] * (max-min+1)\n",
    "    list = [*range(min, max+1)]\n",
    "    cValues = [x/div for x in list]\n",
    "    j = 0\n",
    "    for i in cValues:\n",
    "        svm = SVC(kernel='rbf', C=i, gamma=1, degree=2)\n",
    "        scores=cross_val_score(svm, X_train, y_train, cv=10, scoring=scoring)\n",
    "\n",
    "        scorings[j] = scores.mean()\n",
    "        j+=1\n",
    "\n",
    "    plt.scatter(cValues, scorings)\n",
    "\n",
    "    plt.xlabel('C')\n",
    "    plt.ylabel(scoring)\n",
    "\n",
    "    plt.title(f'Relation between hyperparameter C and {scoring} for RBF Kernel')\n",
    "    plt.show()\n"
   ]
  },
  {
   "cell_type": "code",
   "execution_count": 7,
   "metadata": {},
   "outputs": [
    {
     "data": {
      "image/png": "[encoded data removed]",
      "text/plain": [
       "<Figure size 640x480 with 1 Axes>"
      ]
     },
     "metadata": {},
     "output_type": "display_data"
    }
   ],
   "source": [
    "cvSVMC(min=15, max=45, div=3, scoring='accuracy')"
   ]
  },
  {
   "cell_type": "markdown",
   "metadata": {},
   "source": [
    "\n",
    "\n",
    "We can see that the values have very low variance, and there seems to be a drop from C=9.5 to 10, and then the values decrease until C=12. This might indicate that the there is some overfitting for smaller values of C, and underfitting for bigger values.\n"
   ]
  },
  {
   "cell_type": "markdown",
   "metadata": {},
   "source": [
    "Next, we will evaluate the final model."
   ]
  },
  {
   "cell_type": "code",
   "execution_count": 8,
   "metadata": {},
   "outputs": [],
   "source": [
    "def evaluate(model):\n",
    "    predictions = model.predict(X_test)\n",
    "\n",
    "    cm = metrics.confusion_matrix(y_test, predictions)\n",
    "\n",
    "    #ConfusionMatrixDisplay.from_estimator(model, X_test, y_test)\n",
    "    #plt.show()\n",
    "\n",
    "    print(cm)\n",
    "\n",
    "    tp = cm[1][1]\n",
    "    tn = cm[0][0]\n",
    "    fp = cm[0][1]\n",
    "    fn = cm[1][0]\n",
    "    total = tp + tn + fp + fn\n",
    "    recall = tp/(tp+fn)\n",
    "    precision = tp/(tp+fp)\n",
    "\n",
    "    print(f\"SVM:\")\n",
    "    print(f\"TP: {tp}, TN: {tn}, FP: {fp}, FN: {fn}\")\n",
    "\n",
    "    print(f\"Accuracy: {(tp+tn)/total}\")\n",
    "    print(f\"Error: {1-(tp+tn)/total}\")\n",
    "    print(f\"Recall: {recall}\")\n",
    "    print(f\"Specificity: {tn/(tn+fp)}\")\n",
    "    print(f\"Precision: {precision}\")\n",
    "    print(f\"F1: {2*recall*precision/(recall+precision)}\")"
   ]
  },
  {
   "cell_type": "code",
   "execution_count": 9,
   "metadata": {},
   "outputs": [
    {
     "name": "stdout",
     "output_type": "stream",
     "text": [
      "[[804  17]\n",
      " [ 53  74]]\n",
      "SVM:\n",
      "TP: 74, TN: 804, FP: 17, FN: 53\n",
      "Accuracy: 0.9261603375527426\n",
      "Error: 0.07383966244725737\n",
      "Recall: 0.5826771653543307\n",
      "Specificity: 0.9792935444579781\n",
      "Precision: 0.8131868131868132\n",
      "F1: 0.6788990825688073\n"
     ]
    }
   ],
   "source": [
    "#Best Results for Acc and F1: Kernel = RBF, C = 10, Gamma = 1, Degree = 2\n",
    "\n",
    "svm = SVC(kernel='rbf', C=10, gamma=1, degree=2)\n",
    "svm.fit(Xtrain, ytrain)\n",
    "evaluate(svm)"
   ]
  },
  {
   "cell_type": "markdown",
   "metadata": {},
   "source": [
    "Overall, the SVM has a high accuracy, but a disappointing F1-Score. This may mean that the SVM did not do a good job dealing with unbalanced classes."
   ]
  }
 ],
 "metadata": {
  "kernelspec": {
   "display_name": "base",
   "language": "python",
   "name": "python3"
  },
  "language_info": {
   "codemirror_mode": {
    "name": "ipython",
    "version": 3
   },
   "file_extension": ".py",
   "mimetype": "text/x-python",
   "name": "python",
   "nbconvert_exporter": "python",
   "pygments_lexer": "ipython3",
   "version": "3.9.13"
  }
 },
 "nbformat": 4,
 "nbformat_minor": 2
}
