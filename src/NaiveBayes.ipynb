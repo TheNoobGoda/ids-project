{
 "cells": [
  {
   "cell_type": "code",
   "execution_count": 1,
   "id": "8f1d5753",
   "metadata": {},
   "outputs": [],
   "source": [
    "from sklearn.naive_bayes import GaussianNB, CategoricalNB\n",
    "from sklearn.model_selection import train_test_split\n",
    "import sklearn.metrics as metrics\n",
    "import pandas as pd\n",
    "import numpy as np\n",
    "import seaborn as sns\n",
    "import matplotlib.pyplot as plt\n",
    "from imblearn.over_sampling import RandomOverSampler\n",
    "from sklearn.metrics import ConfusionMatrixDisplay\n",
    "from mixed_naive_bayes import MixedNB"
   ]
  },
  {
   "cell_type": "code",
   "execution_count": 2,
   "id": "4ac2f55a",
   "metadata": {},
   "outputs": [
    {
     "data": {
      "text/html": [
       "<div>\n",
       "<style scoped>\n",
       "    .dataframe tbody tr th:only-of-type {\n",
       "        vertical-align: middle;\n",
       "    }\n",
       "\n",
       "    .dataframe tbody tr th {\n",
       "        vertical-align: top;\n",
       "    }\n",
       "\n",
       "    .dataframe thead th {\n",
       "        text-align: right;\n",
       "    }\n",
       "</style>\n",
       "<table border=\"1\" class=\"dataframe\">\n",
       "  <thead>\n",
       "    <tr style=\"text-align: right;\">\n",
       "      <th></th>\n",
       "      <th>churn</th>\n",
       "      <th>accountlength</th>\n",
       "      <th>internationalplan</th>\n",
       "      <th>voicemailplan</th>\n",
       "      <th>numbervmailmessages</th>\n",
       "      <th>totaldayminutes</th>\n",
       "      <th>totaldaycalls</th>\n",
       "      <th>totalevecalls</th>\n",
       "      <th>totalevecharge</th>\n",
       "      <th>totalnightminutes</th>\n",
       "      <th>totalnightcalls</th>\n",
       "      <th>totalintlcalls</th>\n",
       "      <th>totalintlcharge</th>\n",
       "      <th>numbercustomerservicecalls</th>\n",
       "    </tr>\n",
       "  </thead>\n",
       "  <tbody>\n",
       "    <tr>\n",
       "      <th>count</th>\n",
       "      <td>4740.000000</td>\n",
       "      <td>4740.000000</td>\n",
       "      <td>4740.000000</td>\n",
       "      <td>4740.000000</td>\n",
       "      <td>4740.000000</td>\n",
       "      <td>4740.000000</td>\n",
       "      <td>4740.000000</td>\n",
       "      <td>4740.000000</td>\n",
       "      <td>4740.000000</td>\n",
       "      <td>4740.000000</td>\n",
       "      <td>4740.000000</td>\n",
       "      <td>4740.000000</td>\n",
       "      <td>4740.000000</td>\n",
       "      <td>4740.000000</td>\n",
       "    </tr>\n",
       "    <tr>\n",
       "      <th>mean</th>\n",
       "      <td>0.136287</td>\n",
       "      <td>0.457745</td>\n",
       "      <td>0.905696</td>\n",
       "      <td>0.739873</td>\n",
       "      <td>0.159757</td>\n",
       "      <td>0.505552</td>\n",
       "      <td>0.500827</td>\n",
       "      <td>0.498255</td>\n",
       "      <td>0.494973</td>\n",
       "      <td>0.500983</td>\n",
       "      <td>0.494609</td>\n",
       "      <td>0.331994</td>\n",
       "      <td>0.503846</td>\n",
       "      <td>0.304536</td>\n",
       "    </tr>\n",
       "    <tr>\n",
       "      <th>std</th>\n",
       "      <td>0.343129</td>\n",
       "      <td>0.181672</td>\n",
       "      <td>0.292282</td>\n",
       "      <td>0.438750</td>\n",
       "      <td>0.279362</td>\n",
       "      <td>0.166457</td>\n",
       "      <td>0.168083</td>\n",
       "      <td>0.167155</td>\n",
       "      <td>0.166495</td>\n",
       "      <td>0.165245</td>\n",
       "      <td>0.166795</td>\n",
       "      <td>0.214228</td>\n",
       "      <td>0.160508</td>\n",
       "      <td>0.241370</td>\n",
       "    </tr>\n",
       "    <tr>\n",
       "      <th>min</th>\n",
       "      <td>0.000000</td>\n",
       "      <td>0.000000</td>\n",
       "      <td>0.000000</td>\n",
       "      <td>0.000000</td>\n",
       "      <td>0.000000</td>\n",
       "      <td>0.000000</td>\n",
       "      <td>0.000000</td>\n",
       "      <td>0.000000</td>\n",
       "      <td>0.000000</td>\n",
       "      <td>0.000000</td>\n",
       "      <td>0.000000</td>\n",
       "      <td>0.000000</td>\n",
       "      <td>0.000000</td>\n",
       "      <td>0.000000</td>\n",
       "    </tr>\n",
       "    <tr>\n",
       "      <th>25%</th>\n",
       "      <td>0.000000</td>\n",
       "      <td>0.333333</td>\n",
       "      <td>1.000000</td>\n",
       "      <td>0.000000</td>\n",
       "      <td>0.000000</td>\n",
       "      <td>0.390718</td>\n",
       "      <td>0.387931</td>\n",
       "      <td>0.384615</td>\n",
       "      <td>0.381154</td>\n",
       "      <td>0.390203</td>\n",
       "      <td>0.384615</td>\n",
       "      <td>0.200000</td>\n",
       "      <td>0.397727</td>\n",
       "      <td>0.200000</td>\n",
       "    </tr>\n",
       "    <tr>\n",
       "      <th>50%</th>\n",
       "      <td>0.000000</td>\n",
       "      <td>0.458333</td>\n",
       "      <td>1.000000</td>\n",
       "      <td>1.000000</td>\n",
       "      <td>0.000000</td>\n",
       "      <td>0.503606</td>\n",
       "      <td>0.500000</td>\n",
       "      <td>0.504274</td>\n",
       "      <td>0.495865</td>\n",
       "      <td>0.501166</td>\n",
       "      <td>0.495726</td>\n",
       "      <td>0.300000</td>\n",
       "      <td>0.509091</td>\n",
       "      <td>0.200000</td>\n",
       "    </tr>\n",
       "    <tr>\n",
       "      <th>75%</th>\n",
       "      <td>0.000000</td>\n",
       "      <td>0.578704</td>\n",
       "      <td>1.000000</td>\n",
       "      <td>1.000000</td>\n",
       "      <td>0.333333</td>\n",
       "      <td>0.618140</td>\n",
       "      <td>0.612069</td>\n",
       "      <td>0.615385</td>\n",
       "      <td>0.605849</td>\n",
       "      <td>0.614878</td>\n",
       "      <td>0.606838</td>\n",
       "      <td>0.500000</td>\n",
       "      <td>0.613636</td>\n",
       "      <td>0.400000</td>\n",
       "    </tr>\n",
       "    <tr>\n",
       "      <th>max</th>\n",
       "      <td>1.000000</td>\n",
       "      <td>1.000000</td>\n",
       "      <td>1.000000</td>\n",
       "      <td>1.000000</td>\n",
       "      <td>1.000000</td>\n",
       "      <td>1.000000</td>\n",
       "      <td>1.000000</td>\n",
       "      <td>1.000000</td>\n",
       "      <td>1.000000</td>\n",
       "      <td>1.000000</td>\n",
       "      <td>1.000000</td>\n",
       "      <td>1.000000</td>\n",
       "      <td>1.000000</td>\n",
       "      <td>1.000000</td>\n",
       "    </tr>\n",
       "  </tbody>\n",
       "</table>\n",
       "</div>"
      ],
      "text/plain": [
       "             churn  accountlength  internationalplan  voicemailplan  \\\n",
       "count  4740.000000    4740.000000        4740.000000    4740.000000   \n",
       "mean      0.136287       0.457745           0.905696       0.739873   \n",
       "std       0.343129       0.181672           0.292282       0.438750   \n",
       "min       0.000000       0.000000           0.000000       0.000000   \n",
       "25%       0.000000       0.333333           1.000000       0.000000   \n",
       "50%       0.000000       0.458333           1.000000       1.000000   \n",
       "75%       0.000000       0.578704           1.000000       1.000000   \n",
       "max       1.000000       1.000000           1.000000       1.000000   \n",
       "\n",
       "       numbervmailmessages  totaldayminutes  totaldaycalls  totalevecalls  \\\n",
       "count          4740.000000      4740.000000    4740.000000    4740.000000   \n",
       "mean              0.159757         0.505552       0.500827       0.498255   \n",
       "std               0.279362         0.166457       0.168083       0.167155   \n",
       "min               0.000000         0.000000       0.000000       0.000000   \n",
       "25%               0.000000         0.390718       0.387931       0.384615   \n",
       "50%               0.000000         0.503606       0.500000       0.504274   \n",
       "75%               0.333333         0.618140       0.612069       0.615385   \n",
       "max               1.000000         1.000000       1.000000       1.000000   \n",
       "\n",
       "       totalevecharge  totalnightminutes  totalnightcalls  totalintlcalls  \\\n",
       "count     4740.000000        4740.000000      4740.000000     4740.000000   \n",
       "mean         0.494973           0.500983         0.494609        0.331994   \n",
       "std          0.166495           0.165245         0.166795        0.214228   \n",
       "min          0.000000           0.000000         0.000000        0.000000   \n",
       "25%          0.381154           0.390203         0.384615        0.200000   \n",
       "50%          0.495865           0.501166         0.495726        0.300000   \n",
       "75%          0.605849           0.614878         0.606838        0.500000   \n",
       "max          1.000000           1.000000         1.000000        1.000000   \n",
       "\n",
       "       totalintlcharge  numbercustomerservicecalls  \n",
       "count      4740.000000                 4740.000000  \n",
       "mean          0.503846                    0.304536  \n",
       "std           0.160508                    0.241370  \n",
       "min           0.000000                    0.000000  \n",
       "25%           0.397727                    0.200000  \n",
       "50%           0.509091                    0.200000  \n",
       "75%           0.613636                    0.400000  \n",
       "max           1.000000                    1.000000  "
      ]
     },
     "execution_count": 2,
     "metadata": {},
     "output_type": "execute_result"
    }
   ],
   "source": [
    "# Importing the pre-processed version of the data and turnign the target variable into a binary variable\n",
    "df = pd.read_csv(\"preproc_data.csv\")\n",
    "df = df.iloc[:, 1:]\n",
    "df['churn'] = df['churn'].map({'No': 0, 'Yes': 1})\n",
    "df.describe(include='all')"
   ]
  },
  {
   "cell_type": "code",
   "execution_count": 3,
   "id": "5535e5b7",
   "metadata": {},
   "outputs": [],
   "source": [
    "# Separating the dependent from the independent variables\n",
    "X = df.drop('churn', axis=1).to_numpy()\n",
    "y = df.loc[:, 'churn'].to_numpy()"
   ]
  },
  {
   "cell_type": "markdown",
   "id": "f233cd4c",
   "metadata": {},
   "source": [
    "The Naive Bayes works under such assumptions that are best kept if the size of the dataset is large. Therefore, while balancing the classes, we will choose to do oversampling."
   ]
  },
  {
   "cell_type": "code",
   "execution_count": 4,
   "id": "b04afefb",
   "metadata": {},
   "outputs": [
    {
     "name": "stdout",
     "output_type": "stream",
     "text": [
      "Array before: yes 519, no 3273\n",
      "Array after: yes 3273, no 3273\n"
     ]
    }
   ],
   "source": [
    "# Apply oversampling to the imbalanced class\n",
    "\n",
    "Xtrain, Xtest, ytrain, ytest = train_test_split(X, y, test_size=0.2, random_state=42)\n",
    "\n",
    "count_no = np.sum(ytrain == 0)\n",
    "count_yes = np.sum(ytrain == 1)\n",
    "print(f\"Array before: yes {count_yes}, no {count_no}\")\n",
    "\n",
    "# Apply RandomOverSampler to address class imbalance\n",
    "rus = RandomOverSampler(random_state=42)\n",
    "Xtrain, ytrain = rus.fit_resample(Xtrain, ytrain)\n",
    "\n",
    "count_no = np.sum(ytrain == 0)\n",
    "count_yes = np.sum(ytrain == 1)\n",
    "print(f\"Array after: yes {count_yes}, no {count_no}\")"
   ]
  },
  {
   "cell_type": "code",
   "execution_count": 9,
   "id": "af62dd3f",
   "metadata": {},
   "outputs": [
    {
     "data": {
      "text/plain": [
       "array([[0.38425926, 1.        , 1.        , ..., 0.3       , 0.27045455,\n",
       "        0.        ],\n",
       "       [0.45960455, 1.        , 0.        , ..., 0.2       , 0.51590909,\n",
       "        0.4       ],\n",
       "       [0.53240741, 1.        , 0.        , ..., 0.2       , 0.59545455,\n",
       "        0.4       ],\n",
       "       ...,\n",
       "       [0.50925926, 0.        , 1.        , ..., 0.1       , 0.40681818,\n",
       "        0.4       ],\n",
       "       [0.68055556, 0.        , 1.        , ..., 0.1       , 0.45909091,\n",
       "        0.        ],\n",
       "       [0.2962963 , 1.        , 1.        , ..., 0.4       , 0.12727273,\n",
       "        0.8       ]])"
      ]
     },
     "execution_count": 9,
     "metadata": {},
     "output_type": "execute_result"
    }
   ],
   "source": [
    "Xtrain"
   ]
  },
  {
   "cell_type": "code",
   "execution_count": 5,
   "id": "ac6ff413",
   "metadata": {},
   "outputs": [],
   "source": [
    "def evaluate(model, model_name, columns):\n",
    "    predictions = model.predict(Xtest[:, columns])\n",
    "\n",
    "    cm = metrics.confusion_matrix(ytest, predictions)\n",
    "\n",
    "    disp = ConfusionMatrixDisplay(cm)\n",
    "    disp.plot()\n",
    "    plt.show()\n",
    "\n",
    "    tp = cm[1][1]\n",
    "    tn = cm[0][0]\n",
    "    fp = cm[0][1]\n",
    "    fn = cm[1][0]\n",
    "    total = tp + tn + fp + fn\n",
    "    recall = tp/(tp+fn)\n",
    "    precision = tp/(tp+fp)\n",
    "\n",
    "    print(f\"{model_name} Kernel SVM:\")\n",
    "    print(f\"TP: {tp}, TN: {tn}, FP: {fp}, FN: {fn}\")\n",
    "\n",
    "    print(f\"Accuracy: {(tp+tn)/total}\")\n",
    "    print(f\"Error: {1-(tp+tn)/total}\")\n",
    "    print(f\"Recall: {recall}\")\n",
    "    print(f\"Specificity: {tn/(tn+fp)}\")\n",
    "    print(f\"Precision: {precision}\")\n",
    "    print(f\"F1: {2*recall*precision/(recall+precision)}\")"
   ]
  },
  {
   "cell_type": "markdown",
   "id": "16a6eb37",
   "metadata": {},
   "source": [
    "We have to choose an algorithm for Naive Bayes. In this case, we have both continuous and categorical variables. We will start by using only the continuous variables and use Gaussian Naive Bayes. Then, we will use only the categorical variables and use the Categorical Naive Bayes. Finally, we will use all the variables with the Mixed Naive Bayes. Since all of these models do not require any significant hyperparameters, we will use a simple holdout technique to evaluate them. "
   ]
  },
  {
   "cell_type": "code",
   "execution_count": 6,
   "id": "4f0d6889",
   "metadata": {},
   "outputs": [],
   "source": [
    "exclude_gaussian = np.array([True, False, False, True, True, True, True, True, True, True, True, True, True])\n",
    "exclude_categorical = ~exclude_gaussian"
   ]
  },
  {
   "cell_type": "code",
   "execution_count": 7,
   "id": "6378af0e",
   "metadata": {},
   "outputs": [
    {
     "data": {
      "text/html": [
       "<style>#sk-container-id-1 {color: black;background-color: white;}#sk-container-id-1 pre{padding: 0;}#sk-container-id-1 div.sk-toggleable {background-color: white;}#sk-container-id-1 label.sk-toggleable__label {cursor: pointer;display: block;width: 100%;margin-bottom: 0;padding: 0.3em;box-sizing: border-box;text-align: center;}#sk-container-id-1 label.sk-toggleable__label-arrow:before {content: \"▸\";float: left;margin-right: 0.25em;color: #696969;}#sk-container-id-1 label.sk-toggleable__label-arrow:hover:before {color: black;}#sk-container-id-1 div.sk-estimator:hover label.sk-toggleable__label-arrow:before {color: black;}#sk-container-id-1 div.sk-toggleable__content {max-height: 0;max-width: 0;overflow: hidden;text-align: left;background-color: #f0f8ff;}#sk-container-id-1 div.sk-toggleable__content pre {margin: 0.2em;color: black;border-radius: 0.25em;background-color: #f0f8ff;}#sk-container-id-1 input.sk-toggleable__control:checked~div.sk-toggleable__content {max-height: 200px;max-width: 100%;overflow: auto;}#sk-container-id-1 input.sk-toggleable__control:checked~label.sk-toggleable__label-arrow:before {content: \"▾\";}#sk-container-id-1 div.sk-estimator input.sk-toggleable__control:checked~label.sk-toggleable__label {background-color: #d4ebff;}#sk-container-id-1 div.sk-label input.sk-toggleable__control:checked~label.sk-toggleable__label {background-color: #d4ebff;}#sk-container-id-1 input.sk-hidden--visually {border: 0;clip: rect(1px 1px 1px 1px);clip: rect(1px, 1px, 1px, 1px);height: 1px;margin: -1px;overflow: hidden;padding: 0;position: absolute;width: 1px;}#sk-container-id-1 div.sk-estimator {font-family: monospace;background-color: #f0f8ff;border: 1px dotted black;border-radius: 0.25em;box-sizing: border-box;margin-bottom: 0.5em;}#sk-container-id-1 div.sk-estimator:hover {background-color: #d4ebff;}#sk-container-id-1 div.sk-parallel-item::after {content: \"\";width: 100%;border-bottom: 1px solid gray;flex-grow: 1;}#sk-container-id-1 div.sk-label:hover label.sk-toggleable__label {background-color: #d4ebff;}#sk-container-id-1 div.sk-serial::before {content: \"\";position: absolute;border-left: 1px solid gray;box-sizing: border-box;top: 0;bottom: 0;left: 50%;z-index: 0;}#sk-container-id-1 div.sk-serial {display: flex;flex-direction: column;align-items: center;background-color: white;padding-right: 0.2em;padding-left: 0.2em;position: relative;}#sk-container-id-1 div.sk-item {position: relative;z-index: 1;}#sk-container-id-1 div.sk-parallel {display: flex;align-items: stretch;justify-content: center;background-color: white;position: relative;}#sk-container-id-1 div.sk-item::before, #sk-container-id-1 div.sk-parallel-item::before {content: \"\";position: absolute;border-left: 1px solid gray;box-sizing: border-box;top: 0;bottom: 0;left: 50%;z-index: -1;}#sk-container-id-1 div.sk-parallel-item {display: flex;flex-direction: column;z-index: 1;position: relative;background-color: white;}#sk-container-id-1 div.sk-parallel-item:first-child::after {align-self: flex-end;width: 50%;}#sk-container-id-1 div.sk-parallel-item:last-child::after {align-self: flex-start;width: 50%;}#sk-container-id-1 div.sk-parallel-item:only-child::after {width: 0;}#sk-container-id-1 div.sk-dashed-wrapped {border: 1px dashed gray;margin: 0 0.4em 0.5em 0.4em;box-sizing: border-box;padding-bottom: 0.4em;background-color: white;}#sk-container-id-1 div.sk-label label {font-family: monospace;font-weight: bold;display: inline-block;line-height: 1.2em;}#sk-container-id-1 div.sk-label-container {text-align: center;}#sk-container-id-1 div.sk-container {/* jupyter's `normalize.less` sets `[hidden] { display: none; }` but bootstrap.min.css set `[hidden] { display: none !important; }` so we also need the `!important` here to be able to override the default hidden behavior on the sphinx rendered scikit-learn.org. See: https://github.com/scikit-learn/scikit-learn/issues/21755 */display: inline-block !important;position: relative;}#sk-container-id-1 div.sk-text-repr-fallback {display: none;}</style><div id=\"sk-container-id-1\" class=\"sk-top-container\"><div class=\"sk-text-repr-fallback\"><pre>GaussianNB()</pre><b>In a Jupyter environment, please rerun this cell to show the HTML representation or trust the notebook. <br />On GitHub, the HTML representation is unable to render, please try loading this page with nbviewer.org.</b></div><div class=\"sk-container\" hidden><div class=\"sk-item\"><div class=\"sk-estimator sk-toggleable\"><input class=\"sk-toggleable__control sk-hidden--visually\" id=\"sk-estimator-id-1\" type=\"checkbox\" checked><label for=\"sk-estimator-id-1\" class=\"sk-toggleable__label sk-toggleable__label-arrow\">GaussianNB</label><div class=\"sk-toggleable__content\"><pre>GaussianNB()</pre></div></div></div></div></div>"
      ],
      "text/plain": [
       "GaussianNB()"
      ]
     },
     "execution_count": 7,
     "metadata": {},
     "output_type": "execute_result"
    }
   ],
   "source": [
    "gnb=GaussianNB()\n",
    "gnb.fit(Xtrain[:, exclude_gaussian],ytrain)"
   ]
  },
  {
   "cell_type": "code",
   "execution_count": 99,
   "id": "c6799a59",
   "metadata": {},
   "outputs": [
    {
     "data": {
      "image/png": "[encoded data removed]",
      "text/plain": [
       "<Figure size 640x480 with 2 Axes>"
      ]
     },
     "metadata": {},
     "output_type": "display_data"
    },
    {
     "name": "stdout",
     "output_type": "stream",
     "text": [
      "Gaussian Kernel SVM:\n",
      "TP: 90, TN: 574, FP: 247, FN: 37\n",
      "Accuracy: 0.70042194092827\n",
      "Error: 0.29957805907172996\n",
      "Recall: 0.7086614173228346\n",
      "Specificity: 0.6991473812423873\n",
      "Precision: 0.26706231454005935\n",
      "F1: 0.3879310344827586\n"
     ]
    }
   ],
   "source": [
    "evaluate(gnb, \"Gaussian\", exclude_gaussian)"
   ]
  },
  {
   "cell_type": "markdown",
   "id": "68755116",
   "metadata": {},
   "source": [
    "The scores show an overall decent accuracy and recall, making this a potential winner for the type of Naive Bayes algorithm we should choose."
   ]
  },
  {
   "cell_type": "code",
   "execution_count": 100,
   "id": "be3fb6c9",
   "metadata": {},
   "outputs": [
    {
     "data": {
      "text/html": [
       "<style>#sk-container-id-16 {color: black;background-color: white;}#sk-container-id-16 pre{padding: 0;}#sk-container-id-16 div.sk-toggleable {background-color: white;}#sk-container-id-16 label.sk-toggleable__label {cursor: pointer;display: block;width: 100%;margin-bottom: 0;padding: 0.3em;box-sizing: border-box;text-align: center;}#sk-container-id-16 label.sk-toggleable__label-arrow:before {content: \"▸\";float: left;margin-right: 0.25em;color: #696969;}#sk-container-id-16 label.sk-toggleable__label-arrow:hover:before {color: black;}#sk-container-id-16 div.sk-estimator:hover label.sk-toggleable__label-arrow:before {color: black;}#sk-container-id-16 div.sk-toggleable__content {max-height: 0;max-width: 0;overflow: hidden;text-align: left;background-color: #f0f8ff;}#sk-container-id-16 div.sk-toggleable__content pre {margin: 0.2em;color: black;border-radius: 0.25em;background-color: #f0f8ff;}#sk-container-id-16 input.sk-toggleable__control:checked~div.sk-toggleable__content {max-height: 200px;max-width: 100%;overflow: auto;}#sk-container-id-16 input.sk-toggleable__control:checked~label.sk-toggleable__label-arrow:before {content: \"▾\";}#sk-container-id-16 div.sk-estimator input.sk-toggleable__control:checked~label.sk-toggleable__label {background-color: #d4ebff;}#sk-container-id-16 div.sk-label input.sk-toggleable__control:checked~label.sk-toggleable__label {background-color: #d4ebff;}#sk-container-id-16 input.sk-hidden--visually {border: 0;clip: rect(1px 1px 1px 1px);clip: rect(1px, 1px, 1px, 1px);height: 1px;margin: -1px;overflow: hidden;padding: 0;position: absolute;width: 1px;}#sk-container-id-16 div.sk-estimator {font-family: monospace;background-color: #f0f8ff;border: 1px dotted black;border-radius: 0.25em;box-sizing: border-box;margin-bottom: 0.5em;}#sk-container-id-16 div.sk-estimator:hover {background-color: #d4ebff;}#sk-container-id-16 div.sk-parallel-item::after {content: \"\";width: 100%;border-bottom: 1px solid gray;flex-grow: 1;}#sk-container-id-16 div.sk-label:hover label.sk-toggleable__label {background-color: #d4ebff;}#sk-container-id-16 div.sk-serial::before {content: \"\";position: absolute;border-left: 1px solid gray;box-sizing: border-box;top: 0;bottom: 0;left: 50%;z-index: 0;}#sk-container-id-16 div.sk-serial {display: flex;flex-direction: column;align-items: center;background-color: white;padding-right: 0.2em;padding-left: 0.2em;position: relative;}#sk-container-id-16 div.sk-item {position: relative;z-index: 1;}#sk-container-id-16 div.sk-parallel {display: flex;align-items: stretch;justify-content: center;background-color: white;position: relative;}#sk-container-id-16 div.sk-item::before, #sk-container-id-16 div.sk-parallel-item::before {content: \"\";position: absolute;border-left: 1px solid gray;box-sizing: border-box;top: 0;bottom: 0;left: 50%;z-index: -1;}#sk-container-id-16 div.sk-parallel-item {display: flex;flex-direction: column;z-index: 1;position: relative;background-color: white;}#sk-container-id-16 div.sk-parallel-item:first-child::after {align-self: flex-end;width: 50%;}#sk-container-id-16 div.sk-parallel-item:last-child::after {align-self: flex-start;width: 50%;}#sk-container-id-16 div.sk-parallel-item:only-child::after {width: 0;}#sk-container-id-16 div.sk-dashed-wrapped {border: 1px dashed gray;margin: 0 0.4em 0.5em 0.4em;box-sizing: border-box;padding-bottom: 0.4em;background-color: white;}#sk-container-id-16 div.sk-label label {font-family: monospace;font-weight: bold;display: inline-block;line-height: 1.2em;}#sk-container-id-16 div.sk-label-container {text-align: center;}#sk-container-id-16 div.sk-container {/* jupyter's `normalize.less` sets `[hidden] { display: none; }` but bootstrap.min.css set `[hidden] { display: none !important; }` so we also need the `!important` here to be able to override the default hidden behavior on the sphinx rendered scikit-learn.org. See: https://github.com/scikit-learn/scikit-learn/issues/21755 */display: inline-block !important;position: relative;}#sk-container-id-16 div.sk-text-repr-fallback {display: none;}</style><div id=\"sk-container-id-16\" class=\"sk-top-container\"><div class=\"sk-text-repr-fallback\"><pre>CategoricalNB()</pre><b>In a Jupyter environment, please rerun this cell to show the HTML representation or trust the notebook. <br />On GitHub, the HTML representation is unable to render, please try loading this page with nbviewer.org.</b></div><div class=\"sk-container\" hidden><div class=\"sk-item\"><div class=\"sk-estimator sk-toggleable\"><input class=\"sk-toggleable__control sk-hidden--visually\" id=\"sk-estimator-id-16\" type=\"checkbox\" checked><label for=\"sk-estimator-id-16\" class=\"sk-toggleable__label sk-toggleable__label-arrow\">CategoricalNB</label><div class=\"sk-toggleable__content\"><pre>CategoricalNB()</pre></div></div></div></div></div>"
      ],
      "text/plain": [
       "CategoricalNB()"
      ]
     },
     "execution_count": 100,
     "metadata": {},
     "output_type": "execute_result"
    }
   ],
   "source": [
    "cnb = CategoricalNB()\n",
    "cnb.fit(Xtrain[:, exclude_categorical],ytrain)"
   ]
  },
  {
   "cell_type": "code",
   "execution_count": 101,
   "id": "14fa66ed",
   "metadata": {},
   "outputs": [
    {
     "data": {
      "image/png": "[encoded data removed]",
      "text/plain": [
       "<Figure size 640x480 with 2 Axes>"
      ]
     },
     "metadata": {},
     "output_type": "display_data"
    },
    {
     "name": "stdout",
     "output_type": "stream",
     "text": [
      "Categorical Kernel SVM:\n",
      "TP: 35, TN: 780, FP: 41, FN: 92\n",
      "Accuracy: 0.859704641350211\n",
      "Error: 0.14029535864978904\n",
      "Recall: 0.2755905511811024\n",
      "Specificity: 0.9500609013398295\n",
      "Precision: 0.4605263157894737\n",
      "F1: 0.34482758620689663\n"
     ]
    }
   ],
   "source": [
    "evaluate(cnb, 'Categorical', exclude_categorical)"
   ]
  },
  {
   "cell_type": "markdown",
   "id": "9ce8223a",
   "metadata": {},
   "source": [
    "The accuracy on the categorical Naive Bayes is higher, but the recall is much worse. We will prefer using the Gaussian Naive Bayes over the Categorical."
   ]
  },
  {
   "cell_type": "code",
   "execution_count": 102,
   "id": "2a60f7b6",
   "metadata": {},
   "outputs": [
    {
     "data": {
      "text/plain": [
       "MixedNB(alpha=0.5, var_smoothing=1e-09)"
      ]
     },
     "execution_count": 102,
     "metadata": {},
     "output_type": "execute_result"
    }
   ],
   "source": [
    "mnb = MixedNB(categorical_features=[1, 2])\n",
    "mnb.fit(Xtrain, ytrain)"
   ]
  },
  {
   "cell_type": "code",
   "execution_count": 103,
   "id": "8a3b6c3f",
   "metadata": {},
   "outputs": [
    {
     "data": {
      "image/png": "[encoded data removed]",
      "text/plain": [
       "<Figure size 640x480 with 2 Axes>"
      ]
     },
     "metadata": {},
     "output_type": "display_data"
    },
    {
     "name": "stdout",
     "output_type": "stream",
     "text": [
      "Mixed Kernel SVM:\n",
      "TP: 100, TN: 600, FP: 221, FN: 27\n",
      "Accuracy: 0.7383966244725738\n",
      "Error: 0.2616033755274262\n",
      "Recall: 0.7874015748031497\n",
      "Specificity: 0.730816077953715\n",
      "Precision: 0.3115264797507788\n",
      "F1: 0.44642857142857145\n"
     ]
    }
   ],
   "source": [
    "evaluate(mnb, \"Mixed\", np.full(13, True))"
   ]
  },
  {
   "cell_type": "markdown",
   "id": "fc3f6695",
   "metadata": {},
   "source": [
    "It has overall better accuracy and recall, therefore we will choose this as the final Naive Bayes model. The fact that it uses more attributes and therefore more information can be what's differencing all of these models. Despite that, the overall model is not great and there may be better alternatives to use on this dataset than the Naive Bayes algorithm."
   ]
  }
 ],
 "metadata": {
  "kernelspec": {
   "display_name": "Python 3 (ipykernel)",
   "language": "python",
   "name": "python3"
  },
  "language_info": {
   "codemirror_mode": {
    "name": "ipython",
    "version": 3
   },
   "file_extension": ".py",
   "mimetype": "text/x-python",
   "name": "python",
   "nbconvert_exporter": "python",
   "pygments_lexer": "ipython3",
   "version": "3.11.5"
  }
 },
 "nbformat": 4,
 "nbformat_minor": 5
}
