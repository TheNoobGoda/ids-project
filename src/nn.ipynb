{
 "cells": [
  {
   "cell_type": "code",
   "execution_count": 1,
   "metadata": {},
   "outputs": [],
   "source": [
    "import pandas as pd\n",
    "import sklearn.metrics\n",
    "from sklearn.neural_network import MLPClassifier\n",
    "from sklearn.model_selection import train_test_split, GridSearchCV, cross_val_score"
   ]
  },
  {
   "cell_type": "code",
   "execution_count": 2,
   "metadata": {},
   "outputs": [],
   "source": [
    "df = pd.read_csv('./../clean_data.csv')"
   ]
  },
  {
   "cell_type": "code",
   "execution_count": 3,
   "metadata": {},
   "outputs": [
    {
     "name": "stdout",
     "output_type": "stream",
     "text": [
      "Fitting 5 folds for each of 648 candidates, totalling 3240 fits\n"
     ]
    },
    {
     "name": "stderr",
     "output_type": "stream",
     "text": [
      "c:\\Users\\GODA\\AppData\\Local\\Programs\\Python\\Python311\\Lib\\site-packages\\sklearn\\model_selection\\_validation.py:425: FitFailedWarning: \n",
      "1 fits failed out of a total of 3240.\n",
      "The score on these train-test partitions for these parameters will be set to nan.\n",
      "If these failures are not expected, you can try to debug them by setting error_score='raise'.\n",
      "\n",
      "Below are more details about the failures:\n",
      "--------------------------------------------------------------------------------\n",
      "1 fits failed with the following error:\n",
      "Traceback (most recent call last):\n",
      "  File \"c:\\Users\\GODA\\AppData\\Local\\Programs\\Python\\Python311\\Lib\\site-packages\\sklearn\\model_selection\\_validation.py\", line 729, in _fit_and_score\n",
      "    estimator.fit(X_train, y_train, **fit_params)\n",
      "  File \"c:\\Users\\GODA\\AppData\\Local\\Programs\\Python\\Python311\\Lib\\site-packages\\sklearn\\base.py\", line 1152, in wrapper\n",
      "    return fit_method(estimator, *args, **kwargs)\n",
      "           ^^^^^^^^^^^^^^^^^^^^^^^^^^^^^^^^^^^^^^\n",
      "  File \"c:\\Users\\GODA\\AppData\\Local\\Programs\\Python\\Python311\\Lib\\site-packages\\sklearn\\neural_network\\_multilayer_perceptron.py\", line 753, in fit\n",
      "    return self._fit(X, y, incremental=False)\n",
      "           ^^^^^^^^^^^^^^^^^^^^^^^^^^^^^^^^^^\n",
      "  File \"c:\\Users\\GODA\\AppData\\Local\\Programs\\Python\\Python311\\Lib\\site-packages\\sklearn\\neural_network\\_multilayer_perceptron.py\", line 496, in _fit\n",
      "    raise ValueError(\n",
      "ValueError: Solver produced non-finite parameter weights. The input data may contain large values and need to be preprocessed.\n",
      "\n",
      "  warnings.warn(some_fits_failed_message, FitFailedWarning)\n",
      "c:\\Users\\GODA\\AppData\\Local\\Programs\\Python\\Python311\\Lib\\site-packages\\sklearn\\model_selection\\_search.py:979: UserWarning: One or more of the test scores are non-finite: [0.72767533 0.59678375 0.5994815  0.7383143  0.57111614 0.57298351\n",
      " 0.75774824 0.61624108 0.61713383 0.74361233 0.57293283 0.60739542\n",
      " 0.72769093 0.56848076 0.59683053 0.74184632 0.65073097 0.59680324\n",
      " 0.73740595 0.58441776 0.59858485 0.72857199 0.58005926 0.6136174\n",
      " 0.74449729 0.65160423 0.59687731 0.72327005 0.60122802 0.54820475\n",
      " 0.73741764 0.5737866  0.61449456 0.72679428 0.65695295 0.555261\n",
      " 0.73564383 0.60919652 0.61008148 0.72682546 0.51278313 0.59059686\n",
      " 0.73741764 0.67287435 0.58348602 0.74536275 0.62688394 0.52256442\n",
      " 0.73654828 0.53761257 0.58886203 0.73123075 0.6658025  0.5915286\n",
      " 0.73654828 0.60918483 0.56587268 0.73741764 0.58262446 0.60210518\n",
      " 0.72947643 0.6074539  0.60653776 0.73653659 0.59937624 0.58262836\n",
      " 0.72946084 0.59943472 0.60828818 0.73653269 0.63929282 0.56056684\n",
      " 0.73918366 0.56939301 0.6056645  0.71888425 0.55961561 0.60829597\n",
      " 0.7223656  0.60738763 0.60476785 0.74625941 0.61357062 0.57026627\n",
      " 0.74714826 0.5251881  0.56416124 0.72768703 0.66579081 0.56409887\n",
      " 0.73034969 0.59060855 0.61889205 0.74272348 0.53229894 0.57024288\n",
      " 0.74182683 0.68258937 0.63491482 0.7382987  0.61267787 0.52079841\n",
      " 0.74539394 0.52605357 0.57993061 0.73476278 0.68081556 0.55257105\n",
      " 0.72679038 0.5958988  0.59941523 0.74183463 0.6056645  0.60035866\n",
      " 0.74360064 0.58796148 0.57113563 0.73477837 0.59062805 0.59679545\n",
      " 0.73565163 0.58266734 0.61093525 0.74803322 0.60486921 0.58439827\n",
      " 0.73742154 0.56936962 0.59675256 0.73298897 0.58087794 0.58086624\n",
      " 0.73565553 0.63925773 0.61624888 0.7462789         nan 0.58435928\n",
      " 0.73919145 0.55882422 0.56499552 0.73652489 0.65871896 0.59419906\n",
      " 0.72946084 0.61621769 0.59766871 0.74008421 0.5172157  0.57560719\n",
      " 0.72946864 0.67110444 0.60030798 0.68894    0.61713383 0.5454992\n",
      " 0.74183852 0.53583876 0.52079451 0.73917976 0.66843398 0.59329071\n",
      " 0.61004249 0.50575416 0.62240458 0.61540681 0.50221434 0.60827258\n",
      " 0.60121633 0.5030915  0.64716385 0.62334802 0.51017894 0.64451678\n",
      " 0.61445558 0.49955947 0.63926163 0.60480293 0.51809676 0.61711044\n",
      " 0.63566333 0.50132938 0.62419399 0.61008148 0.50044053 0.59591439\n",
      " 0.61093914 0.49339207 0.60211298 0.60391018 0.54199836 0.71437371\n",
      " 0.61626057 0.50044053 0.72411992 0.59680324 0.53310592 0.70553585\n",
      " 0.58442946 0.50132938 0.70378933 0.60211298 0.50221434 0.7143893\n",
      " 0.61716112 0.51811625 0.69052669 0.62861487 0.49513079 0.68962224\n",
      " 0.64366302 0.50044053 0.70116955 0.61274414 0.49687731 0.7082141\n",
      " 0.61005419 0.49513079 0.60293556 0.59417567 0.49955947 0.65075436\n",
      " 0.59681884 0.48802386 0.63927332 0.60741881 0.51806167 0.66224319\n",
      " 0.60914974 0.49955947 0.63748002 0.60916533 0.53230283 0.61891934\n",
      " 0.60831936 0.49336088 0.59146622 0.61095474 0.50044053 0.60474056\n",
      " 0.60296675 0.50575026 0.60562551 0.59243694 0.51365639 0.68430471\n",
      " 0.59058516 0.49955947 0.71176172 0.59682274 0.52169506 0.70821021\n",
      " 0.61274024 0.51990956 0.71350435 0.60121633 0.49955947 0.67283927\n",
      " 0.59243694 0.51017894 0.70288878 0.6056489  0.48627734 0.70998402\n",
      " 0.63211571 0.49955947 0.67195041 0.61891934 0.5030915  0.73825972\n",
      " 0.59149741 0.56765818 0.64809169 0.5897275  0.49955947 0.63482515\n",
      " 0.59772329 0.48628514 0.61623718 0.59062415 0.49955947 0.62596\n",
      " 0.59856146 0.51637363 0.60560212 0.61626447 0.54198277 0.61093135\n",
      " 0.62072044 0.5190246  0.6197965  0.62242408 0.50044053 0.61538731\n",
      " 0.6180071  0.52247866 0.62156641 0.60741881 0.53926163 0.71529765\n",
      " 0.62067366 0.50575026 0.70911855 0.61358232 0.50310709 0.71880628\n",
      " 0.62953101 0.49867452 0.69580913 0.61976141 0.48810963 0.69405091\n",
      " 0.611828   0.54108222 0.71525477 0.61184359 0.48720128 0.68701805\n",
      " 0.62245916 0.50044053 0.71617091 0.62242018 0.51193716 0.7143893\n",
      " 0.58794979 0.59680714 0.60125141 0.59680714 0.55260224 0.63217808\n",
      " 0.61536782 0.59766481 0.60031578 0.60918483 0.57205177 0.61008928\n",
      " 0.60559822 0.55081283 0.6180071  0.57916261 0.58619547 0.59856146\n",
      " 0.61446727 0.58000078 0.59681494 0.60649487 0.50313438 0.59237067\n",
      " 0.59681104 0.5817551  0.59504113 0.62249425 0.61712214 0.61448676\n",
      " 0.5915208  0.53748002 0.63482905 0.60653776 0.60561771 0.63128533\n",
      " 0.59854197 0.5835445  0.62064637 0.60917703 0.56055514 0.62863046\n",
      " 0.58885424 0.60304082 0.60480683 0.61452185 0.60915754 0.58267124\n",
      " 0.62685275 0.53937468 0.61982769 0.6136135  0.59323613 0.60037036\n",
      " 0.61007368 0.58438657 0.60739932 0.61006978 0.55876184 0.63395189\n",
      " 0.58621106 0.60390628 0.61447897 0.61801099 0.6038439  0.62424077\n",
      " 0.60210518 0.51188648 0.62153912 0.61006978 0.56670305 0.61890764\n",
      " 0.60917703 0.58000858 0.59591829 0.59327512 0.52434603 0.55880862\n",
      " 0.60387119 0.57291334 0.61448287 0.62242408 0.60120853 0.63128533\n",
      " 0.59417177 0.58616818 0.65777163 0.58356399 0.60387509 0.6180071\n",
      " 0.5994737  0.605645   0.63395579 0.59504893 0.53583486 0.62773381\n",
      " 0.58797318 0.58795758 0.62780398 0.61890375 0.59148961 0.59683053\n",
      " 0.61004249 0.53047445 0.62336361 0.59241355 0.58088184 0.61090016\n",
      " 0.58708432 0.58531051 0.63305134 0.60829987 0.58529102 0.61094694\n",
      " 0.6118319  0.58262836 0.62509064 0.58444115 0.61004249 0.61009317\n",
      " 0.59592998 0.49689291 0.62152743 0.59414838 0.59945421 0.59766091\n",
      " 0.59594168 0.57997349 0.60654555 0.60033917 0.52877081 0.60120853\n",
      " 0.60388679 0.58352111 0.5897236  0.57998129 0.61092745 0.63305524\n",
      " 0.5570777  0.52433433 0.63038868 0.6038556  0.59944642 0.61801489\n",
      " 0.59679935 0.59412109 0.65428248 0.61448287 0.52867724 0.63039648\n",
      " 0.59772718 0.61449066 0.62771822 0.58798098 0.58181747 0.6118319\n",
      " 0.57473783 0.53664964 0.61628397 0.58703364 0.60739932 0.60480683\n",
      " 0.66931893 0.59941913 0.61008538 0.66931114 0.55001754 0.63659896\n",
      " 0.68433589 0.62514522 0.62417839 0.69759853 0.61625668 0.59944252\n",
      " 0.67903396 0.54819305 0.61889595 0.6719894  0.61184359 0.60566839\n",
      " 0.68080387 0.59156368 0.61537562 0.6843203  0.55173288 0.6038634\n",
      " 0.67375931 0.61711044 0.60739932 0.68168103 0.62244357 0.66046548\n",
      " 0.67550193 0.58793809 0.64726521 0.67553312 0.63128533 0.65164711\n",
      " 0.68081166 0.61184749 0.6640053  0.6861214  0.57382168 0.66486687\n",
      " 0.68169272 0.59683443 0.66933453 0.68170832 0.62154302 0.65607969\n",
      " 0.67993061 0.59063194 0.63485244 0.68083506 0.61888425 0.6640131\n",
      " 0.67901446 0.61095084 0.63128923 0.68259717 0.54635297 0.60476785\n",
      " 0.68345484 0.60035476 0.62070485 0.67462867 0.58357179 0.59412109\n",
      " 0.67729913 0.55173677 0.60826089 0.68964173 0.61095864 0.61447897\n",
      " 0.67901056 0.63748002 0.59501774 0.66487856 0.54119138 0.6038517\n",
      " 0.67904955 0.61801489 0.59767261 0.68697907 0.61631905 0.67548244\n",
      " 0.67640638 0.61359401 0.67996959 0.67549023 0.63834548 0.63918756\n",
      " 0.67110834 0.62685665 0.64719114 0.69939963 0.59410159 0.64363183\n",
      " 0.66667186 0.63570621 0.67989162 0.69231219 0.61797981 0.63217808\n",
      " 0.67906125 0.60651826 0.65690227 0.67726404 0.60302132 0.64894156\n",
      " 0.67905345 0.61093914 0.63036529 0.68698296 0.50393747 0.61357842\n",
      " 0.67903006 0.60564111 0.63390511 0.69142723 0.59155588 0.640092\n",
      " 0.68876067 0.58265565 0.61625278 0.68433979 0.63036139 0.61711434\n",
      " 0.67813341 0.60740322 0.60123582 0.69055008 0.57819578 0.58975089\n",
      " 0.67813341 0.632143   0.60471717 0.69849129 0.60211298 0.6701766\n",
      " 0.67726404 0.58089353 0.66045378 0.68344704 0.63570231 0.66134264\n",
      " 0.66754902 0.60209349 0.67904565 0.67107715 0.60737593 0.6622198\n",
      " 0.68524034 0.61719621 0.65779892 0.67727184 0.64364742 0.64188141\n",
      " 0.6781451  0.59239406 0.67020389 0.67462087 0.63217029 0.61706756]\n",
      "  warnings.warn(\n",
      "c:\\Users\\GODA\\AppData\\Local\\Programs\\Python\\Python311\\Lib\\site-packages\\sklearn\\neural_network\\_multilayer_perceptron.py:546: ConvergenceWarning: lbfgs failed to converge (status=1):\n",
      "STOP: TOTAL NO. of ITERATIONS REACHED LIMIT.\n",
      "\n",
      "Increase the number of iterations (max_iter) or scale the data as shown in:\n",
      "    https://scikit-learn.org/stable/modules/preprocessing.html\n",
      "  self.n_iter_ = _check_optimize_result(\"lbfgs\", opt_res, self.max_iter)\n"
     ]
    },
    {
     "data": {
      "text/html": [
       "<style>#sk-container-id-1 {color: black;}#sk-container-id-1 pre{padding: 0;}#sk-container-id-1 div.sk-toggleable {background-color: white;}#sk-container-id-1 label.sk-toggleable__label {cursor: pointer;display: block;width: 100%;margin-bottom: 0;padding: 0.3em;box-sizing: border-box;text-align: center;}#sk-container-id-1 label.sk-toggleable__label-arrow:before {content: \"▸\";float: left;margin-right: 0.25em;color: #696969;}#sk-container-id-1 label.sk-toggleable__label-arrow:hover:before {color: black;}#sk-container-id-1 div.sk-estimator:hover label.sk-toggleable__label-arrow:before {color: black;}#sk-container-id-1 div.sk-toggleable__content {max-height: 0;max-width: 0;overflow: hidden;text-align: left;background-color: #f0f8ff;}#sk-container-id-1 div.sk-toggleable__content pre {margin: 0.2em;color: black;border-radius: 0.25em;background-color: #f0f8ff;}#sk-container-id-1 input.sk-toggleable__control:checked~div.sk-toggleable__content {max-height: 200px;max-width: 100%;overflow: auto;}#sk-container-id-1 input.sk-toggleable__control:checked~label.sk-toggleable__label-arrow:before {content: \"▾\";}#sk-container-id-1 div.sk-estimator input.sk-toggleable__control:checked~label.sk-toggleable__label {background-color: #d4ebff;}#sk-container-id-1 div.sk-label input.sk-toggleable__control:checked~label.sk-toggleable__label {background-color: #d4ebff;}#sk-container-id-1 input.sk-hidden--visually {border: 0;clip: rect(1px 1px 1px 1px);clip: rect(1px, 1px, 1px, 1px);height: 1px;margin: -1px;overflow: hidden;padding: 0;position: absolute;width: 1px;}#sk-container-id-1 div.sk-estimator {font-family: monospace;background-color: #f0f8ff;border: 1px dotted black;border-radius: 0.25em;box-sizing: border-box;margin-bottom: 0.5em;}#sk-container-id-1 div.sk-estimator:hover {background-color: #d4ebff;}#sk-container-id-1 div.sk-parallel-item::after {content: \"\";width: 100%;border-bottom: 1px solid gray;flex-grow: 1;}#sk-container-id-1 div.sk-label:hover label.sk-toggleable__label {background-color: #d4ebff;}#sk-container-id-1 div.sk-serial::before {content: \"\";position: absolute;border-left: 1px solid gray;box-sizing: border-box;top: 0;bottom: 0;left: 50%;z-index: 0;}#sk-container-id-1 div.sk-serial {display: flex;flex-direction: column;align-items: center;background-color: white;padding-right: 0.2em;padding-left: 0.2em;position: relative;}#sk-container-id-1 div.sk-item {position: relative;z-index: 1;}#sk-container-id-1 div.sk-parallel {display: flex;align-items: stretch;justify-content: center;background-color: white;position: relative;}#sk-container-id-1 div.sk-item::before, #sk-container-id-1 div.sk-parallel-item::before {content: \"\";position: absolute;border-left: 1px solid gray;box-sizing: border-box;top: 0;bottom: 0;left: 50%;z-index: -1;}#sk-container-id-1 div.sk-parallel-item {display: flex;flex-direction: column;z-index: 1;position: relative;background-color: white;}#sk-container-id-1 div.sk-parallel-item:first-child::after {align-self: flex-end;width: 50%;}#sk-container-id-1 div.sk-parallel-item:last-child::after {align-self: flex-start;width: 50%;}#sk-container-id-1 div.sk-parallel-item:only-child::after {width: 0;}#sk-container-id-1 div.sk-dashed-wrapped {border: 1px dashed gray;margin: 0 0.4em 0.5em 0.4em;box-sizing: border-box;padding-bottom: 0.4em;background-color: white;}#sk-container-id-1 div.sk-label label {font-family: monospace;font-weight: bold;display: inline-block;line-height: 1.2em;}#sk-container-id-1 div.sk-label-container {text-align: center;}#sk-container-id-1 div.sk-container {/* jupyter's `normalize.less` sets `[hidden] { display: none; }` but bootstrap.min.css set `[hidden] { display: none !important; }` so we also need the `!important` here to be able to override the default hidden behavior on the sphinx rendered scikit-learn.org. See: https://github.com/scikit-learn/scikit-learn/issues/21755 */display: inline-block !important;position: relative;}#sk-container-id-1 div.sk-text-repr-fallback {display: none;}</style><div id=\"sk-container-id-1\" class=\"sk-top-container\"><div class=\"sk-text-repr-fallback\"><pre>GridSearchCV(cv=5, estimator=MLPClassifier(), n_jobs=5,\n",
       "             param_grid={&#x27;activation&#x27;: [&#x27;identity&#x27;, &#x27;logistic&#x27;, &#x27;tanh&#x27;, &#x27;relu&#x27;],\n",
       "                         &#x27;alpha&#x27;: [0.0001, 0.001, 0.005],\n",
       "                         &#x27;early_stopping&#x27;: [True, False],\n",
       "                         &#x27;hidden_layer_sizes&#x27;: [(300, 200, 100),\n",
       "                                                (300, 300, 300),\n",
       "                                                (100, 100, 100)],\n",
       "                         &#x27;learning_rate&#x27;: [&#x27;constant&#x27;, &#x27;invscaling&#x27;,\n",
       "                                           &#x27;adaptive&#x27;],\n",
       "                         &#x27;solver&#x27;: [&#x27;lbfgs&#x27;, &#x27;sgd&#x27;, &#x27;adam&#x27;]},\n",
       "             verbose=1)</pre><b>In a Jupyter environment, please rerun this cell to show the HTML representation or trust the notebook. <br />On GitHub, the HTML representation is unable to render, please try loading this page with nbviewer.org.</b></div><div class=\"sk-container\" hidden><div class=\"sk-item sk-dashed-wrapped\"><div class=\"sk-label-container\"><div class=\"sk-label sk-toggleable\"><input class=\"sk-toggleable__control sk-hidden--visually\" id=\"sk-estimator-id-1\" type=\"checkbox\" ><label for=\"sk-estimator-id-1\" class=\"sk-toggleable__label sk-toggleable__label-arrow\">GridSearchCV</label><div class=\"sk-toggleable__content\"><pre>GridSearchCV(cv=5, estimator=MLPClassifier(), n_jobs=5,\n",
       "             param_grid={&#x27;activation&#x27;: [&#x27;identity&#x27;, &#x27;logistic&#x27;, &#x27;tanh&#x27;, &#x27;relu&#x27;],\n",
       "                         &#x27;alpha&#x27;: [0.0001, 0.001, 0.005],\n",
       "                         &#x27;early_stopping&#x27;: [True, False],\n",
       "                         &#x27;hidden_layer_sizes&#x27;: [(300, 200, 100),\n",
       "                                                (300, 300, 300),\n",
       "                                                (100, 100, 100)],\n",
       "                         &#x27;learning_rate&#x27;: [&#x27;constant&#x27;, &#x27;invscaling&#x27;,\n",
       "                                           &#x27;adaptive&#x27;],\n",
       "                         &#x27;solver&#x27;: [&#x27;lbfgs&#x27;, &#x27;sgd&#x27;, &#x27;adam&#x27;]},\n",
       "             verbose=1)</pre></div></div></div><div class=\"sk-parallel\"><div class=\"sk-parallel-item\"><div class=\"sk-item\"><div class=\"sk-label-container\"><div class=\"sk-label sk-toggleable\"><input class=\"sk-toggleable__control sk-hidden--visually\" id=\"sk-estimator-id-2\" type=\"checkbox\" ><label for=\"sk-estimator-id-2\" class=\"sk-toggleable__label sk-toggleable__label-arrow\">estimator: MLPClassifier</label><div class=\"sk-toggleable__content\"><pre>MLPClassifier()</pre></div></div></div><div class=\"sk-serial\"><div class=\"sk-item\"><div class=\"sk-estimator sk-toggleable\"><input class=\"sk-toggleable__control sk-hidden--visually\" id=\"sk-estimator-id-3\" type=\"checkbox\" ><label for=\"sk-estimator-id-3\" class=\"sk-toggleable__label sk-toggleable__label-arrow\">MLPClassifier</label><div class=\"sk-toggleable__content\"><pre>MLPClassifier()</pre></div></div></div></div></div></div></div></div></div></div>"
      ],
      "text/plain": [
       "GridSearchCV(cv=5, estimator=MLPClassifier(), n_jobs=5,\n",
       "             param_grid={'activation': ['identity', 'logistic', 'tanh', 'relu'],\n",
       "                         'alpha': [0.0001, 0.001, 0.005],\n",
       "                         'early_stopping': [True, False],\n",
       "                         'hidden_layer_sizes': [(300, 200, 100),\n",
       "                                                (300, 300, 300),\n",
       "                                                (100, 100, 100)],\n",
       "                         'learning_rate': ['constant', 'invscaling',\n",
       "                                           'adaptive'],\n",
       "                         'solver': ['lbfgs', 'sgd', 'adam']},\n",
       "             verbose=1)"
      ]
     },
     "execution_count": 3,
     "metadata": {},
     "output_type": "execute_result"
    }
   ],
   "source": [
    "labels = df.columns[2:]\n",
    "x=df.loc[:,labels]\n",
    "y=df.loc[:,'churn']\n",
    "\n",
    "model = MLPClassifier()\n",
    "params = {\n",
    "    'solver': ['lbfgs','sgd','adam'],\n",
    "    'hidden_layer_sizes' : [(300,200,100),(300,300,300),(100,100,100)],\n",
    "    'activation' : ['identity', 'logistic', 'tanh', 'relu'],\n",
    "    'alpha' : [0.0001, 0.001, 0.005],\n",
    "    'learning_rate' : ['constant', 'invscaling', 'adaptive'],\n",
    "    'early_stopping' : [True, False]\n",
    "    }\n",
    "\n",
    "xtrain, xtest, ytrain, ytest = train_test_split(x,y,train_size=0.8)\n",
    "\n",
    "clf = GridSearchCV(estimator=model,param_grid=params,cv=5,n_jobs=5,verbose=1)\n",
    "clf.fit(xtrain,ytrain)"
   ]
  },
  {
   "cell_type": "code",
   "execution_count": 4,
   "metadata": {},
   "outputs": [
    {
     "name": "stdout",
     "output_type": "stream",
     "text": [
      "{'activation': 'identity', 'alpha': 0.0001, 'early_stopping': True, 'hidden_layer_sizes': (300, 200, 100), 'learning_rate': 'adaptive', 'solver': 'lbfgs'}\n"
     ]
    }
   ],
   "source": [
    "print(clf.best_params_)\n",
    "model1 = MLPClassifier(solver=clf.best_params_['solver']) "
   ]
  },
  {
   "cell_type": "code",
   "execution_count": 5,
   "metadata": {},
   "outputs": [
    {
     "name": "stdout",
     "output_type": "stream",
     "text": [
      "[0.63250883 0.70318021 0.69257951 0.74204947 0.70567376]\n"
     ]
    }
   ],
   "source": [
    "scores=cross_val_score(model, x, y, cv=5)\n",
    "print(scores)"
   ]
  },
  {
   "cell_type": "code",
   "execution_count": 6,
   "metadata": {},
   "outputs": [
    {
     "name": "stdout",
     "output_type": "stream",
     "text": [
      "0.6819787985865724\n",
      "0.6879432624113475\n",
      "0.6783216783216783\n",
      "0.6830985915492958\n",
      "[[96 46]\n",
      " [44 97]]\n"
     ]
    },
    {
     "name": "stderr",
     "output_type": "stream",
     "text": [
      "c:\\Users\\GODA\\AppData\\Local\\Programs\\Python\\Python311\\Lib\\site-packages\\sklearn\\neural_network\\_multilayer_perceptron.py:546: ConvergenceWarning: lbfgs failed to converge (status=1):\n",
      "STOP: TOTAL NO. of ITERATIONS REACHED LIMIT.\n",
      "\n",
      "Increase the number of iterations (max_iter) or scale the data as shown in:\n",
      "    https://scikit-learn.org/stable/modules/preprocessing.html\n",
      "  self.n_iter_ = _check_optimize_result(\"lbfgs\", opt_res, self.max_iter)\n"
     ]
    }
   ],
   "source": [
    "model1.fit(xtrain,ytrain)\n",
    "\n",
    "yhat = model1.predict(xtest)\n",
    "\n",
    "acc = sklearn.metrics.accuracy_score(ytest,yhat)\n",
    "recall = sklearn.metrics.recall_score(ytest,yhat,pos_label='Yes')\n",
    "prec = sklearn.metrics.precision_score(ytest,yhat,pos_label='Yes')\n",
    "f1 = sklearn.metrics.f1_score(ytest,yhat,pos_label='Yes')\n",
    "conf_matrix =  sklearn.metrics.confusion_matrix(ytest,yhat)\n",
    "print(acc)\n",
    "print(recall)\n",
    "print(prec)\n",
    "print(f1)\n",
    "print(conf_matrix)"
   ]
  }
 ],
 "metadata": {
  "kernelspec": {
   "display_name": "Python 3",
   "language": "python",
   "name": "python3"
  },
  "language_info": {
   "codemirror_mode": {
    "name": "ipython",
    "version": 3
   },
   "file_extension": ".py",
   "mimetype": "text/x-python",
   "name": "python",
   "nbconvert_exporter": "python",
   "pygments_lexer": "ipython3",
   "version": "3.11.5"
  }
 },
 "nbformat": 4,
 "nbformat_minor": 2
}
