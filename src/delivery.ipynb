{
 "cells": [
  {
   "cell_type": "markdown",
   "metadata": {},
   "source": [
    "# Current state of the project:\n",
    "* Business Understanding\n",
    "    * Business objectives presented\n",
    "    * Success Criteria presented\n",
    "\t* Business Requirements presented\n",
    "\t\n",
    "* Data Understanding\n",
    "\t* Identified variables\n",
    "\t* Analyzed the distribution of the variables\n",
    "\t* Checked for missing data\n",
    "\t* Checked for outliers\n",
    "\t* Checked data correlation\n",
    "\t* Checked for imbalances in the target variable  \n",
    "  \n",
    "* Data Preparation\n",
    "\t* Imputed missing data\n",
    "\t* Removed outliers\n",
    "\t* Removed highly correlated variables\n",
    "\t* Balanced the target variable\n",
    "\n",
    "* We have already started implementing the models, but we have not yet compared them and selected the best one, which is why this part has not been included here at all."
   ]
  },
  {
   "cell_type": "code",
   "execution_count": 1,
   "metadata": {},
   "outputs": [],
   "source": [
    "import pandas as pd\n",
    "import matplotlib.pyplot as plt\n",
    "import seaborn as sns\n",
    "import numpy as np\n",
    "from sklearn.impute import SimpleImputer, KNNImputer\n",
    "from sklearn.preprocessing import MinMaxScaler\n",
    "from imblearn.over_sampling import RandomOverSampler\n",
    "from imblearn.under_sampling import RandomUnderSampler\n",
    "from scipy import stats\n",
    "import sklearn.metrics\n",
    "from sklearn.neural_network import MLPClassifier\n",
    "from sklearn.neighbors import KNeighborsClassifier\n",
    "from sklearn.model_selection import train_test_split, GridSearchCV, cross_val_score, KFold\n",
    "from sklearn.preprocessing import StandardScaler\n",
    "from sklearn.ensemble import VotingClassifier, RandomForestClassifier\n",
    "from sklearn.naive_bayes import GaussianNB, CategoricalNB\n",
    "from mixed_naive_bayes import MixedNB\n",
    "from sklearn.svm import SVC\n",
    "from sklearn.tree import DecisionTreeClassifier\n",
    "from sklearn import tree\n",
    "import sklearn.metrics as metrics"
   ]
  },
  {
   "cell_type": "markdown",
   "metadata": {},
   "source": [
    "# Current state:"
   ]
  },
  {
   "cell_type": "markdown",
   "metadata": {},
   "source": [
    "# 1. Business understanding:\n",
    "\n",
    "In today's telecommunications world, retaining a customer is a challenge that needs to be addressed before they decide to switch operators. The issue of customer loss, also known as \"churn,\" is significant, requiring modern strategies. The \"Churn Prediction\" project aims to understand how customer departures impact the overall business and how to predict who might be next on the list of potential churners.\n",
    "\n",
    "Losing customers is not just a loss of current revenue; it also means missing opportunities for future benefits from new services or development. Each customer is a valuable asset, and understanding their needs and expectations is crucial for industry strategy. Hence, predictive systems based on modern technologies are being developed. Data analysis helps identify patterns and signals that may indicate a customer is considering changing service providers.\n",
    "\n",
    "In the context of the customer churn prediction project in the telecommunications industry, our focus is on a deep understanding of the industry context, which is crucial for an effective strategy. Objectives include not only analyzing the problem but also actively managing customer retention. This is directed towards specific business goals, such as reducing the customer churn rate or increasing overall retention. Additionally, ensuring access to historical customer data is crucial. Such an approach allows for better understanding of the problem and more effective action to maintain competitiveness and stable growth in the dynamic telecommunications industry.\n",
    "\n",
    "We utilize the CRISP-DM model, enabling an organized approach to the data analysis process, from understanding the business context to implementing effective retention strategies. The CRISP-DM (Cross-Industry Standard Process for Data Mining) model provides a framework that contributes to systematic progress and achieving success in data analysis projects. Our priorities include:\n",
    "\n",
    "* Business Objectives:\n",
    "\n",
    "    * Understanding the impact of customer churn on revenues and retention efforts.\n",
    "    * Developing predictive systems to foresee potential departures.\n",
    "    * Implementing targeted campaigns to retain customers.\n",
    "\n",
    "* Success Criteria:\n",
    "\n",
    "    * Reduction of the customer churn rate by a specified percentage.\n",
    "    * Increase in customer retention and overall revenues.\n",
    "\n",
    "* Business Requirements:\n",
    "\n",
    "    * Access to historical customer data.\n",
    "    * Collaboration with the marketing and customer service teams during campaign \n",
    "\n"
   ]
  },
  {
   "cell_type": "markdown",
   "metadata": {},
   "source": [
    "# 2. Data Understanding\n",
    "\n",
    "Looking at the raw data, we can categorize the variables into different types based on their nature:\n",
    "\n",
    "1. Interval-Scaled Variables:\n",
    "\n",
    "    * ACCOUNTLENGTH\n",
    "    * NUMBERVMAILMESSAGES (Number of Voicemail Messages)\n",
    "    * TOTALDAYMINUTES\n",
    "    * TOTALDAYCALLS \n",
    "    * TOTALDAYCHARGE\n",
    "    * TOTALEVEMINUTES (Total Evening Minutes)\n",
    "    * TOTALEVECALLS (Total Evening Calls)\n",
    "    * TOTALEVECHARGE (Total Evening Charge)\n",
    "    * TOTALNIGHTMINUTES\n",
    "    * TOTAL NIGHT CALLS\n",
    "    * TOTAL NIGHT CHARGE\n",
    "    * TOTAL INTL MINUTES (Total International Minutes)\n",
    "    * TOTAL INTL CALLS (Total International Calls)\n",
    "    * TOTAL INTL CHARGE (Total International Charge)\n",
    "    * CUSTOMER SERVICE CALLS\n",
    "\n",
    "2. Binary Variables:\n",
    "\n",
    "    * INTERNATIONALPLAN\n",
    "    * VOICEMAILPLAN\n",
    "    * CHURN\n"
   ]
  },
  {
   "cell_type": "code",
   "execution_count": 2,
   "metadata": {},
   "outputs": [
    {
     "data": {
      "text/html": [
       "<div>\n",
       "<style scoped>\n",
       "    .dataframe tbody tr th:only-of-type {\n",
       "        vertical-align: middle;\n",
       "    }\n",
       "\n",
       "    .dataframe tbody tr th {\n",
       "        vertical-align: top;\n",
       "    }\n",
       "\n",
       "    .dataframe thead th {\n",
       "        text-align: right;\n",
       "    }\n",
       "</style>\n",
       "<table border=\"1\" class=\"dataframe\">\n",
       "  <thead>\n",
       "    <tr style=\"text-align: right;\">\n",
       "      <th></th>\n",
       "      <th>churn</th>\n",
       "      <th>accountlength</th>\n",
       "      <th>internationalplan</th>\n",
       "      <th>voicemailplan</th>\n",
       "      <th>numbervmailmessages</th>\n",
       "      <th>totaldayminutes</th>\n",
       "      <th>totaldaycalls</th>\n",
       "      <th>totaldaycharge</th>\n",
       "      <th>totaleveminutes</th>\n",
       "      <th>totalevecalls</th>\n",
       "      <th>totalevecharge</th>\n",
       "      <th>totalnightminutes</th>\n",
       "      <th>totalnightcalls</th>\n",
       "      <th>totalnightcharge</th>\n",
       "      <th>totalintlminutes</th>\n",
       "      <th>totalintlcalls</th>\n",
       "      <th>totalintlcharge</th>\n",
       "      <th>numbercustomerservicecalls</th>\n",
       "    </tr>\n",
       "  </thead>\n",
       "  <tbody>\n",
       "    <tr>\n",
       "      <th>count</th>\n",
       "      <td>5000</td>\n",
       "      <td>4951.000000</td>\n",
       "      <td>4950</td>\n",
       "      <td>4950</td>\n",
       "      <td>4950.000000</td>\n",
       "      <td>4950.000000</td>\n",
       "      <td>4950.000000</td>\n",
       "      <td>4950.000000</td>\n",
       "      <td>4950.000000</td>\n",
       "      <td>4950.000000</td>\n",
       "      <td>4950.000000</td>\n",
       "      <td>4950.000000</td>\n",
       "      <td>4950.000000</td>\n",
       "      <td>4950.000000</td>\n",
       "      <td>4950.000000</td>\n",
       "      <td>4950.000000</td>\n",
       "      <td>4950.000000</td>\n",
       "      <td>4950.000000</td>\n",
       "    </tr>\n",
       "    <tr>\n",
       "      <th>unique</th>\n",
       "      <td>2</td>\n",
       "      <td>NaN</td>\n",
       "      <td>2</td>\n",
       "      <td>2</td>\n",
       "      <td>NaN</td>\n",
       "      <td>NaN</td>\n",
       "      <td>NaN</td>\n",
       "      <td>NaN</td>\n",
       "      <td>NaN</td>\n",
       "      <td>NaN</td>\n",
       "      <td>NaN</td>\n",
       "      <td>NaN</td>\n",
       "      <td>NaN</td>\n",
       "      <td>NaN</td>\n",
       "      <td>NaN</td>\n",
       "      <td>NaN</td>\n",
       "      <td>NaN</td>\n",
       "      <td>NaN</td>\n",
       "    </tr>\n",
       "    <tr>\n",
       "      <th>top</th>\n",
       "      <td>No</td>\n",
       "      <td>NaN</td>\n",
       "      <td>no</td>\n",
       "      <td>no</td>\n",
       "      <td>NaN</td>\n",
       "      <td>NaN</td>\n",
       "      <td>NaN</td>\n",
       "      <td>NaN</td>\n",
       "      <td>NaN</td>\n",
       "      <td>NaN</td>\n",
       "      <td>NaN</td>\n",
       "      <td>NaN</td>\n",
       "      <td>NaN</td>\n",
       "      <td>NaN</td>\n",
       "      <td>NaN</td>\n",
       "      <td>NaN</td>\n",
       "      <td>NaN</td>\n",
       "      <td>NaN</td>\n",
       "    </tr>\n",
       "    <tr>\n",
       "      <th>freq</th>\n",
       "      <td>4293</td>\n",
       "      <td>NaN</td>\n",
       "      <td>4481</td>\n",
       "      <td>3638</td>\n",
       "      <td>NaN</td>\n",
       "      <td>NaN</td>\n",
       "      <td>NaN</td>\n",
       "      <td>NaN</td>\n",
       "      <td>NaN</td>\n",
       "      <td>NaN</td>\n",
       "      <td>NaN</td>\n",
       "      <td>NaN</td>\n",
       "      <td>NaN</td>\n",
       "      <td>NaN</td>\n",
       "      <td>NaN</td>\n",
       "      <td>NaN</td>\n",
       "      <td>NaN</td>\n",
       "      <td>NaN</td>\n",
       "    </tr>\n",
       "    <tr>\n",
       "      <th>mean</th>\n",
       "      <td>NaN</td>\n",
       "      <td>100.238295</td>\n",
       "      <td>NaN</td>\n",
       "      <td>NaN</td>\n",
       "      <td>7.763636</td>\n",
       "      <td>180.306625</td>\n",
       "      <td>100.038788</td>\n",
       "      <td>30.629386</td>\n",
       "      <td>200.679798</td>\n",
       "      <td>100.243838</td>\n",
       "      <td>17.048293</td>\n",
       "      <td>200.465697</td>\n",
       "      <td>99.932929</td>\n",
       "      <td>9.015240</td>\n",
       "      <td>10.259010</td>\n",
       "      <td>4.432525</td>\n",
       "      <td>2.772088</td>\n",
       "      <td>1.569091</td>\n",
       "    </tr>\n",
       "    <tr>\n",
       "      <th>std</th>\n",
       "      <td>NaN</td>\n",
       "      <td>39.718817</td>\n",
       "      <td>NaN</td>\n",
       "      <td>NaN</td>\n",
       "      <td>13.552928</td>\n",
       "      <td>53.926625</td>\n",
       "      <td>19.844529</td>\n",
       "      <td>9.148881</td>\n",
       "      <td>50.486434</td>\n",
       "      <td>19.837380</td>\n",
       "      <td>4.300503</td>\n",
       "      <td>50.498290</td>\n",
       "      <td>19.939450</td>\n",
       "      <td>2.276812</td>\n",
       "      <td>2.763712</td>\n",
       "      <td>2.448457</td>\n",
       "      <td>0.744552</td>\n",
       "      <td>1.305279</td>\n",
       "    </tr>\n",
       "    <tr>\n",
       "      <th>min</th>\n",
       "      <td>NaN</td>\n",
       "      <td>1.000000</td>\n",
       "      <td>NaN</td>\n",
       "      <td>NaN</td>\n",
       "      <td>0.000000</td>\n",
       "      <td>0.000000</td>\n",
       "      <td>0.000000</td>\n",
       "      <td>0.000000</td>\n",
       "      <td>0.000000</td>\n",
       "      <td>0.000000</td>\n",
       "      <td>0.000000</td>\n",
       "      <td>0.000000</td>\n",
       "      <td>0.000000</td>\n",
       "      <td>0.000000</td>\n",
       "      <td>0.000000</td>\n",
       "      <td>0.000000</td>\n",
       "      <td>0.000000</td>\n",
       "      <td>0.000000</td>\n",
       "    </tr>\n",
       "    <tr>\n",
       "      <th>25%</th>\n",
       "      <td>NaN</td>\n",
       "      <td>73.000000</td>\n",
       "      <td>NaN</td>\n",
       "      <td>NaN</td>\n",
       "      <td>0.000000</td>\n",
       "      <td>143.700000</td>\n",
       "      <td>87.000000</td>\n",
       "      <td>24.430000</td>\n",
       "      <td>166.425000</td>\n",
       "      <td>87.000000</td>\n",
       "      <td>14.130000</td>\n",
       "      <td>167.000000</td>\n",
       "      <td>87.000000</td>\n",
       "      <td>7.510000</td>\n",
       "      <td>8.500000</td>\n",
       "      <td>3.000000</td>\n",
       "      <td>2.300000</td>\n",
       "      <td>1.000000</td>\n",
       "    </tr>\n",
       "    <tr>\n",
       "      <th>50%</th>\n",
       "      <td>NaN</td>\n",
       "      <td>100.000000</td>\n",
       "      <td>NaN</td>\n",
       "      <td>NaN</td>\n",
       "      <td>0.000000</td>\n",
       "      <td>180.100000</td>\n",
       "      <td>100.000000</td>\n",
       "      <td>30.600000</td>\n",
       "      <td>201.000000</td>\n",
       "      <td>101.000000</td>\n",
       "      <td>17.090000</td>\n",
       "      <td>200.550000</td>\n",
       "      <td>100.000000</td>\n",
       "      <td>9.010000</td>\n",
       "      <td>10.300000</td>\n",
       "      <td>4.000000</td>\n",
       "      <td>2.780000</td>\n",
       "      <td>1.000000</td>\n",
       "    </tr>\n",
       "    <tr>\n",
       "      <th>75%</th>\n",
       "      <td>NaN</td>\n",
       "      <td>127.000000</td>\n",
       "      <td>NaN</td>\n",
       "      <td>NaN</td>\n",
       "      <td>17.000000</td>\n",
       "      <td>216.200000</td>\n",
       "      <td>113.000000</td>\n",
       "      <td>36.720000</td>\n",
       "      <td>234.100000</td>\n",
       "      <td>114.000000</td>\n",
       "      <td>19.897500</td>\n",
       "      <td>234.700000</td>\n",
       "      <td>113.000000</td>\n",
       "      <td>10.560000</td>\n",
       "      <td>12.000000</td>\n",
       "      <td>6.000000</td>\n",
       "      <td>3.240000</td>\n",
       "      <td>2.000000</td>\n",
       "    </tr>\n",
       "    <tr>\n",
       "      <th>max</th>\n",
       "      <td>NaN</td>\n",
       "      <td>243.000000</td>\n",
       "      <td>NaN</td>\n",
       "      <td>NaN</td>\n",
       "      <td>52.000000</td>\n",
       "      <td>351.500000</td>\n",
       "      <td>165.000000</td>\n",
       "      <td>59.760000</td>\n",
       "      <td>363.700000</td>\n",
       "      <td>170.000000</td>\n",
       "      <td>30.910000</td>\n",
       "      <td>395.000000</td>\n",
       "      <td>175.000000</td>\n",
       "      <td>17.770000</td>\n",
       "      <td>20.000000</td>\n",
       "      <td>20.000000</td>\n",
       "      <td>5.400000</td>\n",
       "      <td>9.000000</td>\n",
       "    </tr>\n",
       "  </tbody>\n",
       "</table>\n",
       "</div>"
      ],
      "text/plain": [
       "       churn  accountlength internationalplan voicemailplan  \\\n",
       "count   5000    4951.000000              4950          4950   \n",
       "unique     2            NaN                 2             2   \n",
       "top       No            NaN                no            no   \n",
       "freq    4293            NaN              4481          3638   \n",
       "mean     NaN     100.238295               NaN           NaN   \n",
       "std      NaN      39.718817               NaN           NaN   \n",
       "min      NaN       1.000000               NaN           NaN   \n",
       "25%      NaN      73.000000               NaN           NaN   \n",
       "50%      NaN     100.000000               NaN           NaN   \n",
       "75%      NaN     127.000000               NaN           NaN   \n",
       "max      NaN     243.000000               NaN           NaN   \n",
       "\n",
       "        numbervmailmessages  totaldayminutes  totaldaycalls  totaldaycharge  \\\n",
       "count           4950.000000      4950.000000    4950.000000     4950.000000   \n",
       "unique                  NaN              NaN            NaN             NaN   \n",
       "top                     NaN              NaN            NaN             NaN   \n",
       "freq                    NaN              NaN            NaN             NaN   \n",
       "mean               7.763636       180.306625     100.038788       30.629386   \n",
       "std               13.552928        53.926625      19.844529        9.148881   \n",
       "min                0.000000         0.000000       0.000000        0.000000   \n",
       "25%                0.000000       143.700000      87.000000       24.430000   \n",
       "50%                0.000000       180.100000     100.000000       30.600000   \n",
       "75%               17.000000       216.200000     113.000000       36.720000   \n",
       "max               52.000000       351.500000     165.000000       59.760000   \n",
       "\n",
       "        totaleveminutes  totalevecalls  totalevecharge  totalnightminutes  \\\n",
       "count       4950.000000    4950.000000     4950.000000        4950.000000   \n",
       "unique              NaN            NaN             NaN                NaN   \n",
       "top                 NaN            NaN             NaN                NaN   \n",
       "freq                NaN            NaN             NaN                NaN   \n",
       "mean         200.679798     100.243838       17.048293         200.465697   \n",
       "std           50.486434      19.837380        4.300503          50.498290   \n",
       "min            0.000000       0.000000        0.000000           0.000000   \n",
       "25%          166.425000      87.000000       14.130000         167.000000   \n",
       "50%          201.000000     101.000000       17.090000         200.550000   \n",
       "75%          234.100000     114.000000       19.897500         234.700000   \n",
       "max          363.700000     170.000000       30.910000         395.000000   \n",
       "\n",
       "        totalnightcalls  totalnightcharge  totalintlminutes  totalintlcalls  \\\n",
       "count       4950.000000       4950.000000       4950.000000     4950.000000   \n",
       "unique              NaN               NaN               NaN             NaN   \n",
       "top                 NaN               NaN               NaN             NaN   \n",
       "freq                NaN               NaN               NaN             NaN   \n",
       "mean          99.932929          9.015240         10.259010        4.432525   \n",
       "std           19.939450          2.276812          2.763712        2.448457   \n",
       "min            0.000000          0.000000          0.000000        0.000000   \n",
       "25%           87.000000          7.510000          8.500000        3.000000   \n",
       "50%          100.000000          9.010000         10.300000        4.000000   \n",
       "75%          113.000000         10.560000         12.000000        6.000000   \n",
       "max          175.000000         17.770000         20.000000       20.000000   \n",
       "\n",
       "        totalintlcharge  numbercustomerservicecalls  \n",
       "count       4950.000000                 4950.000000  \n",
       "unique              NaN                         NaN  \n",
       "top                 NaN                         NaN  \n",
       "freq                NaN                         NaN  \n",
       "mean           2.772088                    1.569091  \n",
       "std            0.744552                    1.305279  \n",
       "min            0.000000                    0.000000  \n",
       "25%            2.300000                    1.000000  \n",
       "50%            2.780000                    1.000000  \n",
       "75%            3.240000                    2.000000  \n",
       "max            5.400000                    9.000000  "
      ]
     },
     "execution_count": 2,
     "metadata": {},
     "output_type": "execute_result"
    }
   ],
   "source": [
    "df = pd.read_csv(\"./../churn_data.csv\")\n",
    "numerical_columns = df.select_dtypes(include=['float64']).columns\n",
    "df.describe(include='all')"
   ]
  },
  {
   "cell_type": "code",
   "execution_count": 3,
   "metadata": {},
   "outputs": [
    {
     "name": "stderr",
     "output_type": "stream",
     "text": [
      "/tmp/ipykernel_14467/1806405657.py:4: UserWarning: To output multiple subplots, the figure containing the passed axes is being cleared.\n",
      "  df.hist(ax = ax)\n"
     ]
    },
    {
     "data": {
      "image/png": "[encoded data removed]",
      "text/plain": [
       "<Figure size 1500x1000 with 16 Axes>"
      ]
     },
     "metadata": {},
     "output_type": "display_data"
    }
   ],
   "source": [
    "# Histogram for each continuous variable\n",
    "fig = plt.figure(figsize = (15,10))\n",
    "ax = fig.gca()\n",
    "df.hist(ax = ax)\n",
    "plt.show()"
   ]
  },
  {
   "cell_type": "markdown",
   "metadata": {},
   "source": [
    "Analyzing the histogram of the numerical varaibles we can see that most of them follow an almost normal distribution."
   ]
  },
  {
   "cell_type": "markdown",
   "metadata": {},
   "source": [
    "# Missing data"
   ]
  },
  {
   "cell_type": "code",
   "execution_count": 4,
   "metadata": {},
   "outputs": [
    {
     "name": "stdout",
     "output_type": "stream",
     "text": [
      "rows with missing values: 793\n",
      "total number of rows: 5000\n",
      "percenteg of rows with missing values: 0.1586\n"
     ]
    }
   ],
   "source": [
    "mv = np.where(pd.isnull(df))\n",
    "print(f\"rows with missing values: {len(np.unique(mv[0]))}\\ntotal number of rows: {len(df)}\")\n",
    "print(f\"percenteg of rows with missing values: {len(np.unique(mv[0]))/len(df)}\")"
   ]
  },
  {
   "cell_type": "markdown",
   "metadata": {},
   "source": [
    "We can see that there is a significant amount of missing data in the dataframe. We will implement multiple options to deal with missing data, including:\n",
    "\n",
    "1. Dropping the rows with missing values;\n",
    "\n",
    "2. Data imputation using the average or the most frequent value;\n",
    "\n",
    "3. Data imputation using kNN.\n",
    "\n",
    "Since we have a lot of missing data, dropping rows would not be an effective solution. Some of the attributes are left/right skewed, therefore imputing the average value might affect the distributions. We considered kNN as the most effective solution in this case, although we might reconsider after evaluating of the models."
   ]
  },
  {
   "cell_type": "code",
   "execution_count": 5,
   "metadata": {},
   "outputs": [
    {
     "data": {
      "text/html": [
       "<div>\n",
       "<style scoped>\n",
       "    .dataframe tbody tr th:only-of-type {\n",
       "        vertical-align: middle;\n",
       "    }\n",
       "\n",
       "    .dataframe tbody tr th {\n",
       "        vertical-align: top;\n",
       "    }\n",
       "\n",
       "    .dataframe thead th {\n",
       "        text-align: right;\n",
       "    }\n",
       "</style>\n",
       "<table border=\"1\" class=\"dataframe\">\n",
       "  <thead>\n",
       "    <tr style=\"text-align: right;\">\n",
       "      <th></th>\n",
       "      <th>churn</th>\n",
       "      <th>accountlength</th>\n",
       "      <th>internationalplan</th>\n",
       "      <th>voicemailplan</th>\n",
       "      <th>numbervmailmessages</th>\n",
       "      <th>totaldayminutes</th>\n",
       "      <th>totaldaycalls</th>\n",
       "      <th>totaldaycharge</th>\n",
       "      <th>totaleveminutes</th>\n",
       "      <th>totalevecalls</th>\n",
       "      <th>totalevecharge</th>\n",
       "      <th>totalnightminutes</th>\n",
       "      <th>totalnightcalls</th>\n",
       "      <th>totalnightcharge</th>\n",
       "      <th>totalintlminutes</th>\n",
       "      <th>totalintlcalls</th>\n",
       "      <th>totalintlcharge</th>\n",
       "      <th>numbercustomerservicecalls</th>\n",
       "    </tr>\n",
       "  </thead>\n",
       "  <tbody>\n",
       "    <tr>\n",
       "      <th>count</th>\n",
       "      <td>5000</td>\n",
       "      <td>5000.000000</td>\n",
       "      <td>5000</td>\n",
       "      <td>5000</td>\n",
       "      <td>5000.00000</td>\n",
       "      <td>5000.000000</td>\n",
       "      <td>5000.000000</td>\n",
       "      <td>5000.000000</td>\n",
       "      <td>5000.000000</td>\n",
       "      <td>5000.000000</td>\n",
       "      <td>5000.000000</td>\n",
       "      <td>5000.000000</td>\n",
       "      <td>5000.000000</td>\n",
       "      <td>5000.000000</td>\n",
       "      <td>5000.000000</td>\n",
       "      <td>5000.000000</td>\n",
       "      <td>5000.000000</td>\n",
       "      <td>5000.000000</td>\n",
       "    </tr>\n",
       "    <tr>\n",
       "      <th>unique</th>\n",
       "      <td>2</td>\n",
       "      <td>NaN</td>\n",
       "      <td>2</td>\n",
       "      <td>2</td>\n",
       "      <td>NaN</td>\n",
       "      <td>NaN</td>\n",
       "      <td>NaN</td>\n",
       "      <td>NaN</td>\n",
       "      <td>NaN</td>\n",
       "      <td>NaN</td>\n",
       "      <td>NaN</td>\n",
       "      <td>NaN</td>\n",
       "      <td>NaN</td>\n",
       "      <td>NaN</td>\n",
       "      <td>NaN</td>\n",
       "      <td>NaN</td>\n",
       "      <td>NaN</td>\n",
       "      <td>NaN</td>\n",
       "    </tr>\n",
       "    <tr>\n",
       "      <th>top</th>\n",
       "      <td>No</td>\n",
       "      <td>NaN</td>\n",
       "      <td>no</td>\n",
       "      <td>no</td>\n",
       "      <td>NaN</td>\n",
       "      <td>NaN</td>\n",
       "      <td>NaN</td>\n",
       "      <td>NaN</td>\n",
       "      <td>NaN</td>\n",
       "      <td>NaN</td>\n",
       "      <td>NaN</td>\n",
       "      <td>NaN</td>\n",
       "      <td>NaN</td>\n",
       "      <td>NaN</td>\n",
       "      <td>NaN</td>\n",
       "      <td>NaN</td>\n",
       "      <td>NaN</td>\n",
       "      <td>NaN</td>\n",
       "    </tr>\n",
       "    <tr>\n",
       "      <th>freq</th>\n",
       "      <td>4293</td>\n",
       "      <td>NaN</td>\n",
       "      <td>4531</td>\n",
       "      <td>3688</td>\n",
       "      <td>NaN</td>\n",
       "      <td>NaN</td>\n",
       "      <td>NaN</td>\n",
       "      <td>NaN</td>\n",
       "      <td>NaN</td>\n",
       "      <td>NaN</td>\n",
       "      <td>NaN</td>\n",
       "      <td>NaN</td>\n",
       "      <td>NaN</td>\n",
       "      <td>NaN</td>\n",
       "      <td>NaN</td>\n",
       "      <td>NaN</td>\n",
       "      <td>NaN</td>\n",
       "      <td>NaN</td>\n",
       "    </tr>\n",
       "    <tr>\n",
       "      <th>mean</th>\n",
       "      <td>NaN</td>\n",
       "      <td>100.226660</td>\n",
       "      <td>NaN</td>\n",
       "      <td>NaN</td>\n",
       "      <td>7.77070</td>\n",
       "      <td>180.333678</td>\n",
       "      <td>100.033400</td>\n",
       "      <td>30.643167</td>\n",
       "      <td>200.633490</td>\n",
       "      <td>100.243400</td>\n",
       "      <td>17.054053</td>\n",
       "      <td>200.463720</td>\n",
       "      <td>99.908000</td>\n",
       "      <td>9.017409</td>\n",
       "      <td>10.265140</td>\n",
       "      <td>4.427800</td>\n",
       "      <td>2.772073</td>\n",
       "      <td>1.568800</td>\n",
       "    </tr>\n",
       "    <tr>\n",
       "      <th>std</th>\n",
       "      <td>NaN</td>\n",
       "      <td>39.651528</td>\n",
       "      <td>NaN</td>\n",
       "      <td>NaN</td>\n",
       "      <td>13.53024</td>\n",
       "      <td>53.790111</td>\n",
       "      <td>19.798611</td>\n",
       "      <td>9.152495</td>\n",
       "      <td>50.344162</td>\n",
       "      <td>19.792438</td>\n",
       "      <td>4.293719</td>\n",
       "      <td>50.339301</td>\n",
       "      <td>19.890587</td>\n",
       "      <td>2.272583</td>\n",
       "      <td>2.757769</td>\n",
       "      <td>2.440303</td>\n",
       "      <td>0.742526</td>\n",
       "      <td>1.301117</td>\n",
       "    </tr>\n",
       "    <tr>\n",
       "      <th>min</th>\n",
       "      <td>NaN</td>\n",
       "      <td>1.000000</td>\n",
       "      <td>NaN</td>\n",
       "      <td>NaN</td>\n",
       "      <td>0.00000</td>\n",
       "      <td>0.000000</td>\n",
       "      <td>0.000000</td>\n",
       "      <td>0.000000</td>\n",
       "      <td>0.000000</td>\n",
       "      <td>0.000000</td>\n",
       "      <td>0.000000</td>\n",
       "      <td>0.000000</td>\n",
       "      <td>0.000000</td>\n",
       "      <td>0.000000</td>\n",
       "      <td>0.000000</td>\n",
       "      <td>0.000000</td>\n",
       "      <td>0.000000</td>\n",
       "      <td>0.000000</td>\n",
       "    </tr>\n",
       "    <tr>\n",
       "      <th>25%</th>\n",
       "      <td>NaN</td>\n",
       "      <td>73.000000</td>\n",
       "      <td>NaN</td>\n",
       "      <td>NaN</td>\n",
       "      <td>0.00000</td>\n",
       "      <td>143.700000</td>\n",
       "      <td>87.000000</td>\n",
       "      <td>24.430000</td>\n",
       "      <td>166.600000</td>\n",
       "      <td>87.000000</td>\n",
       "      <td>14.147500</td>\n",
       "      <td>167.100000</td>\n",
       "      <td>87.000000</td>\n",
       "      <td>7.510000</td>\n",
       "      <td>8.500000</td>\n",
       "      <td>3.000000</td>\n",
       "      <td>2.300000</td>\n",
       "      <td>1.000000</td>\n",
       "    </tr>\n",
       "    <tr>\n",
       "      <th>50%</th>\n",
       "      <td>NaN</td>\n",
       "      <td>100.000000</td>\n",
       "      <td>NaN</td>\n",
       "      <td>NaN</td>\n",
       "      <td>0.00000</td>\n",
       "      <td>180.100000</td>\n",
       "      <td>100.000000</td>\n",
       "      <td>30.600000</td>\n",
       "      <td>201.000000</td>\n",
       "      <td>100.000000</td>\n",
       "      <td>17.090000</td>\n",
       "      <td>200.500000</td>\n",
       "      <td>100.000000</td>\n",
       "      <td>9.015000</td>\n",
       "      <td>10.300000</td>\n",
       "      <td>4.000000</td>\n",
       "      <td>2.780000</td>\n",
       "      <td>1.000000</td>\n",
       "    </tr>\n",
       "    <tr>\n",
       "      <th>75%</th>\n",
       "      <td>NaN</td>\n",
       "      <td>127.000000</td>\n",
       "      <td>NaN</td>\n",
       "      <td>NaN</td>\n",
       "      <td>17.00000</td>\n",
       "      <td>216.025000</td>\n",
       "      <td>113.000000</td>\n",
       "      <td>36.750000</td>\n",
       "      <td>234.000000</td>\n",
       "      <td>114.000000</td>\n",
       "      <td>19.900000</td>\n",
       "      <td>234.525000</td>\n",
       "      <td>113.000000</td>\n",
       "      <td>10.560000</td>\n",
       "      <td>12.000000</td>\n",
       "      <td>6.000000</td>\n",
       "      <td>3.240000</td>\n",
       "      <td>2.000000</td>\n",
       "    </tr>\n",
       "    <tr>\n",
       "      <th>max</th>\n",
       "      <td>NaN</td>\n",
       "      <td>243.000000</td>\n",
       "      <td>NaN</td>\n",
       "      <td>NaN</td>\n",
       "      <td>52.00000</td>\n",
       "      <td>351.500000</td>\n",
       "      <td>165.000000</td>\n",
       "      <td>59.760000</td>\n",
       "      <td>363.700000</td>\n",
       "      <td>170.000000</td>\n",
       "      <td>30.910000</td>\n",
       "      <td>395.000000</td>\n",
       "      <td>175.000000</td>\n",
       "      <td>17.770000</td>\n",
       "      <td>20.000000</td>\n",
       "      <td>20.000000</td>\n",
       "      <td>5.400000</td>\n",
       "      <td>9.000000</td>\n",
       "    </tr>\n",
       "  </tbody>\n",
       "</table>\n",
       "</div>"
      ],
      "text/plain": [
       "       churn  accountlength internationalplan voicemailplan  \\\n",
       "count   5000    5000.000000              5000          5000   \n",
       "unique     2            NaN                 2             2   \n",
       "top       No            NaN                no            no   \n",
       "freq    4293            NaN              4531          3688   \n",
       "mean     NaN     100.226660               NaN           NaN   \n",
       "std      NaN      39.651528               NaN           NaN   \n",
       "min      NaN       1.000000               NaN           NaN   \n",
       "25%      NaN      73.000000               NaN           NaN   \n",
       "50%      NaN     100.000000               NaN           NaN   \n",
       "75%      NaN     127.000000               NaN           NaN   \n",
       "max      NaN     243.000000               NaN           NaN   \n",
       "\n",
       "        numbervmailmessages  totaldayminutes  totaldaycalls  totaldaycharge  \\\n",
       "count            5000.00000      5000.000000    5000.000000     5000.000000   \n",
       "unique                  NaN              NaN            NaN             NaN   \n",
       "top                     NaN              NaN            NaN             NaN   \n",
       "freq                    NaN              NaN            NaN             NaN   \n",
       "mean                7.77070       180.333678     100.033400       30.643167   \n",
       "std                13.53024        53.790111      19.798611        9.152495   \n",
       "min                 0.00000         0.000000       0.000000        0.000000   \n",
       "25%                 0.00000       143.700000      87.000000       24.430000   \n",
       "50%                 0.00000       180.100000     100.000000       30.600000   \n",
       "75%                17.00000       216.025000     113.000000       36.750000   \n",
       "max                52.00000       351.500000     165.000000       59.760000   \n",
       "\n",
       "        totaleveminutes  totalevecalls  totalevecharge  totalnightminutes  \\\n",
       "count       5000.000000    5000.000000     5000.000000        5000.000000   \n",
       "unique              NaN            NaN             NaN                NaN   \n",
       "top                 NaN            NaN             NaN                NaN   \n",
       "freq                NaN            NaN             NaN                NaN   \n",
       "mean         200.633490     100.243400       17.054053         200.463720   \n",
       "std           50.344162      19.792438        4.293719          50.339301   \n",
       "min            0.000000       0.000000        0.000000           0.000000   \n",
       "25%          166.600000      87.000000       14.147500         167.100000   \n",
       "50%          201.000000     100.000000       17.090000         200.500000   \n",
       "75%          234.000000     114.000000       19.900000         234.525000   \n",
       "max          363.700000     170.000000       30.910000         395.000000   \n",
       "\n",
       "        totalnightcalls  totalnightcharge  totalintlminutes  totalintlcalls  \\\n",
       "count       5000.000000       5000.000000       5000.000000     5000.000000   \n",
       "unique              NaN               NaN               NaN             NaN   \n",
       "top                 NaN               NaN               NaN             NaN   \n",
       "freq                NaN               NaN               NaN             NaN   \n",
       "mean          99.908000          9.017409         10.265140        4.427800   \n",
       "std           19.890587          2.272583          2.757769        2.440303   \n",
       "min            0.000000          0.000000          0.000000        0.000000   \n",
       "25%           87.000000          7.510000          8.500000        3.000000   \n",
       "50%          100.000000          9.015000         10.300000        4.000000   \n",
       "75%          113.000000         10.560000         12.000000        6.000000   \n",
       "max          175.000000         17.770000         20.000000       20.000000   \n",
       "\n",
       "        totalintlcharge  numbercustomerservicecalls  \n",
       "count       5000.000000                 5000.000000  \n",
       "unique              NaN                         NaN  \n",
       "top                 NaN                         NaN  \n",
       "freq                NaN                         NaN  \n",
       "mean           2.772073                    1.568800  \n",
       "std            0.742526                    1.301117  \n",
       "min            0.000000                    0.000000  \n",
       "25%            2.300000                    1.000000  \n",
       "50%            2.780000                    1.000000  \n",
       "75%            3.240000                    2.000000  \n",
       "max            5.400000                    9.000000  "
      ]
     },
     "execution_count": 5,
     "metadata": {},
     "output_type": "execute_result"
    }
   ],
   "source": [
    "# data imputation using average values\n",
    "def avgImputer():\n",
    "    numerical_cols = df.select_dtypes(include='number')\n",
    "    imputer = SimpleImputer(strategy='mean')\n",
    "    df[numerical_cols.columns] = imputer.fit_transform(numerical_cols)\n",
    "\n",
    "    categorical_cols = df.select_dtypes(exclude='number')\n",
    "    imputer = SimpleImputer(strategy='most_frequent')\n",
    "    df[categorical_cols.columns] = imputer.fit_transform(categorical_cols)\n",
    "\n",
    "# dropping missing values\n",
    "def dropValues():\n",
    "    df = df.dropna()\n",
    "\n",
    "# data imputation using knn\n",
    "def knnImputer():\n",
    "    numerical_cols = df.select_dtypes(include='number')\n",
    "    imputer = KNNImputer(n_neighbors=2)\n",
    "    df[numerical_cols.columns] = imputer.fit_transform(numerical_cols)\n",
    "\n",
    "    categorical_cols = df.select_dtypes(exclude='number')\n",
    "    imputer = SimpleImputer(strategy='most_frequent')\n",
    "    df[categorical_cols.columns] = imputer.fit_transform(categorical_cols)\n",
    "\n",
    "\n",
    "knnImputer()\n",
    "\n",
    "df.describe(include='all')"
   ]
  },
  {
   "cell_type": "markdown",
   "metadata": {},
   "source": [
    "# Outliers"
   ]
  },
  {
   "cell_type": "code",
   "execution_count": 6,
   "metadata": {},
   "outputs": [
    {
     "data": {
      "image/png": "[encoded data removed]",
      "text/plain": [
       "<Figure size 1000x500 with 15 Axes>"
      ]
     },
     "metadata": {},
     "output_type": "display_data"
    }
   ],
   "source": [
    "# Boxplots for each continuous variable\n",
    "fig, axes = plt.subplots(nrows=3, ncols=5, figsize=(10, 5))  \n",
    "numerical_columns = df.select_dtypes(include=['float64']).columns\n",
    "for i in range(len(numerical_columns)):\n",
    "    df.boxplot(column=numerical_columns[i], ax=axes[i//5, i%5], grid=False)\n",
    "plt.tight_layout()\n",
    "plt.show()"
   ]
  },
  {
   "cell_type": "code",
   "execution_count": 7,
   "metadata": {},
   "outputs": [
    {
     "name": "stdout",
     "output_type": "stream",
     "text": [
      "Number of rows with outliers: 260\n",
      "percentage of rows with outliers: 0.052\n"
     ]
    }
   ],
   "source": [
    "numerical_columns = df.select_dtypes(include=['float64']).columns\n",
    "z_scores = stats.zscore(df.loc[:,numerical_columns])\n",
    "threshold = 3  # Adjustable threshold\n",
    "\n",
    "# Find indices of outliers\n",
    "outlier_indices = (abs(z_scores) > threshold).any(axis=1)\n",
    "\n",
    "print(f\"Number of rows with outliers: {np.sum(outlier_indices)}\")\n",
    "print(f\"percentage of rows with outliers: {np.sum(outlier_indices)/len(df)}\")\n"
   ]
  },
  {
   "cell_type": "markdown",
   "metadata": {},
   "source": [
    "As we have a small number of rows with outliers so we decided to drop those rows."
   ]
  },
  {
   "cell_type": "code",
   "execution_count": 8,
   "metadata": {},
   "outputs": [
    {
     "data": {
      "text/html": [
       "<div>\n",
       "<style scoped>\n",
       "    .dataframe tbody tr th:only-of-type {\n",
       "        vertical-align: middle;\n",
       "    }\n",
       "\n",
       "    .dataframe tbody tr th {\n",
       "        vertical-align: top;\n",
       "    }\n",
       "\n",
       "    .dataframe thead th {\n",
       "        text-align: right;\n",
       "    }\n",
       "</style>\n",
       "<table border=\"1\" class=\"dataframe\">\n",
       "  <thead>\n",
       "    <tr style=\"text-align: right;\">\n",
       "      <th></th>\n",
       "      <th>accountlength</th>\n",
       "      <th>numbervmailmessages</th>\n",
       "      <th>totaldayminutes</th>\n",
       "      <th>totaldaycalls</th>\n",
       "      <th>totaldaycharge</th>\n",
       "      <th>totaleveminutes</th>\n",
       "      <th>totalevecalls</th>\n",
       "      <th>totalevecharge</th>\n",
       "      <th>totalnightminutes</th>\n",
       "      <th>totalnightcalls</th>\n",
       "      <th>totalnightcharge</th>\n",
       "      <th>totalintlminutes</th>\n",
       "      <th>totalintlcalls</th>\n",
       "      <th>totalintlcharge</th>\n",
       "      <th>numbercustomerservicecalls</th>\n",
       "    </tr>\n",
       "  </thead>\n",
       "  <tbody>\n",
       "    <tr>\n",
       "      <th>count</th>\n",
       "      <td>4740.000000</td>\n",
       "      <td>4740.000000</td>\n",
       "      <td>4740.000000</td>\n",
       "      <td>4740.000000</td>\n",
       "      <td>4740.000000</td>\n",
       "      <td>4740.000000</td>\n",
       "      <td>4740.000000</td>\n",
       "      <td>4740.000000</td>\n",
       "      <td>4740.000000</td>\n",
       "      <td>4740.000000</td>\n",
       "      <td>4740.000000</td>\n",
       "      <td>4740.000000</td>\n",
       "      <td>4740.000000</td>\n",
       "      <td>4740.000000</td>\n",
       "      <td>4740.000000</td>\n",
       "    </tr>\n",
       "    <tr>\n",
       "      <th>mean</th>\n",
       "      <td>99.872922</td>\n",
       "      <td>7.668354</td>\n",
       "      <td>180.720601</td>\n",
       "      <td>100.095886</td>\n",
       "      <td>30.708243</td>\n",
       "      <td>200.740316</td>\n",
       "      <td>100.295781</td>\n",
       "      <td>17.067363</td>\n",
       "      <td>200.444958</td>\n",
       "      <td>99.869198</td>\n",
       "      <td>9.016412</td>\n",
       "      <td>10.319525</td>\n",
       "      <td>4.319937</td>\n",
       "      <td>2.786921</td>\n",
       "      <td>1.522679</td>\n",
       "    </tr>\n",
       "    <tr>\n",
       "      <th>std</th>\n",
       "      <td>39.241243</td>\n",
       "      <td>13.409392</td>\n",
       "      <td>53.083116</td>\n",
       "      <td>19.497616</td>\n",
       "      <td>9.034007</td>\n",
       "      <td>49.627261</td>\n",
       "      <td>19.557145</td>\n",
       "      <td>4.227306</td>\n",
       "      <td>49.589950</td>\n",
       "      <td>19.515015</td>\n",
       "      <td>2.239334</td>\n",
       "      <td>2.623154</td>\n",
       "      <td>2.142284</td>\n",
       "      <td>0.706234</td>\n",
       "      <td>1.206852</td>\n",
       "    </tr>\n",
       "    <tr>\n",
       "      <th>min</th>\n",
       "      <td>1.000000</td>\n",
       "      <td>0.000000</td>\n",
       "      <td>19.500000</td>\n",
       "      <td>42.000000</td>\n",
       "      <td>3.320000</td>\n",
       "      <td>52.900000</td>\n",
       "      <td>42.000000</td>\n",
       "      <td>4.500000</td>\n",
       "      <td>50.100000</td>\n",
       "      <td>42.000000</td>\n",
       "      <td>2.250000</td>\n",
       "      <td>2.000000</td>\n",
       "      <td>1.000000</td>\n",
       "      <td>0.570000</td>\n",
       "      <td>0.000000</td>\n",
       "    </tr>\n",
       "    <tr>\n",
       "      <th>25%</th>\n",
       "      <td>73.000000</td>\n",
       "      <td>0.000000</td>\n",
       "      <td>144.100000</td>\n",
       "      <td>87.000000</td>\n",
       "      <td>24.498750</td>\n",
       "      <td>166.775000</td>\n",
       "      <td>87.000000</td>\n",
       "      <td>14.177500</td>\n",
       "      <td>167.200000</td>\n",
       "      <td>87.000000</td>\n",
       "      <td>7.510000</td>\n",
       "      <td>8.600000</td>\n",
       "      <td>3.000000</td>\n",
       "      <td>2.320000</td>\n",
       "      <td>1.000000</td>\n",
       "    </tr>\n",
       "    <tr>\n",
       "      <th>50%</th>\n",
       "      <td>100.000000</td>\n",
       "      <td>0.000000</td>\n",
       "      <td>180.100000</td>\n",
       "      <td>100.000000</td>\n",
       "      <td>30.610000</td>\n",
       "      <td>201.000000</td>\n",
       "      <td>101.000000</td>\n",
       "      <td>17.090000</td>\n",
       "      <td>200.500000</td>\n",
       "      <td>100.000000</td>\n",
       "      <td>9.020000</td>\n",
       "      <td>10.400000</td>\n",
       "      <td>4.000000</td>\n",
       "      <td>2.810000</td>\n",
       "      <td>1.000000</td>\n",
       "    </tr>\n",
       "    <tr>\n",
       "      <th>75%</th>\n",
       "      <td>126.000000</td>\n",
       "      <td>16.000000</td>\n",
       "      <td>216.625000</td>\n",
       "      <td>113.000000</td>\n",
       "      <td>36.840000</td>\n",
       "      <td>233.900000</td>\n",
       "      <td>114.000000</td>\n",
       "      <td>19.882500</td>\n",
       "      <td>234.625000</td>\n",
       "      <td>113.000000</td>\n",
       "      <td>10.560000</td>\n",
       "      <td>12.100000</td>\n",
       "      <td>6.000000</td>\n",
       "      <td>3.270000</td>\n",
       "      <td>2.000000</td>\n",
       "    </tr>\n",
       "    <tr>\n",
       "      <th>max</th>\n",
       "      <td>217.000000</td>\n",
       "      <td>48.000000</td>\n",
       "      <td>338.400000</td>\n",
       "      <td>158.000000</td>\n",
       "      <td>57.530000</td>\n",
       "      <td>351.600000</td>\n",
       "      <td>159.000000</td>\n",
       "      <td>29.890000</td>\n",
       "      <td>350.200000</td>\n",
       "      <td>159.000000</td>\n",
       "      <td>15.760000</td>\n",
       "      <td>18.400000</td>\n",
       "      <td>11.000000</td>\n",
       "      <td>4.970000</td>\n",
       "      <td>5.000000</td>\n",
       "    </tr>\n",
       "  </tbody>\n",
       "</table>\n",
       "</div>"
      ],
      "text/plain": [
       "       accountlength  numbervmailmessages  totaldayminutes  totaldaycalls  \\\n",
       "count    4740.000000          4740.000000      4740.000000    4740.000000   \n",
       "mean       99.872922             7.668354       180.720601     100.095886   \n",
       "std        39.241243            13.409392        53.083116      19.497616   \n",
       "min         1.000000             0.000000        19.500000      42.000000   \n",
       "25%        73.000000             0.000000       144.100000      87.000000   \n",
       "50%       100.000000             0.000000       180.100000     100.000000   \n",
       "75%       126.000000            16.000000       216.625000     113.000000   \n",
       "max       217.000000            48.000000       338.400000     158.000000   \n",
       "\n",
       "       totaldaycharge  totaleveminutes  totalevecalls  totalevecharge  \\\n",
       "count     4740.000000      4740.000000    4740.000000     4740.000000   \n",
       "mean        30.708243       200.740316     100.295781       17.067363   \n",
       "std          9.034007        49.627261      19.557145        4.227306   \n",
       "min          3.320000        52.900000      42.000000        4.500000   \n",
       "25%         24.498750       166.775000      87.000000       14.177500   \n",
       "50%         30.610000       201.000000     101.000000       17.090000   \n",
       "75%         36.840000       233.900000     114.000000       19.882500   \n",
       "max         57.530000       351.600000     159.000000       29.890000   \n",
       "\n",
       "       totalnightminutes  totalnightcalls  totalnightcharge  totalintlminutes  \\\n",
       "count        4740.000000      4740.000000       4740.000000       4740.000000   \n",
       "mean          200.444958        99.869198          9.016412         10.319525   \n",
       "std            49.589950        19.515015          2.239334          2.623154   \n",
       "min            50.100000        42.000000          2.250000          2.000000   \n",
       "25%           167.200000        87.000000          7.510000          8.600000   \n",
       "50%           200.500000       100.000000          9.020000         10.400000   \n",
       "75%           234.625000       113.000000         10.560000         12.100000   \n",
       "max           350.200000       159.000000         15.760000         18.400000   \n",
       "\n",
       "       totalintlcalls  totalintlcharge  numbercustomerservicecalls  \n",
       "count     4740.000000      4740.000000                 4740.000000  \n",
       "mean         4.319937         2.786921                    1.522679  \n",
       "std          2.142284         0.706234                    1.206852  \n",
       "min          1.000000         0.570000                    0.000000  \n",
       "25%          3.000000         2.320000                    1.000000  \n",
       "50%          4.000000         2.810000                    1.000000  \n",
       "75%          6.000000         3.270000                    2.000000  \n",
       "max         11.000000         4.970000                    5.000000  "
      ]
     },
     "execution_count": 8,
     "metadata": {},
     "output_type": "execute_result"
    }
   ],
   "source": [
    "df = df[~outlier_indices]\n",
    "df.describe()"
   ]
  },
  {
   "cell_type": "markdown",
   "metadata": {},
   "source": [
    "# Data correlation\n",
    "\n",
    "Now we will take a look at the correlation of the variables with each other and with our target variable."
   ]
  },
  {
   "cell_type": "code",
   "execution_count": 9,
   "metadata": {},
   "outputs": [
    {
     "data": {
      "text/plain": [
       "<AxesSubplot:>"
      ]
     },
     "execution_count": 9,
     "metadata": {},
     "output_type": "execute_result"
    },
    {
     "data": {
      "image/png": "[encoded data removed]",
      "text/plain": [
       "<Figure size 640x480 with 2 Axes>"
      ]
     },
     "metadata": {},
     "output_type": "display_data"
    }
   ],
   "source": [
    "numerical_columns = df.select_dtypes(include=['float64']).columns\n",
    "string_columns = df.select_dtypes(exclude=['float64']).columns\n",
    "corr_matrix =  df.loc[:,numerical_columns].corr()\n",
    "sns.heatmap(corr_matrix, cmap='coolwarm')"
   ]
  },
  {
   "cell_type": "markdown",
   "metadata": {},
   "source": [
    "As we can see there is some variables with a high correlation with each other:\n",
    "* totaldayminutes-totaldaycharge\n",
    "* totalevecharge-totaleveminutes\n",
    "* totalnightcharge-totalnightminutes\n",
    "* totalintlcharge-totalintlminutes\n",
    "\n",
    "To each of this pair of variables we will analyze the correlation with the target variable and drop the variable with the least correlation in order to not have repeated data in our analysis."
   ]
  },
  {
   "cell_type": "code",
   "execution_count": 10,
   "metadata": {},
   "outputs": [
    {
     "data": {
      "text/html": [
       "<div>\n",
       "<style scoped>\n",
       "    .dataframe tbody tr th:only-of-type {\n",
       "        vertical-align: middle;\n",
       "    }\n",
       "\n",
       "    .dataframe tbody tr th {\n",
       "        vertical-align: top;\n",
       "    }\n",
       "\n",
       "    .dataframe thead th {\n",
       "        text-align: right;\n",
       "    }\n",
       "</style>\n",
       "<table border=\"1\" class=\"dataframe\">\n",
       "  <thead>\n",
       "    <tr style=\"text-align: right;\">\n",
       "      <th></th>\n",
       "      <th>churn</th>\n",
       "      <th>accountlength</th>\n",
       "      <th>internationalplan</th>\n",
       "      <th>voicemailplan</th>\n",
       "      <th>numbervmailmessages</th>\n",
       "      <th>totaldayminutes</th>\n",
       "      <th>totaldaycalls</th>\n",
       "      <th>totalevecalls</th>\n",
       "      <th>totalevecharge</th>\n",
       "      <th>totalnightminutes</th>\n",
       "      <th>totalnightcalls</th>\n",
       "      <th>totalintlcalls</th>\n",
       "      <th>totalintlcharge</th>\n",
       "      <th>numbercustomerservicecalls</th>\n",
       "    </tr>\n",
       "  </thead>\n",
       "  <tbody>\n",
       "    <tr>\n",
       "      <th>count</th>\n",
       "      <td>4740</td>\n",
       "      <td>4740.000000</td>\n",
       "      <td>4740</td>\n",
       "      <td>4740</td>\n",
       "      <td>4740.000000</td>\n",
       "      <td>4740.000000</td>\n",
       "      <td>4740.000000</td>\n",
       "      <td>4740.000000</td>\n",
       "      <td>4740.000000</td>\n",
       "      <td>4740.000000</td>\n",
       "      <td>4740.000000</td>\n",
       "      <td>4740.000000</td>\n",
       "      <td>4740.000000</td>\n",
       "      <td>4740.000000</td>\n",
       "    </tr>\n",
       "    <tr>\n",
       "      <th>unique</th>\n",
       "      <td>2</td>\n",
       "      <td>NaN</td>\n",
       "      <td>2</td>\n",
       "      <td>2</td>\n",
       "      <td>NaN</td>\n",
       "      <td>NaN</td>\n",
       "      <td>NaN</td>\n",
       "      <td>NaN</td>\n",
       "      <td>NaN</td>\n",
       "      <td>NaN</td>\n",
       "      <td>NaN</td>\n",
       "      <td>NaN</td>\n",
       "      <td>NaN</td>\n",
       "      <td>NaN</td>\n",
       "    </tr>\n",
       "    <tr>\n",
       "      <th>top</th>\n",
       "      <td>No</td>\n",
       "      <td>NaN</td>\n",
       "      <td>no</td>\n",
       "      <td>no</td>\n",
       "      <td>NaN</td>\n",
       "      <td>NaN</td>\n",
       "      <td>NaN</td>\n",
       "      <td>NaN</td>\n",
       "      <td>NaN</td>\n",
       "      <td>NaN</td>\n",
       "      <td>NaN</td>\n",
       "      <td>NaN</td>\n",
       "      <td>NaN</td>\n",
       "      <td>NaN</td>\n",
       "    </tr>\n",
       "    <tr>\n",
       "      <th>freq</th>\n",
       "      <td>4094</td>\n",
       "      <td>NaN</td>\n",
       "      <td>4293</td>\n",
       "      <td>3507</td>\n",
       "      <td>NaN</td>\n",
       "      <td>NaN</td>\n",
       "      <td>NaN</td>\n",
       "      <td>NaN</td>\n",
       "      <td>NaN</td>\n",
       "      <td>NaN</td>\n",
       "      <td>NaN</td>\n",
       "      <td>NaN</td>\n",
       "      <td>NaN</td>\n",
       "      <td>NaN</td>\n",
       "    </tr>\n",
       "    <tr>\n",
       "      <th>mean</th>\n",
       "      <td>NaN</td>\n",
       "      <td>99.872922</td>\n",
       "      <td>NaN</td>\n",
       "      <td>NaN</td>\n",
       "      <td>7.668354</td>\n",
       "      <td>180.720601</td>\n",
       "      <td>100.095886</td>\n",
       "      <td>100.295781</td>\n",
       "      <td>17.067363</td>\n",
       "      <td>200.444958</td>\n",
       "      <td>99.869198</td>\n",
       "      <td>4.319937</td>\n",
       "      <td>2.786921</td>\n",
       "      <td>1.522679</td>\n",
       "    </tr>\n",
       "    <tr>\n",
       "      <th>std</th>\n",
       "      <td>NaN</td>\n",
       "      <td>39.241243</td>\n",
       "      <td>NaN</td>\n",
       "      <td>NaN</td>\n",
       "      <td>13.409392</td>\n",
       "      <td>53.083116</td>\n",
       "      <td>19.497616</td>\n",
       "      <td>19.557145</td>\n",
       "      <td>4.227306</td>\n",
       "      <td>49.589950</td>\n",
       "      <td>19.515015</td>\n",
       "      <td>2.142284</td>\n",
       "      <td>0.706234</td>\n",
       "      <td>1.206852</td>\n",
       "    </tr>\n",
       "    <tr>\n",
       "      <th>min</th>\n",
       "      <td>NaN</td>\n",
       "      <td>1.000000</td>\n",
       "      <td>NaN</td>\n",
       "      <td>NaN</td>\n",
       "      <td>0.000000</td>\n",
       "      <td>19.500000</td>\n",
       "      <td>42.000000</td>\n",
       "      <td>42.000000</td>\n",
       "      <td>4.500000</td>\n",
       "      <td>50.100000</td>\n",
       "      <td>42.000000</td>\n",
       "      <td>1.000000</td>\n",
       "      <td>0.570000</td>\n",
       "      <td>0.000000</td>\n",
       "    </tr>\n",
       "    <tr>\n",
       "      <th>25%</th>\n",
       "      <td>NaN</td>\n",
       "      <td>73.000000</td>\n",
       "      <td>NaN</td>\n",
       "      <td>NaN</td>\n",
       "      <td>0.000000</td>\n",
       "      <td>144.100000</td>\n",
       "      <td>87.000000</td>\n",
       "      <td>87.000000</td>\n",
       "      <td>14.177500</td>\n",
       "      <td>167.200000</td>\n",
       "      <td>87.000000</td>\n",
       "      <td>3.000000</td>\n",
       "      <td>2.320000</td>\n",
       "      <td>1.000000</td>\n",
       "    </tr>\n",
       "    <tr>\n",
       "      <th>50%</th>\n",
       "      <td>NaN</td>\n",
       "      <td>100.000000</td>\n",
       "      <td>NaN</td>\n",
       "      <td>NaN</td>\n",
       "      <td>0.000000</td>\n",
       "      <td>180.100000</td>\n",
       "      <td>100.000000</td>\n",
       "      <td>101.000000</td>\n",
       "      <td>17.090000</td>\n",
       "      <td>200.500000</td>\n",
       "      <td>100.000000</td>\n",
       "      <td>4.000000</td>\n",
       "      <td>2.810000</td>\n",
       "      <td>1.000000</td>\n",
       "    </tr>\n",
       "    <tr>\n",
       "      <th>75%</th>\n",
       "      <td>NaN</td>\n",
       "      <td>126.000000</td>\n",
       "      <td>NaN</td>\n",
       "      <td>NaN</td>\n",
       "      <td>16.000000</td>\n",
       "      <td>216.625000</td>\n",
       "      <td>113.000000</td>\n",
       "      <td>114.000000</td>\n",
       "      <td>19.882500</td>\n",
       "      <td>234.625000</td>\n",
       "      <td>113.000000</td>\n",
       "      <td>6.000000</td>\n",
       "      <td>3.270000</td>\n",
       "      <td>2.000000</td>\n",
       "    </tr>\n",
       "    <tr>\n",
       "      <th>max</th>\n",
       "      <td>NaN</td>\n",
       "      <td>217.000000</td>\n",
       "      <td>NaN</td>\n",
       "      <td>NaN</td>\n",
       "      <td>48.000000</td>\n",
       "      <td>338.400000</td>\n",
       "      <td>158.000000</td>\n",
       "      <td>159.000000</td>\n",
       "      <td>29.890000</td>\n",
       "      <td>350.200000</td>\n",
       "      <td>159.000000</td>\n",
       "      <td>11.000000</td>\n",
       "      <td>4.970000</td>\n",
       "      <td>5.000000</td>\n",
       "    </tr>\n",
       "  </tbody>\n",
       "</table>\n",
       "</div>"
      ],
      "text/plain": [
       "       churn  accountlength internationalplan voicemailplan  \\\n",
       "count   4740    4740.000000              4740          4740   \n",
       "unique     2            NaN                 2             2   \n",
       "top       No            NaN                no            no   \n",
       "freq    4094            NaN              4293          3507   \n",
       "mean     NaN      99.872922               NaN           NaN   \n",
       "std      NaN      39.241243               NaN           NaN   \n",
       "min      NaN       1.000000               NaN           NaN   \n",
       "25%      NaN      73.000000               NaN           NaN   \n",
       "50%      NaN     100.000000               NaN           NaN   \n",
       "75%      NaN     126.000000               NaN           NaN   \n",
       "max      NaN     217.000000               NaN           NaN   \n",
       "\n",
       "        numbervmailmessages  totaldayminutes  totaldaycalls  totalevecalls  \\\n",
       "count           4740.000000      4740.000000    4740.000000    4740.000000   \n",
       "unique                  NaN              NaN            NaN            NaN   \n",
       "top                     NaN              NaN            NaN            NaN   \n",
       "freq                    NaN              NaN            NaN            NaN   \n",
       "mean               7.668354       180.720601     100.095886     100.295781   \n",
       "std               13.409392        53.083116      19.497616      19.557145   \n",
       "min                0.000000        19.500000      42.000000      42.000000   \n",
       "25%                0.000000       144.100000      87.000000      87.000000   \n",
       "50%                0.000000       180.100000     100.000000     101.000000   \n",
       "75%               16.000000       216.625000     113.000000     114.000000   \n",
       "max               48.000000       338.400000     158.000000     159.000000   \n",
       "\n",
       "        totalevecharge  totalnightminutes  totalnightcalls  totalintlcalls  \\\n",
       "count      4740.000000        4740.000000      4740.000000     4740.000000   \n",
       "unique             NaN                NaN              NaN             NaN   \n",
       "top                NaN                NaN              NaN             NaN   \n",
       "freq               NaN                NaN              NaN             NaN   \n",
       "mean         17.067363         200.444958        99.869198        4.319937   \n",
       "std           4.227306          49.589950        19.515015        2.142284   \n",
       "min           4.500000          50.100000        42.000000        1.000000   \n",
       "25%          14.177500         167.200000        87.000000        3.000000   \n",
       "50%          17.090000         200.500000       100.000000        4.000000   \n",
       "75%          19.882500         234.625000       113.000000        6.000000   \n",
       "max          29.890000         350.200000       159.000000       11.000000   \n",
       "\n",
       "        totalintlcharge  numbercustomerservicecalls  \n",
       "count       4740.000000                 4740.000000  \n",
       "unique              NaN                         NaN  \n",
       "top                 NaN                         NaN  \n",
       "freq                NaN                         NaN  \n",
       "mean           2.786921                    1.522679  \n",
       "std            0.706234                    1.206852  \n",
       "min            0.570000                    0.000000  \n",
       "25%            2.320000                    1.000000  \n",
       "50%            2.810000                    1.000000  \n",
       "75%            3.270000                    2.000000  \n",
       "max            4.970000                    5.000000  "
      ]
     },
     "execution_count": 10,
     "metadata": {},
     "output_type": "execute_result"
    }
   ],
   "source": [
    "corr = {}\n",
    "\n",
    "for col in string_columns:\n",
    "\n",
    "    contingency_table = pd.crosstab(df['churn'], df[col])\n",
    "\n",
    "    chi2, p, _, _ = stats.chi2_contingency(contingency_table)\n",
    "    corr[col] = p\n",
    "\n",
    "churn = df['churn'].map({\n",
    "    'Yes': 0,\n",
    "    'No' : 1\n",
    "})\n",
    "\n",
    "\n",
    "for col in numerical_columns:\n",
    "\n",
    "    correlation, p = stats.pointbiserialr(df[col], churn)\n",
    "    corr[col] = p\n",
    "\n",
    "\n",
    "vars = [('totaldayminutes','totaldaycharge'),('totalevecharge','totaleveminutes'),('totalnightcharge','totalnightminutes'),('totalintlcharge','totalintlminutes')]\n",
    "\n",
    "for var in vars:\n",
    "    if corr[var[0]] < corr[var[1]]:\n",
    "        df = df.drop([var[0]], axis=1)\n",
    "    else : \n",
    "        df = df.drop([var[1]], axis=1)\n",
    "\n",
    "df.describe(include='all')"
   ]
  },
  {
   "cell_type": "markdown",
   "metadata": {},
   "source": [
    "# Binary varaibles\n",
    "In order to be used in some models we need all variables to be numerical so we will transform our binary variables in numerical data."
   ]
  },
  {
   "cell_type": "code",
   "execution_count": 11,
   "metadata": {},
   "outputs": [],
   "source": [
    "df['internationalplan'] = df['internationalplan'].map({\n",
    "    'yes': 0,\n",
    "    'no' : 1\n",
    "})\n",
    "\n",
    "df['voicemailplan'] = df['voicemailplan'].map({\n",
    "    'yes': 0,\n",
    "    'no' : 1\n",
    "})"
   ]
  },
  {
   "cell_type": "markdown",
   "metadata": {},
   "source": [
    "# Data scaling\n",
    "Some models work better if our data is all in the same scale so in this step we will scale our data."
   ]
  },
  {
   "cell_type": "code",
   "execution_count": 12,
   "metadata": {},
   "outputs": [
    {
     "data": {
      "text/html": [
       "<div>\n",
       "<style scoped>\n",
       "    .dataframe tbody tr th:only-of-type {\n",
       "        vertical-align: middle;\n",
       "    }\n",
       "\n",
       "    .dataframe tbody tr th {\n",
       "        vertical-align: top;\n",
       "    }\n",
       "\n",
       "    .dataframe thead th {\n",
       "        text-align: right;\n",
       "    }\n",
       "</style>\n",
       "<table border=\"1\" class=\"dataframe\">\n",
       "  <thead>\n",
       "    <tr style=\"text-align: right;\">\n",
       "      <th></th>\n",
       "      <th>accountlength</th>\n",
       "      <th>internationalplan</th>\n",
       "      <th>voicemailplan</th>\n",
       "      <th>numbervmailmessages</th>\n",
       "      <th>totaldayminutes</th>\n",
       "      <th>totaldaycalls</th>\n",
       "      <th>totalevecalls</th>\n",
       "      <th>totalevecharge</th>\n",
       "      <th>totalnightminutes</th>\n",
       "      <th>totalnightcalls</th>\n",
       "      <th>totalintlcalls</th>\n",
       "      <th>totalintlcharge</th>\n",
       "      <th>numbercustomerservicecalls</th>\n",
       "    </tr>\n",
       "  </thead>\n",
       "  <tbody>\n",
       "    <tr>\n",
       "      <th>count</th>\n",
       "      <td>4740.000000</td>\n",
       "      <td>4740.000000</td>\n",
       "      <td>4740.000000</td>\n",
       "      <td>4740.000000</td>\n",
       "      <td>4740.000000</td>\n",
       "      <td>4740.000000</td>\n",
       "      <td>4740.000000</td>\n",
       "      <td>4740.000000</td>\n",
       "      <td>4740.000000</td>\n",
       "      <td>4740.000000</td>\n",
       "      <td>4740.000000</td>\n",
       "      <td>4740.000000</td>\n",
       "      <td>4740.000000</td>\n",
       "    </tr>\n",
       "    <tr>\n",
       "      <th>mean</th>\n",
       "      <td>0.457745</td>\n",
       "      <td>0.905696</td>\n",
       "      <td>0.739873</td>\n",
       "      <td>0.159757</td>\n",
       "      <td>0.505552</td>\n",
       "      <td>0.500827</td>\n",
       "      <td>0.498255</td>\n",
       "      <td>0.494973</td>\n",
       "      <td>0.500983</td>\n",
       "      <td>0.494609</td>\n",
       "      <td>0.331994</td>\n",
       "      <td>0.503846</td>\n",
       "      <td>0.304536</td>\n",
       "    </tr>\n",
       "    <tr>\n",
       "      <th>std</th>\n",
       "      <td>0.181672</td>\n",
       "      <td>0.292282</td>\n",
       "      <td>0.438750</td>\n",
       "      <td>0.279362</td>\n",
       "      <td>0.166457</td>\n",
       "      <td>0.168083</td>\n",
       "      <td>0.167155</td>\n",
       "      <td>0.166495</td>\n",
       "      <td>0.165245</td>\n",
       "      <td>0.166795</td>\n",
       "      <td>0.214228</td>\n",
       "      <td>0.160508</td>\n",
       "      <td>0.241370</td>\n",
       "    </tr>\n",
       "    <tr>\n",
       "      <th>min</th>\n",
       "      <td>0.000000</td>\n",
       "      <td>0.000000</td>\n",
       "      <td>0.000000</td>\n",
       "      <td>0.000000</td>\n",
       "      <td>0.000000</td>\n",
       "      <td>0.000000</td>\n",
       "      <td>0.000000</td>\n",
       "      <td>0.000000</td>\n",
       "      <td>0.000000</td>\n",
       "      <td>0.000000</td>\n",
       "      <td>0.000000</td>\n",
       "      <td>0.000000</td>\n",
       "      <td>0.000000</td>\n",
       "    </tr>\n",
       "    <tr>\n",
       "      <th>25%</th>\n",
       "      <td>0.333333</td>\n",
       "      <td>1.000000</td>\n",
       "      <td>0.000000</td>\n",
       "      <td>0.000000</td>\n",
       "      <td>0.390718</td>\n",
       "      <td>0.387931</td>\n",
       "      <td>0.384615</td>\n",
       "      <td>0.381154</td>\n",
       "      <td>0.390203</td>\n",
       "      <td>0.384615</td>\n",
       "      <td>0.200000</td>\n",
       "      <td>0.397727</td>\n",
       "      <td>0.200000</td>\n",
       "    </tr>\n",
       "    <tr>\n",
       "      <th>50%</th>\n",
       "      <td>0.458333</td>\n",
       "      <td>1.000000</td>\n",
       "      <td>1.000000</td>\n",
       "      <td>0.000000</td>\n",
       "      <td>0.503606</td>\n",
       "      <td>0.500000</td>\n",
       "      <td>0.504274</td>\n",
       "      <td>0.495865</td>\n",
       "      <td>0.501166</td>\n",
       "      <td>0.495726</td>\n",
       "      <td>0.300000</td>\n",
       "      <td>0.509091</td>\n",
       "      <td>0.200000</td>\n",
       "    </tr>\n",
       "    <tr>\n",
       "      <th>75%</th>\n",
       "      <td>0.578704</td>\n",
       "      <td>1.000000</td>\n",
       "      <td>1.000000</td>\n",
       "      <td>0.333333</td>\n",
       "      <td>0.618140</td>\n",
       "      <td>0.612069</td>\n",
       "      <td>0.615385</td>\n",
       "      <td>0.605849</td>\n",
       "      <td>0.614878</td>\n",
       "      <td>0.606838</td>\n",
       "      <td>0.500000</td>\n",
       "      <td>0.613636</td>\n",
       "      <td>0.400000</td>\n",
       "    </tr>\n",
       "    <tr>\n",
       "      <th>max</th>\n",
       "      <td>1.000000</td>\n",
       "      <td>1.000000</td>\n",
       "      <td>1.000000</td>\n",
       "      <td>1.000000</td>\n",
       "      <td>1.000000</td>\n",
       "      <td>1.000000</td>\n",
       "      <td>1.000000</td>\n",
       "      <td>1.000000</td>\n",
       "      <td>1.000000</td>\n",
       "      <td>1.000000</td>\n",
       "      <td>1.000000</td>\n",
       "      <td>1.000000</td>\n",
       "      <td>1.000000</td>\n",
       "    </tr>\n",
       "  </tbody>\n",
       "</table>\n",
       "</div>"
      ],
      "text/plain": [
       "       accountlength  internationalplan  voicemailplan  numbervmailmessages  \\\n",
       "count    4740.000000        4740.000000    4740.000000          4740.000000   \n",
       "mean        0.457745           0.905696       0.739873             0.159757   \n",
       "std         0.181672           0.292282       0.438750             0.279362   \n",
       "min         0.000000           0.000000       0.000000             0.000000   \n",
       "25%         0.333333           1.000000       0.000000             0.000000   \n",
       "50%         0.458333           1.000000       1.000000             0.000000   \n",
       "75%         0.578704           1.000000       1.000000             0.333333   \n",
       "max         1.000000           1.000000       1.000000             1.000000   \n",
       "\n",
       "       totaldayminutes  totaldaycalls  totalevecalls  totalevecharge  \\\n",
       "count      4740.000000    4740.000000    4740.000000     4740.000000   \n",
       "mean          0.505552       0.500827       0.498255        0.494973   \n",
       "std           0.166457       0.168083       0.167155        0.166495   \n",
       "min           0.000000       0.000000       0.000000        0.000000   \n",
       "25%           0.390718       0.387931       0.384615        0.381154   \n",
       "50%           0.503606       0.500000       0.504274        0.495865   \n",
       "75%           0.618140       0.612069       0.615385        0.605849   \n",
       "max           1.000000       1.000000       1.000000        1.000000   \n",
       "\n",
       "       totalnightminutes  totalnightcalls  totalintlcalls  totalintlcharge  \\\n",
       "count        4740.000000      4740.000000     4740.000000      4740.000000   \n",
       "mean            0.500983         0.494609        0.331994         0.503846   \n",
       "std             0.165245         0.166795        0.214228         0.160508   \n",
       "min             0.000000         0.000000        0.000000         0.000000   \n",
       "25%             0.390203         0.384615        0.200000         0.397727   \n",
       "50%             0.501166         0.495726        0.300000         0.509091   \n",
       "75%             0.614878         0.606838        0.500000         0.613636   \n",
       "max             1.000000         1.000000        1.000000         1.000000   \n",
       "\n",
       "       numbercustomerservicecalls  \n",
       "count                 4740.000000  \n",
       "mean                     0.304536  \n",
       "std                      0.241370  \n",
       "min                      0.000000  \n",
       "25%                      0.200000  \n",
       "50%                      0.200000  \n",
       "75%                      0.400000  \n",
       "max                      1.000000  "
      ]
     },
     "execution_count": 12,
     "metadata": {},
     "output_type": "execute_result"
    }
   ],
   "source": [
    "numerical_columns = df.select_dtypes(include=['float64']).columns\n",
    "\n",
    "minMaxScaler = MinMaxScaler()\n",
    "minMaxScaler.fit(df.loc[:,numerical_columns])\n",
    "df.loc[:,numerical_columns] = minMaxScaler.transform(df.loc[:,numerical_columns])\n",
    "\n",
    "df.describe()"
   ]
  },
  {
   "cell_type": "markdown",
   "metadata": {},
   "source": [
    "# Data splitting\n",
    "Here we split ou data into train and test data to be used on our models"
   ]
  },
  {
   "cell_type": "code",
   "execution_count": 13,
   "metadata": {},
   "outputs": [],
   "source": [
    "numerical_columns = df.select_dtypes(include=['float64','int']).columns\n",
    "\n",
    "x = df[numerical_columns]\n",
    "y = df['churn']\n",
    "\n",
    "X_train, X_test, y_train, y_test = train_test_split(x, y, test_size=0.2, random_state=42)"
   ]
  },
  {
   "cell_type": "markdown",
   "metadata": {},
   "source": [
    "# Handling Imbalanced Data"
   ]
  },
  {
   "cell_type": "code",
   "execution_count": 14,
   "metadata": {},
   "outputs": [
    {
     "data": {
      "image/png": "[encoded data removed]",
      "text/plain": [
       "<Figure size 640x480 with 1 Axes>"
      ]
     },
     "metadata": {},
     "output_type": "display_data"
    },
    {
     "data": {
      "text/plain": [
       "No     4094\n",
       "Yes     646\n",
       "Name: churn, dtype: int64"
      ]
     },
     "execution_count": 14,
     "metadata": {},
     "output_type": "execute_result"
    }
   ],
   "source": [
    "df['churn'].value_counts().plot.bar()\n",
    "plt.show()\n",
    "\n",
    "df['churn'].value_counts()"
   ]
  },
  {
   "cell_type": "markdown",
   "metadata": {},
   "source": [
    "As we can see we have a higly unbalanced target variable.\n",
    "\n",
    "Some models work better when our target variables have a similar number of cases in each class, in order to transform our data to get that scenario we thought of two approaches: over-sampling our data and under-sampling our data. In the code bellow we have both implementations, later we will analyze wich one gives us the best results for our models."
   ]
  },
  {
   "cell_type": "code",
   "execution_count": 15,
   "metadata": {},
   "outputs": [
    {
     "name": "stdout",
     "output_type": "stream",
     "text": [
      "\n",
      "Class distribution after oversampling:\n",
      "No     3273\n",
      "Yes    3273\n",
      "Name: churn, dtype: int64\n",
      "\n",
      "Class distribution after undersampling:\n",
      "No     519\n",
      "Yes    519\n",
      "Name: churn, dtype: int64\n"
     ]
    }
   ],
   "source": [
    "ros = RandomOverSampler(random_state=42)\n",
    "X_oversampled, y_oversampled = ros.fit_resample(X_train, y_train)\n",
    "\n",
    "# Display class distribution after oversampling\n",
    "print(\"\\nClass distribution after oversampling:\")\n",
    "print(pd.Series(y_oversampled).value_counts())\n",
    "\n",
    "# Apply RandomUnderSampler to address class imbalance\n",
    "rus = RandomUnderSampler(random_state=42)\n",
    "X_undersampled, y_undersampled = rus.fit_resample(X_train, y_train)\n",
    "\n",
    "# Display class distribution after undersampling\n",
    "print(\"\\nClass distribution after undersampling:\")\n",
    "print(pd.Series(y_undersampled).value_counts())"
   ]
  },
  {
   "cell_type": "markdown",
   "metadata": {},
   "source": [
    "# Models"
   ]
  },
  {
   "cell_type": "code",
   "execution_count": 116,
   "metadata": {},
   "outputs": [],
   "source": [
    "def evaluate(model):\n",
    "    predictions = model.predict(X_test)\n",
    "\n",
    "    cm = metrics.confusion_matrix(y_test, predictions)\n",
    "\n",
    "    tp = cm[1][1]\n",
    "    tn = cm[0][0]\n",
    "    fp = cm[0][1]\n",
    "    fn = cm[1][0]\n",
    "    total = tp + tn + fp + fn\n",
    "    recall = tp/(tp+fn)\n",
    "    precision = tp/(tp+fp)\n",
    "\n",
    "    print(f\"TP: {tp}, TN: {tn}, FP: {fp}, FN: {fn}\")\n",
    "\n",
    "    print(f\"Accuracy: {(tp+tn)/total}\")\n",
    "    print(f\"Error: {1-(tp+tn)/total}\")\n",
    "    print(f\"Recall: {recall}\")\n",
    "    print(f\"Specificity: {tn/(tn+fp)}\")\n",
    "    print(f\"Precision: {precision}\")\n",
    "    print(f\"F1: {2*recall*precision/(recall+precision)}\")"
   ]
  },
  {
   "cell_type": "markdown",
   "metadata": {},
   "source": [
    "## Balanced Data\n",
    "### KNN"
   ]
  },
  {
   "cell_type": "code",
   "execution_count": 64,
   "metadata": {},
   "outputs": [
    {
     "name": "stdout",
     "output_type": "stream",
     "text": [
      "Fitting 5 folds for each of 180 candidates, totalling 900 fits\n"
     ]
    },
    {
     "name": "stdout",
     "output_type": "stream",
     "text": [
      "{'algorithm': 'ball_tree', 'n_neighbors': 13, 'p': 1, 'weights': 'distance'}\n",
      "Fitting 5 folds for each of 180 candidates, totalling 900 fits\n",
      "{'algorithm': 'ball_tree', 'n_neighbors': 13, 'p': 1, 'weights': 'distance'}\n"
     ]
    }
   ],
   "source": [
    "params = {\n",
    "    'n_neighbors': [3,5,7,9,11,13],\n",
    "    'weights': ['uniform', 'distance'],\n",
    "    'algorithm' : ['ball_tree', 'kd_tree', 'brute'],\n",
    "    'p' : [1,2,3,4,5]\n",
    "    }\n",
    "\n",
    "\n",
    "clf_accuracy = GridSearchCV(estimator=KNeighborsClassifier(),param_grid=params,cv=5,n_jobs=10,verbose=1,scoring='accuracy')\n",
    "clf_accuracy.fit(X_undersampled,y_undersampled)\n",
    "\n",
    "print(clf_accuracy.best_params_)\n",
    "knn_accuracy = KNeighborsClassifier(**clf_accuracy.best_params_) \n",
    "\n",
    "f1 = sklearn.metrics.make_scorer(sklearn.metrics.f1_score, average='micro')\n",
    "\n",
    "clf_f1 = GridSearchCV(estimator=KNeighborsClassifier(),param_grid=params,cv=5,n_jobs=10,verbose=1,scoring=f1)\n",
    "clf_f1.fit(X_undersampled,y_undersampled)\n",
    "\n",
    "print(clf_f1.best_params_)\n",
    "knn_f1 = KNeighborsClassifier(n_neighbors=clf_f1.best_params_['n_neighbors'], weights=clf_f1.best_params_['weights'], algorithm=clf_f1.best_params_['algorithm'], p=clf_f1.best_params_['p']) \n",
    "\n",
    "combi_knn = VotingClassifier(estimators=[('acc', knn_accuracy), ('f1', knn_f1)], voting='soft')"
   ]
  },
  {
   "cell_type": "code",
   "execution_count": 65,
   "metadata": {},
   "outputs": [
    {
     "name": "stdout",
     "output_type": "stream",
     "text": [
      "Cross-Validation Scores: [0.88818565 0.90084388 0.87447257 0.88818565 0.89451477]\n",
      "Mean Accuracy: 0.889240506329114\n",
      "Standard Deviation: 0.008749553313640367\n"
     ]
    }
   ],
   "source": [
    "cv_strategy = KFold(n_splits=5, shuffle=True, random_state=42)\n",
    "cross_val_scores = cross_val_score(knn_accuracy, x, y, cv=cv_strategy, scoring='accuracy')\n",
    "\n",
    "print(\"Cross-Validation Scores:\", cross_val_scores)\n",
    "print(\"Mean Accuracy:\", cross_val_scores.mean())\n",
    "print(\"Standard Deviation:\", cross_val_scores.std())"
   ]
  },
  {
   "cell_type": "code",
   "execution_count": 66,
   "metadata": {},
   "outputs": [
    {
     "name": "stdout",
     "output_type": "stream",
     "text": [
      "TP: 94, TN: 718, FP: 103, FN: 33\n",
      "Accuracy: 0.8565400843881856\n",
      "Error: 0.14345991561181437\n",
      "Recall: 0.7401574803149606\n",
      "Specificity: 0.8745432399512789\n",
      "Precision: 0.47715736040609136\n",
      "F1: 0.5802469135802469\n"
     ]
    }
   ],
   "source": [
    "knn_accuracy.fit(X_undersampled,y_undersampled)\n",
    "\n",
    "yhat = knn_accuracy.predict(X_test)\n",
    "\n",
    "evaluate(knn_accuracy)"
   ]
  },
  {
   "cell_type": "markdown",
   "metadata": {},
   "source": [
    "The k-Nearest Neighbors (KNN) model achieved an overall accuracy of approximately 85.65% on the test set, showcasing its ability to correctly classify instances. The recall score of 74.02% indicates that the model effectively identified about three-fourths of the actual positive cases, demonstrating its sensitivity. On the other hand, the precision of 47.72% suggests that when the model predicted positive, it was correct only about 47% of the time. The F1 score, a harmonic mean of precision and recall, stands at 58.02%, providing a balanced measure of the model's performance. The confusion matrix reveals 691 true negatives, 130 false positives, 33 false negatives, and 94 true positives. The model excelled in recognizing true negatives but struggled with false positives, impacting precision. Fine-tuning the model or exploring other algorithms might be considered to enhance performance, particularly in reducing false positives and improving precision. Additionally, the interplay between precision and recall emphasizes the need for a nuanced understanding of the model's strengths and weaknesses in the context of the specific application."
   ]
  },
  {
   "cell_type": "markdown",
   "metadata": {},
   "source": [
    "### Naive Bayes"
   ]
  },
  {
   "cell_type": "markdown",
   "metadata": {},
   "source": [
    "The Naive Bayes works under such assumptions that are best kept if the size of the dataset is large. Therefore, while balancing the classes, we will choose to do oversampling. We initially define a function to use for evaluation."
   ]
  },
  {
   "cell_type": "markdown",
   "metadata": {},
   "source": [
    "We have to choose an algorithm for Naive Bayes. In this case, we have both continuous and categorical variables. We will start by using only the continuous variables and use Gaussian Naive Bayes. Since these models do not require any significant hyperparameters, we will use a simple holdout technique to evaluate them. "
   ]
  },
  {
   "cell_type": "code",
   "execution_count": 67,
   "metadata": {},
   "outputs": [
    {
     "name": "stdout",
     "output_type": "stream",
     "text": [
      "TP: 100, TN: 640, FP: 181, FN: 27\n",
      "Accuracy: 0.7805907172995781\n",
      "Error: 0.21940928270042193\n",
      "Recall: 0.7874015748031497\n",
      "Specificity: 0.7795371498172959\n",
      "Precision: 0.35587188612099646\n",
      "F1: 0.49019607843137253\n"
     ]
    }
   ],
   "source": [
    "gnb=GaussianNB()\n",
    "gnb.fit(X_oversampled,y_oversampled)\n",
    "evaluate(gnb)"
   ]
  },
  {
   "cell_type": "markdown",
   "metadata": {},
   "source": [
    "The overall model is not great and there may be better alternatives to use on this dataset than the Naive Bayes algorithm. This may be due to the fact that the naive bayes is a very simple model, and may not be adequate for this particular dataset. Specifically, this algorithm assumes independence between features given the class, and this assumption may not be met. Besides that, since we are using gaussian naive bayes, we are also assuming a gaussian distribution for the attributes, which we have also seen is not completely correct for this dataset."
   ]
  },
  {
   "cell_type": "markdown",
   "metadata": {},
   "source": [
    "### SVM"
   ]
  },
  {
   "cell_type": "markdown",
   "metadata": {},
   "source": [
    "Now we will do a grid search over a set of parameters to find out what are the best hyperparameters for accuracy and for F1-Score. We will use undersampling to deal with unbalanced data since SVM is heavily based on only a few points (the support vectors) and this will reduce the run time significantly."
   ]
  },
  {
   "cell_type": "code",
   "execution_count": 68,
   "metadata": {},
   "outputs": [
    {
     "name": "stdout",
     "output_type": "stream",
     "text": [
      "Fitting 5 folds for each of 192 candidates, totalling 960 fits\n"
     ]
    },
    {
     "name": "stdout",
     "output_type": "stream",
     "text": [
      "{'C': 10, 'degree': 2, 'gamma': 1, 'kernel': 'rbf'}\n",
      "Fitting 5 folds for each of 192 candidates, totalling 960 fits\n",
      "{'C': 10, 'degree': 2, 'gamma': 1, 'kernel': 'rbf'}\n"
     ]
    }
   ],
   "source": [
    "params = {\n",
    "    'kernel': ['linear', 'rbf', 'poly', 'sigmoid'],\n",
    "    'C': [0.1, 1, 10, 100],\n",
    "    'gamma': ['auto', 'scale', 0.1, 1],\n",
    "    'degree': [2, 3, 4],\n",
    "    }\n",
    "\n",
    "clf_accuracy = GridSearchCV(estimator=SVC(),param_grid=params,cv=5,n_jobs=10,verbose=1,scoring='accuracy')\n",
    "clf_accuracy.fit(X_undersampled,y_undersampled)\n",
    "\n",
    "print(clf_accuracy.best_params_)\n",
    "svc_accuracy = SVC(**clf_accuracy.best_params_) \n",
    "\n",
    "f1 = sklearn.metrics.make_scorer(sklearn.metrics.f1_score, average='micro')\n",
    "\n",
    "clf_f1 = GridSearchCV(estimator=SVC(),param_grid=params,cv=5,n_jobs=10,verbose=1,scoring=f1)\n",
    "clf_f1.fit(X_undersampled,y_undersampled)\n",
    "\n",
    "print(clf_f1.best_params_)\n",
    "svc_f1 = SVC(**clf_accuracy.best_params_) \n",
    "\n",
    "combi_svc = VotingClassifier(estimators=[('acc', svc_accuracy), ('f1', svc_f1)], voting='soft')"
   ]
  },
  {
   "cell_type": "markdown",
   "metadata": {},
   "source": [
    "The best hyperparameters ended up being the same for both the accuracy and F1 models. We will evaluate this model."
   ]
  },
  {
   "cell_type": "code",
   "execution_count": 117,
   "metadata": {},
   "outputs": [
    {
     "name": "stdout",
     "output_type": "stream",
     "text": [
      "TP: 99, TN: 715, FP: 106, FN: 28\n",
      "Accuracy: 0.8586497890295358\n",
      "Error: 0.14135021097046419\n",
      "Recall: 0.7795275590551181\n",
      "Specificity: 0.8708891595615104\n",
      "Precision: 0.48292682926829267\n",
      "F1: 0.5963855421686747\n"
     ]
    }
   ],
   "source": [
    "#Best Results for Acc and F1: Kernel = RBF, C = 10, Gamma = 1, Degree = 2\n",
    "\n",
    "svm = SVC(kernel='rbf', C=10, gamma=1, degree=2)\n",
    "svm.fit(X_undersampled, y_undersampled)\n",
    "evaluate(svm)"
   ]
  },
  {
   "cell_type": "markdown",
   "metadata": {},
   "source": [
    "Overall, the SVM has a high accuracy, but a disappointing F1-Score. This may mean that the SVM did not do a good job dealing with unbalanced classes. This may be due to the choice of kernel, perhaps different kernels would be more adequate for this dataset. However, for the tested kernels, this seemed to be the best."
   ]
  },
  {
   "cell_type": "markdown",
   "metadata": {},
   "source": [
    "### NN"
   ]
  },
  {
   "cell_type": "code",
   "execution_count": 70,
   "metadata": {},
   "outputs": [
    {
     "name": "stdout",
     "output_type": "stream",
     "text": [
      "Fitting 5 folds for each of 486 candidates, totalling 2430 fits\n",
      "{'activation': 'tanh', 'alpha': 0.0001, 'batch_size': 64, 'hidden_layer_sizes': (50, 50), 'learning_rate': 'constant', 'max_iter': 9999999999, 'solver': 'adam'}\n",
      "Fitting 5 folds for each of 486 candidates, totalling 2430 fits\n",
      "{'activation': 'tanh', 'alpha': 0.001, 'batch_size': 64, 'hidden_layer_sizes': (50, 50), 'learning_rate': 'adaptive', 'max_iter': 9999999999, 'solver': 'adam'}\n"
     ]
    }
   ],
   "source": [
    "params = {\n",
    "    'hidden_layer_sizes': [(100,), (50, 50), (25, 25, 25)],\n",
    "    'activation': ['relu', 'tanh', 'logistic'],\n",
    "    'solver': ['adam', 'sgd', 'lbfgs'],\n",
    "    'learning_rate': ['constant', 'adaptive'],\n",
    "    'alpha': [0.0001, 0.001, 0.01],\n",
    "    'batch_size': [16, 32, 64],\n",
    "    'max_iter': [9999999999]\n",
    "    }\n",
    "\n",
    "clf_accuracy = GridSearchCV(estimator=MLPClassifier(),param_grid=params,cv=5,n_jobs=10,verbose=1,scoring='accuracy')\n",
    "clf_accuracy.fit(X_oversampled,y_oversampled)\n",
    "\n",
    "print(clf_accuracy.best_params_)\n",
    "nn_accuracy = MLPClassifier(**clf_accuracy.best_params_) \n",
    "\n",
    "f1 = sklearn.metrics.make_scorer(sklearn.metrics.f1_score, average='micro')\n",
    "\n",
    "clf_f1 = GridSearchCV(estimator=MLPClassifier(),param_grid=params,cv=5,n_jobs=10,verbose=1,scoring=f1)\n",
    "clf_f1.fit(X_oversampled,y_oversampled)\n",
    "\n",
    "print(clf_f1.best_params_)\n",
    "nn_f1 = MLPClassifier(**clf_f1.best_params_) "
   ]
  },
  {
   "cell_type": "code",
   "execution_count": 71,
   "metadata": {},
   "outputs": [
    {
     "name": "stdout",
     "output_type": "stream",
     "text": [
      "Cross-Validation Scores: [0.92721519 0.93037975 0.94303797 0.94514768 0.95886076]\n",
      "Mean Accuracy: 0.940928270042194\n",
      "Standard Deviation: 0.011341502156722059\n",
      "Cross-Validation Scores: [0.94198312 0.94409283 0.94409283 0.93881857 0.95253165]\n",
      "Mean f1: 0.9443037974683544\n",
      "Standard Deviation: 0.004544442875218989\n"
     ]
    }
   ],
   "source": [
    "cv_strategy = KFold(n_splits=5, shuffle=True, random_state=42)\n",
    "cross_val_scores = cross_val_score(nn_accuracy, x, y, cv=cv_strategy, scoring='accuracy')\n",
    "\n",
    "print(\"Cross-Validation Scores:\", cross_val_scores)\n",
    "print(\"Mean Accuracy:\", cross_val_scores.mean())\n",
    "print(\"Standard Deviation:\", cross_val_scores.std())\n",
    "cv_strategy = KFold(n_splits=5, shuffle=True, random_state=42)\n",
    "\n",
    "\n",
    "cross_val_scores = cross_val_score(nn_f1, x, y, cv=cv_strategy, scoring=f1)\n",
    "\n",
    "print(\"Cross-Validation Scores:\", cross_val_scores)\n",
    "print(\"Mean f1:\", cross_val_scores.mean())\n",
    "print(\"Standard Deviation:\", cross_val_scores.std())"
   ]
  },
  {
   "cell_type": "code",
   "execution_count": 72,
   "metadata": {},
   "outputs": [
    {
     "name": "stdout",
     "output_type": "stream",
     "text": [
      "Accuracy model\n",
      "TP: 84, TN: 794, FP: 27, FN: 43\n",
      "Accuracy: 0.9261603375527426\n",
      "Error: 0.07383966244725737\n",
      "Recall: 0.6614173228346457\n",
      "Specificity: 0.9671132764920828\n",
      "Precision: 0.7567567567567568\n",
      "F1: 0.7058823529411766\n",
      "f1 model\n",
      "TP: 86, TN: 784, FP: 37, FN: 41\n",
      "Accuracy: 0.9177215189873418\n",
      "Error: 0.08227848101265822\n",
      "Recall: 0.6771653543307087\n",
      "Specificity: 0.9549330085261876\n",
      "Precision: 0.6991869918699187\n",
      "F1: 0.6880000000000001\n"
     ]
    }
   ],
   "source": [
    "nn_accuracy.fit(X_oversampled,y_oversampled)\n",
    "print(\"Accuracy model\")\n",
    "evaluate(nn_accuracy)\n",
    "\n",
    "nn_f1.fit(X_oversampled,y_oversampled)\n",
    "print(\"f1 model\")\n",
    "evaluate(nn_f1)"
   ]
  },
  {
   "cell_type": "markdown",
   "metadata": {},
   "source": [
    "The neural network model exhibited strong overall performance on the test set with an accuracy of approximately 92.62%. The recall score of 66.14% indicates that the model successfully identified a substantial portion of the actual positive instances, demonstrating its sensitivity to the target class. The precision of 75.67% reflects that when the model predicted positive, it was correct nearly three-quarters of the time, illustrating a balanced precision-recall trade-off. The F1 score, a harmonic mean of precision and recall, stands at 70.05%, indicating a robust balance between precision and recall. The model excelled in minimizing false positives, contributing to the higher precision, but at the expense of a slightly lower recall. Overall, the neural network demonstrates strong discriminatory power and generalization to unseen data. Further optimization or exploration of hyperparameters might enhance specific aspects of its performance, but the current results showcase its effectiveness in the binary classification task."
   ]
  },
  {
   "cell_type": "markdown",
   "metadata": {},
   "source": [
    "### Decision Tree"
   ]
  },
  {
   "cell_type": "code",
   "execution_count": 73,
   "metadata": {},
   "outputs": [
    {
     "name": "stdout",
     "output_type": "stream",
     "text": [
      "Fitting 5 folds for each of 216 candidates, totalling 1080 fits\n",
      "Best Parameters for Accuracy: {'criterion': 'entropy', 'max_depth': None, 'min_samples_leaf': 1, 'min_samples_split': 2, 'splitter': 'best'}\n",
      "Fitting 5 folds for each of 216 candidates, totalling 1080 fits\n",
      "Best Parameters for F1 Score: {'criterion': 'entropy', 'max_depth': None, 'min_samples_leaf': 1, 'min_samples_split': 2, 'splitter': 'best'}\n"
     ]
    }
   ],
   "source": [
    "# Define the parameter grid for Decision Tree\n",
    "dt_params = {\n",
    "    'criterion': ['gini', 'entropy'],\n",
    "    'splitter': ['best', 'random'],\n",
    "    'max_depth': [None, 10, 20, 30, 40, 50],\n",
    "    'min_samples_split': [2, 5, 10],\n",
    "    'min_samples_leaf': [1, 2, 4]\n",
    "}\n",
    "\n",
    "dt_classifier = DecisionTreeClassifier(random_state=42)\n",
    "cv_strategy = KFold(n_splits=5, shuffle=True, random_state=42)\n",
    "f1 = sklearn.metrics.make_scorer(sklearn.metrics.f1_score, average='micro')\n",
    "\n",
    "# Accuracy\n",
    "grid_dt_accuracy = GridSearchCV(estimator=dt_classifier, param_grid=dt_params, cv=cv_strategy, n_jobs=10, verbose=1, scoring='accuracy')\n",
    "grid_dt_accuracy.fit(X_oversampled, y_oversampled)\n",
    "print(\"Best Parameters for Accuracy:\", grid_dt_accuracy.best_params_)\n",
    "\n",
    "# F1 Score\n",
    "grid_dt_f1 = GridSearchCV(estimator=dt_classifier, param_grid=dt_params, cv=cv_strategy, n_jobs=10, verbose=1, scoring=f1)\n",
    "grid_dt_f1.fit(X_oversampled, y_oversampled)\n",
    "print(\"Best Parameters for F1 Score:\", grid_dt_f1.best_params_)"
   ]
  },
  {
   "cell_type": "code",
   "execution_count": 74,
   "metadata": {},
   "outputs": [
    {
     "data": {
      "image/png": "[encoded data removed]",
      "text/plain": [
       "<Figure size 1500x1000 with 1 Axes>"
      ]
     },
     "metadata": {},
     "output_type": "display_data"
    }
   ],
   "source": [
    "best_dt_model = grid_dt_accuracy.best_estimator_\n",
    "\n",
    "# Visualization\n",
    "plt.figure(figsize=(15, 10))\n",
    "tree.plot_tree(best_dt_model, filled=True, feature_names=X_oversampled.columns, class_names=df['churn'].unique())\n",
    "plt.show()"
   ]
  },
  {
   "cell_type": "code",
   "execution_count": 75,
   "metadata": {},
   "outputs": [
    {
     "name": "stdout",
     "output_type": "stream",
     "text": [
      "Accuracy model\n",
      "TP: 82, TN: 780, FP: 41, FN: 45\n",
      "Accuracy: 0.9092827004219409\n",
      "Error: 0.09071729957805907\n",
      "Recall: 0.6456692913385826\n",
      "Specificity: 0.9500609013398295\n",
      "Precision: 0.6666666666666666\n",
      "F1: 0.6559999999999999\n",
      "f1 model\n",
      "TP: 83, TN: 777, FP: 44, FN: 44\n",
      "Accuracy: 0.9071729957805907\n",
      "Error: 0.09282700421940926\n",
      "Recall: 0.6535433070866141\n",
      "Specificity: 0.9464068209500609\n",
      "Precision: 0.6535433070866141\n",
      "F1: 0.6535433070866141\n"
     ]
    }
   ],
   "source": [
    "dt_accuracy = DecisionTreeClassifier(**grid_dt_accuracy.best_params_)\n",
    "dt_accuracy.fit(X_oversampled,y_oversampled)\n",
    "print(\"Accuracy model\")\n",
    "evaluate(dt_accuracy)\n",
    "\n",
    "dt_f1 = DecisionTreeClassifier(**grid_dt_f1.best_params_)\n",
    "dt_f1.fit(X_oversampled,y_oversampled)\n",
    "print(\"f1 model\")\n",
    "evaluate(dt_f1)\n"
   ]
  },
  {
   "cell_type": "markdown",
   "metadata": {},
   "source": [
    "### Tree ensemble"
   ]
  },
  {
   "cell_type": "code",
   "execution_count": 76,
   "metadata": {},
   "outputs": [
    {
     "name": "stdout",
     "output_type": "stream",
     "text": [
      "Fitting 5 folds for each of 2592 candidates, totalling 12960 fits\n",
      "{'bootstrap': False, 'criterion': 'gini', 'max_depth': None, 'max_features': 1, 'min_samples_leaf': 1, 'min_samples_split': 2, 'n_estimators': 50}\n",
      "Fitting 5 folds for each of 2592 candidates, totalling 12960 fits\n"
     ]
    }
   ],
   "source": [
    "param_grid_rf = {\n",
    "    'n_estimators': [50, 100, 200],\n",
    "    'max_depth': [None, 10, 20, 30],\n",
    "    'min_samples_split': [2, 5, 10],\n",
    "    'min_samples_leaf': [1, 2, 4],\n",
    "    'max_features': ['sqrt', 'log2', None, 1, 2, 3],\n",
    "    'bootstrap': [True, False],\n",
    "    'criterion': ['gini', 'entropy'],\n",
    "}\n",
    "\n",
    "# RandomForestClassifier\n",
    "grid_rf_accuracy = GridSearchCV(estimator=RandomForestClassifier(), param_grid=param_grid_rf, cv=5, n_jobs=10, verbose=1, scoring='accuracy')\n",
    "grid_rf_accuracy.fit(X_oversampled, y_oversampled)\n",
    "\n",
    "print(grid_rf_accuracy.best_params_)\n",
    "\n",
    "rf_accuracy = RandomForestClassifier(**grid_rf_accuracy.best_params_)\n",
    "\n",
    "f1_scorer = sklearn.metrics.make_scorer(sklearn.metrics.f1_score, pos_label='Yes')\n",
    "\n",
    "grid_rf_f1 = GridSearchCV(estimator=RandomForestClassifier(), param_grid=param_grid_rf, cv=5, n_jobs=10, verbose=1, scoring=f1_scorer)\n",
    "grid_rf_f1.fit(X_oversampled, y_oversampled)\n",
    "\n",
    "rf_f1 = RandomForestClassifier(**grid_rf_f1.best_params_)\n"
   ]
  },
  {
   "cell_type": "code",
   "execution_count": 77,
   "metadata": {},
   "outputs": [
    {
     "name": "stdout",
     "output_type": "stream",
     "text": [
      "Accuracy model\n",
      "TP: 45, TN: 817, FP: 4, FN: 82\n",
      "Accuracy: 0.9092827004219409\n",
      "Error: 0.09071729957805907\n",
      "Recall: 0.3543307086614173\n",
      "Specificity: 0.9951278928136419\n",
      "Precision: 0.9183673469387755\n",
      "F1: 0.5113636363636364\n",
      "f1 model\n",
      "TP: 46, TN: 820, FP: 1, FN: 81\n",
      "Accuracy: 0.9135021097046413\n",
      "Error: 0.0864978902953587\n",
      "Recall: 0.36220472440944884\n",
      "Specificity: 0.9987819732034104\n",
      "Precision: 0.9787234042553191\n",
      "F1: 0.528735632183908\n"
     ]
    }
   ],
   "source": [
    "rf_accuracy.fit(X_oversampled,y_oversampled)\n",
    "print(\"Accuracy model\")\n",
    "evaluate(rf_accuracy)\n",
    "\n",
    "rf_f1.fit(X_oversampled,y_oversampled)\n",
    "print(\"f1 model\")\n",
    "evaluate(rf_f1)"
   ]
  },
  {
   "cell_type": "markdown",
   "metadata": {},
   "source": [
    "## Unbalenced"
   ]
  },
  {
   "cell_type": "markdown",
   "metadata": {},
   "source": [
    "### KNN"
   ]
  },
  {
   "cell_type": "code",
   "execution_count": 79,
   "metadata": {},
   "outputs": [
    {
     "name": "stdout",
     "output_type": "stream",
     "text": [
      "Fitting 5 folds for each of 180 candidates, totalling 900 fits\n"
     ]
    },
    {
     "name": "stdout",
     "output_type": "stream",
     "text": [
      "{'algorithm': 'ball_tree', 'n_neighbors': 5, 'p': 2, 'weights': 'distance'}\n",
      "Fitting 5 folds for each of 180 candidates, totalling 900 fits\n",
      "{'algorithm': 'ball_tree', 'n_neighbors': 5, 'p': 2, 'weights': 'distance'}\n"
     ]
    }
   ],
   "source": [
    "params = {\n",
    "    'n_neighbors': [3,5,7,9,11,13],\n",
    "    'weights': ['uniform', 'distance'],\n",
    "    'algorithm' : ['ball_tree', 'kd_tree', 'brute'],\n",
    "    'p' : [1,2,3,4,5]\n",
    "    }\n",
    "\n",
    "\n",
    "clf_accuracy = GridSearchCV(estimator=KNeighborsClassifier(),param_grid=params,cv=5,n_jobs=10,verbose=1,scoring='accuracy')\n",
    "clf_accuracy.fit(X_train,y_train)\n",
    "\n",
    "print(clf_accuracy.best_params_)\n",
    "knn_accuracy_unbalenced = KNeighborsClassifier(**clf_accuracy.best_params_) \n",
    "\n",
    "f1 = sklearn.metrics.make_scorer(sklearn.metrics.f1_score, average='micro')\n",
    "\n",
    "clf_f1 = GridSearchCV(estimator=KNeighborsClassifier(),param_grid=params,cv=5,n_jobs=10,verbose=1,scoring=f1)\n",
    "clf_f1.fit(X_train,y_train)\n",
    "\n",
    "print(clf_f1.best_params_)\n",
    "knn_f1_unbalenced = KNeighborsClassifier(n_neighbors=clf_f1.best_params_['n_neighbors'], weights=clf_f1.best_params_['weights'], algorithm=clf_f1.best_params_['algorithm'], p=clf_f1.best_params_['p']) "
   ]
  },
  {
   "cell_type": "code",
   "execution_count": 80,
   "metadata": {},
   "outputs": [
    {
     "name": "stdout",
     "output_type": "stream",
     "text": [
      "TP: 36, TN: 812, FP: 9, FN: 91\n",
      "Accuracy: 0.8945147679324894\n",
      "Error: 0.10548523206751059\n",
      "Recall: 0.28346456692913385\n",
      "Specificity: 0.9890377588306942\n",
      "Precision: 0.8\n",
      "F1: 0.4186046511627907\n"
     ]
    }
   ],
   "source": [
    "knn_accuracy_unbalenced.fit(X_train,y_train)\n",
    "\n",
    "yhat = knn_accuracy_unbalenced.predict(X_test)\n",
    "\n",
    "evaluate(knn_accuracy_unbalenced)"
   ]
  },
  {
   "cell_type": "markdown",
   "metadata": {},
   "source": [
    "### Naive Bayes"
   ]
  },
  {
   "cell_type": "code",
   "execution_count": 81,
   "metadata": {},
   "outputs": [
    {
     "name": "stdout",
     "output_type": "stream",
     "text": [
      "TP: 50, TN: 775, FP: 46, FN: 77\n",
      "Accuracy: 0.870253164556962\n",
      "Error: 0.129746835443038\n",
      "Recall: 0.3937007874015748\n",
      "Specificity: 0.9439707673568819\n",
      "Precision: 0.5208333333333334\n",
      "F1: 0.4484304932735426\n"
     ]
    }
   ],
   "source": [
    "gnb_unbalenced=GaussianNB()\n",
    "gnb_unbalenced.fit(X_train,y_train)\n",
    "evaluate(gnb_unbalenced)"
   ]
  },
  {
   "cell_type": "markdown",
   "metadata": {},
   "source": [
    "### SVM"
   ]
  },
  {
   "cell_type": "code",
   "execution_count": 82,
   "metadata": {},
   "outputs": [
    {
     "name": "stdout",
     "output_type": "stream",
     "text": [
      "Fitting 5 folds for each of 192 candidates, totalling 960 fits\n",
      "{'C': 10, 'degree': 2, 'gamma': 1, 'kernel': 'rbf'}\n",
      "Fitting 5 folds for each of 192 candidates, totalling 960 fits\n",
      "{'C': 10, 'degree': 2, 'gamma': 1, 'kernel': 'rbf'}\n"
     ]
    }
   ],
   "source": [
    "params = {\n",
    "    'kernel': ['linear', 'rbf', 'poly', 'sigmoid'],\n",
    "    'C': [0.1, 1, 10, 100],\n",
    "    'gamma': ['auto', 'scale', 0.1, 1],\n",
    "    'degree': [2, 3, 4],\n",
    "    }\n",
    "\n",
    "clf_accuracy = GridSearchCV(estimator=SVC(),param_grid=params,cv=5,n_jobs=10,verbose=1,scoring='accuracy')\n",
    "clf_accuracy.fit(X_train,y_train)\n",
    "\n",
    "print(clf_accuracy.best_params_)\n",
    "svc_accuracy_unbalenced = SVC(**clf_accuracy.best_params_) \n",
    "\n",
    "f1 = sklearn.metrics.make_scorer(sklearn.metrics.f1_score, average='micro')\n",
    "\n",
    "clf_f1 = GridSearchCV(estimator=SVC(),param_grid=params,cv=5,n_jobs=10,verbose=1,scoring=f1)\n",
    "clf_f1.fit(X_train,y_train)\n",
    "\n",
    "print(clf_f1.best_params_)\n",
    "svc_f1_unbalenced = SVC(**clf_accuracy.best_params_) "
   ]
  },
  {
   "cell_type": "code",
   "execution_count": 83,
   "metadata": {},
   "outputs": [
    {
     "name": "stdout",
     "output_type": "stream",
     "text": [
      "accuracy\n",
      "TP: 74, TN: 804, FP: 17, FN: 53\n",
      "Accuracy: 0.9261603375527426\n",
      "Error: 0.07383966244725737\n",
      "Recall: 0.5826771653543307\n",
      "Specificity: 0.9792935444579781\n",
      "Precision: 0.8131868131868132\n",
      "F1: 0.6788990825688073\n",
      "f1\n",
      "TP: 74, TN: 804, FP: 17, FN: 53\n",
      "Accuracy: 0.9261603375527426\n",
      "Error: 0.07383966244725737\n",
      "Recall: 0.5826771653543307\n",
      "Specificity: 0.9792935444579781\n",
      "Precision: 0.8131868131868132\n",
      "F1: 0.6788990825688073\n"
     ]
    }
   ],
   "source": [
    "svc_accuracy_unbalenced.fit(X_train,y_train)\n",
    "yhat = svc_accuracy_unbalenced.predict(X_test)\n",
    "print(\"accuracy\")\n",
    "evaluate(svc_accuracy_unbalenced)\n",
    "\n",
    "svc_f1_unbalenced.fit(X_train,y_train)\n",
    "yhat = svc_f1_unbalenced.predict(X_test)\n",
    "print(\"f1\")\n",
    "evaluate(svc_f1_unbalenced)"
   ]
  },
  {
   "cell_type": "markdown",
   "metadata": {},
   "source": [
    "### NN"
   ]
  },
  {
   "cell_type": "code",
   "execution_count": 84,
   "metadata": {},
   "outputs": [
    {
     "name": "stdout",
     "output_type": "stream",
     "text": [
      "Fitting 5 folds for each of 486 candidates, totalling 2430 fits\n",
      "{'activation': 'relu', 'alpha': 0.001, 'batch_size': 32, 'hidden_layer_sizes': (25, 25, 25), 'learning_rate': 'adaptive', 'max_iter': 9999999999, 'solver': 'adam'}\n",
      "Fitting 5 folds for each of 486 candidates, totalling 2430 fits\n",
      "{'activation': 'relu', 'alpha': 0.001, 'batch_size': 32, 'hidden_layer_sizes': (50, 50), 'learning_rate': 'constant', 'max_iter': 9999999999, 'solver': 'adam'}\n"
     ]
    }
   ],
   "source": [
    "params = {\n",
    "    'hidden_layer_sizes': [(100,), (50, 50), (25, 25, 25)],\n",
    "    'activation': ['relu', 'tanh', 'logistic'],\n",
    "    'solver': ['adam', 'sgd', 'lbfgs'],\n",
    "    'learning_rate': ['constant', 'adaptive'],\n",
    "    'alpha': [0.0001, 0.001, 0.01],\n",
    "    'batch_size': [16, 32, 64],\n",
    "    'max_iter': [9999999999]\n",
    "    }\n",
    "\n",
    "clf_accuracy = GridSearchCV(estimator=MLPClassifier(),param_grid=params,cv=5,n_jobs=10,verbose=1,scoring='accuracy')\n",
    "clf_accuracy.fit(X_train,y_train)\n",
    "\n",
    "print(clf_accuracy.best_params_)\n",
    "nn_accuracy_unbalenced = MLPClassifier(**clf_accuracy.best_params_) \n",
    "\n",
    "f1 = sklearn.metrics.make_scorer(sklearn.metrics.f1_score, average='micro')\n",
    "\n",
    "clf_f1 = GridSearchCV(estimator=MLPClassifier(),param_grid=params,cv=5,n_jobs=10,verbose=1,scoring=f1)\n",
    "clf_f1.fit(X_train,y_train)\n",
    "\n",
    "print(clf_f1.best_params_)\n",
    "nn_f1_unbalenced = MLPClassifier(**clf_f1.best_params_) "
   ]
  },
  {
   "cell_type": "code",
   "execution_count": 85,
   "metadata": {},
   "outputs": [
    {
     "name": "stdout",
     "output_type": "stream",
     "text": [
      "Accuracy model\n",
      "TP: 90, TN: 807, FP: 14, FN: 37\n",
      "Accuracy: 0.9462025316455697\n",
      "Error: 0.05379746835443033\n",
      "Recall: 0.7086614173228346\n",
      "Specificity: 0.9829476248477467\n",
      "Precision: 0.8653846153846154\n",
      "F1: 0.7792207792207791\n",
      "f1 model\n",
      "TP: 89, TN: 802, FP: 19, FN: 38\n",
      "Accuracy: 0.939873417721519\n",
      "Error: 0.060126582278481\n",
      "Recall: 0.7007874015748031\n",
      "Specificity: 0.976857490864799\n",
      "Precision: 0.8240740740740741\n",
      "F1: 0.7574468085106383\n"
     ]
    }
   ],
   "source": [
    "nn_accuracy_unbalenced.fit(X_train,y_train)\n",
    "print(\"Accuracy model\")\n",
    "evaluate(nn_accuracy_unbalenced)\n",
    "\n",
    "nn_f1_unbalenced.fit(X_train,y_train)\n",
    "print(\"f1 model\")\n",
    "evaluate(nn_f1_unbalenced)"
   ]
  },
  {
   "cell_type": "markdown",
   "metadata": {},
   "source": [
    "### Decision Tree"
   ]
  },
  {
   "cell_type": "code",
   "execution_count": 86,
   "metadata": {},
   "outputs": [
    {
     "name": "stdout",
     "output_type": "stream",
     "text": [
      "Fitting 5 folds for each of 216 candidates, totalling 1080 fits\n",
      "Best Parameters for Accuracy: {'criterion': 'gini', 'max_depth': 10, 'min_samples_leaf': 4, 'min_samples_split': 10, 'splitter': 'random'}\n",
      "Fitting 5 folds for each of 216 candidates, totalling 1080 fits\n",
      "Best Parameters for F1 Score: {'criterion': 'gini', 'max_depth': 10, 'min_samples_leaf': 4, 'min_samples_split': 10, 'splitter': 'random'}\n"
     ]
    }
   ],
   "source": [
    "# Define the parameter grid for Decision Tree\n",
    "dt_params = {\n",
    "    'criterion': ['gini', 'entropy'],\n",
    "    'splitter': ['best', 'random'],\n",
    "    'max_depth': [None, 10, 20, 30, 40, 50],\n",
    "    'min_samples_split': [2, 5, 10],\n",
    "    'min_samples_leaf': [1, 2, 4]\n",
    "}\n",
    "\n",
    "dt_classifier = DecisionTreeClassifier(random_state=42)\n",
    "cv_strategy = KFold(n_splits=5, shuffle=True, random_state=42)\n",
    "f1 = sklearn.metrics.make_scorer(sklearn.metrics.f1_score, average='micro')\n",
    "\n",
    "# Accuracy\n",
    "grid_dt_accuracy = GridSearchCV(estimator=dt_classifier, param_grid=dt_params, cv=cv_strategy, n_jobs=10, verbose=1, scoring='accuracy')\n",
    "grid_dt_accuracy.fit(X_train, y_train)\n",
    "print(\"Best Parameters for Accuracy:\", grid_dt_accuracy.best_params_)\n",
    "\n",
    "# F1 Score\n",
    "grid_dt_f1 = GridSearchCV(estimator=dt_classifier, param_grid=dt_params, cv=cv_strategy, n_jobs=10, verbose=1, scoring=f1)\n",
    "grid_dt_f1.fit(X_train, y_train)\n",
    "print(\"Best Parameters for F1 Score:\", grid_dt_f1.best_params_)"
   ]
  },
  {
   "cell_type": "code",
   "execution_count": 87,
   "metadata": {},
   "outputs": [
    {
     "name": "stdout",
     "output_type": "stream",
     "text": [
      "Accuracy model\n",
      "TP: 76, TN: 802, FP: 19, FN: 51\n",
      "Accuracy: 0.9261603375527426\n",
      "Error: 0.07383966244725737\n",
      "Recall: 0.5984251968503937\n",
      "Specificity: 0.976857490864799\n",
      "Precision: 0.8\n",
      "F1: 0.6846846846846847\n",
      "f1 model\n",
      "TP: 76, TN: 804, FP: 17, FN: 51\n",
      "Accuracy: 0.9282700421940928\n",
      "Error: 0.07172995780590719\n",
      "Recall: 0.5984251968503937\n",
      "Specificity: 0.9792935444579781\n",
      "Precision: 0.8172043010752689\n",
      "F1: 0.690909090909091\n"
     ]
    }
   ],
   "source": [
    "dt_accuracy_unbalenced = DecisionTreeClassifier(**grid_dt_accuracy.best_params_)\n",
    "dt_accuracy_unbalenced.fit(X_train, y_train)\n",
    "print(\"Accuracy model\")\n",
    "evaluate(dt_accuracy_unbalenced)\n",
    "\n",
    "dt_f1_unbalenced = DecisionTreeClassifier(**grid_dt_f1.best_params_)\n",
    "dt_f1_unbalenced.fit(X_train, y_train)\n",
    "print(\"f1 model\")\n",
    "evaluate(dt_f1_unbalenced)\n"
   ]
  },
  {
   "cell_type": "markdown",
   "metadata": {},
   "source": [
    "### Tree ensemble"
   ]
  },
  {
   "cell_type": "code",
   "execution_count": 88,
   "metadata": {},
   "outputs": [
    {
     "name": "stdout",
     "output_type": "stream",
     "text": [
      "Fitting 5 folds for each of 2592 candidates, totalling 12960 fits\n",
      "{'bootstrap': True, 'criterion': 'entropy', 'max_depth': 30, 'max_features': None, 'min_samples_leaf': 2, 'min_samples_split': 5, 'n_estimators': 100}\n",
      "Fitting 5 folds for each of 2592 candidates, totalling 12960 fits\n"
     ]
    }
   ],
   "source": [
    "param_grid_rf = {\n",
    "    'n_estimators': [50, 100, 200],\n",
    "    'max_depth': [None, 10, 20, 30],\n",
    "    'min_samples_split': [2, 5, 10],\n",
    "    'min_samples_leaf': [1, 2, 4],\n",
    "    'max_features': ['sqrt', 'log2', None, 1, 2, 3],\n",
    "    'bootstrap': [True, False],\n",
    "    'criterion': ['gini', 'entropy'],\n",
    "}\n",
    "\n",
    "# RandomForestClassifier\n",
    "grid_rf_accuracy = GridSearchCV(estimator=RandomForestClassifier(), param_grid=param_grid_rf, cv=5, n_jobs=10, verbose=1, scoring='accuracy')\n",
    "grid_rf_accuracy.fit(X_train, y_train)\n",
    "\n",
    "print(grid_rf_accuracy.best_params_)\n",
    "\n",
    "rf_accuracy_unbalenced = RandomForestClassifier(**grid_rf_accuracy.best_params_)\n",
    "\n",
    "f1_scorer = sklearn.metrics.make_scorer(sklearn.metrics.f1_score, pos_label='Yes')\n",
    "\n",
    "grid_rf_f1 = GridSearchCV(estimator=RandomForestClassifier(), param_grid=param_grid_rf, cv=5, n_jobs=10, verbose=1, scoring=f1_scorer)\n",
    "grid_rf_f1.fit(X_train, y_train)\n",
    "\n",
    "rf_f1_unbalenced = RandomForestClassifier(**grid_rf_f1.best_params_)\n"
   ]
  },
  {
   "cell_type": "code",
   "execution_count": 89,
   "metadata": {},
   "outputs": [
    {
     "name": "stdout",
     "output_type": "stream",
     "text": [
      "Accuracy model\n",
      "TP: 82, TN: 811, FP: 10, FN: 45\n",
      "Accuracy: 0.9419831223628692\n",
      "Error: 0.058016877637130815\n",
      "Recall: 0.6456692913385826\n",
      "Specificity: 0.9878197320341048\n",
      "Precision: 0.8913043478260869\n",
      "F1: 0.7488584474885844\n",
      "f1 model\n",
      "TP: 79, TN: 809, FP: 12, FN: 48\n",
      "Accuracy: 0.9367088607594937\n",
      "Error: 0.06329113924050633\n",
      "Recall: 0.6220472440944882\n",
      "Specificity: 0.9853836784409257\n",
      "Precision: 0.8681318681318682\n",
      "F1: 0.724770642201835\n"
     ]
    }
   ],
   "source": [
    "rf_accuracy_unbalenced.fit(X_train, y_train)\n",
    "print(\"Accuracy model\")\n",
    "evaluate(rf_accuracy_unbalenced)\n",
    "\n",
    "rf_f1_unbalenced.fit(X_train, y_train)\n",
    "print(\"f1 model\")\n",
    "evaluate(rf_f1_unbalenced)"
   ]
  },
  {
   "cell_type": "markdown",
   "metadata": {},
   "source": [
    "# Evaluation of the models"
   ]
  },
  {
   "cell_type": "code",
   "execution_count": 118,
   "metadata": {},
   "outputs": [],
   "source": [
    "results= [['name','accuracy','recall','prec','f1','mean']]\n",
    "def evaluate_model(model,name,X_test,y_test,dec_number):\n",
    "    yhat = model.predict(X_test)\n",
    "\n",
    "    acc = round(sklearn.metrics.accuracy_score(y_test,yhat),dec_number)\n",
    "    recall = round(sklearn.metrics.recall_score(y_test,yhat,pos_label='Yes'),dec_number)\n",
    "    prec = round(sklearn.metrics.precision_score(y_test,yhat,pos_label='Yes'),dec_number)\n",
    "    f1 = round(sklearn.metrics.f1_score(y_test,yhat,pos_label='Yes'),dec_number)\n",
    "    mean = round((acc+recall+prec+f1)/4,dec_number)\n",
    "\n",
    "    results.append([name,acc,recall,prec,f1,mean])\n",
    "    \n",
    "    \n",
    "def print_results(results):\n",
    "    # Print each row\n",
    "    for row in results:\n",
    "        row_str = \" | \".join(str(element) for element in row)\n",
    "        print(row_str)"
   ]
  },
  {
   "cell_type": "markdown",
   "metadata": {},
   "source": [
    "## Balenced Data"
   ]
  },
  {
   "cell_type": "code",
   "execution_count": 119,
   "metadata": {},
   "outputs": [
    {
     "ename": "NotFittedError",
     "evalue": "This MLPClassifier instance is not fitted yet. Call 'fit' with appropriate arguments before using this estimator.",
     "output_type": "error",
     "traceback": [
      "\u001b[1;31m---------------------------------------------------------------------------\u001b[0m",
      "\u001b[1;31mNotFittedError\u001b[0m                            Traceback (most recent call last)",
      "Cell \u001b[1;32mIn[119], line 4\u001b[0m\n\u001b[0;32m      2\u001b[0m evaluate_model(gnb,\u001b[38;5;124m'\u001b[39m\u001b[38;5;124mgnb\u001b[39m\u001b[38;5;124m'\u001b[39m,X_test,y_test,\u001b[38;5;241m3\u001b[39m)\n\u001b[0;32m      3\u001b[0m evaluate_model(svm,\u001b[38;5;124m'\u001b[39m\u001b[38;5;124msvm\u001b[39m\u001b[38;5;124m'\u001b[39m,X_test,y_test,\u001b[38;5;241m3\u001b[39m)\n\u001b[1;32m----> 4\u001b[0m \u001b[43mevaluate_model\u001b[49m\u001b[43m(\u001b[49m\u001b[43mnn_accuracy\u001b[49m\u001b[43m,\u001b[49m\u001b[38;5;124;43m'\u001b[39;49m\u001b[38;5;124;43mnn_accuracy\u001b[39;49m\u001b[38;5;124;43m'\u001b[39;49m\u001b[43m,\u001b[49m\u001b[43mX_test\u001b[49m\u001b[43m,\u001b[49m\u001b[43my_test\u001b[49m\u001b[43m,\u001b[49m\u001b[38;5;241;43m3\u001b[39;49m\u001b[43m)\u001b[49m\n\u001b[0;32m      5\u001b[0m evaluate_model(nn_f1,\u001b[38;5;124m'\u001b[39m\u001b[38;5;124mnn_f1\u001b[39m\u001b[38;5;124m'\u001b[39m,X_test,y_test,\u001b[38;5;241m3\u001b[39m)\n\u001b[0;32m      6\u001b[0m evaluate_model(dt_accuracy,\u001b[38;5;124m'\u001b[39m\u001b[38;5;124mdt_classifier\u001b[39m\u001b[38;5;124m'\u001b[39m,X_test,y_test,\u001b[38;5;241m3\u001b[39m)\n",
      "Cell \u001b[1;32mIn[118], line 3\u001b[0m, in \u001b[0;36mevaluate_model\u001b[1;34m(model, name, X_test, y_test, dec_number)\u001b[0m\n\u001b[0;32m      2\u001b[0m \u001b[38;5;28;01mdef\u001b[39;00m \u001b[38;5;21mevaluate_model\u001b[39m(model,name,X_test,y_test,dec_number):\n\u001b[1;32m----> 3\u001b[0m     yhat \u001b[38;5;241m=\u001b[39m \u001b[43mmodel\u001b[49m\u001b[38;5;241;43m.\u001b[39;49m\u001b[43mpredict\u001b[49m\u001b[43m(\u001b[49m\u001b[43mX_test\u001b[49m\u001b[43m)\u001b[49m\n\u001b[0;32m      5\u001b[0m     acc \u001b[38;5;241m=\u001b[39m \u001b[38;5;28mround\u001b[39m(sklearn\u001b[38;5;241m.\u001b[39mmetrics\u001b[38;5;241m.\u001b[39maccuracy_score(y_test,yhat),dec_number)\n\u001b[0;32m      6\u001b[0m     recall \u001b[38;5;241m=\u001b[39m \u001b[38;5;28mround\u001b[39m(sklearn\u001b[38;5;241m.\u001b[39mmetrics\u001b[38;5;241m.\u001b[39mrecall_score(y_test,yhat,pos_label\u001b[38;5;241m=\u001b[39m\u001b[38;5;124m'\u001b[39m\u001b[38;5;124mYes\u001b[39m\u001b[38;5;124m'\u001b[39m),dec_number)\n",
      "File \u001b[1;32mc:\\Users\\GODA\\AppData\\Local\\Programs\\Python\\Python311\\Lib\\site-packages\\sklearn\\neural_network\\_multilayer_perceptron.py:1159\u001b[0m, in \u001b[0;36mMLPClassifier.predict\u001b[1;34m(self, X)\u001b[0m\n\u001b[0;32m   1146\u001b[0m \u001b[38;5;28;01mdef\u001b[39;00m \u001b[38;5;21mpredict\u001b[39m(\u001b[38;5;28mself\u001b[39m, X):\n\u001b[0;32m   1147\u001b[0m \u001b[38;5;250m    \u001b[39m\u001b[38;5;124;03m\"\"\"Predict using the multi-layer perceptron classifier.\u001b[39;00m\n\u001b[0;32m   1148\u001b[0m \n\u001b[0;32m   1149\u001b[0m \u001b[38;5;124;03m    Parameters\u001b[39;00m\n\u001b[1;32m   (...)\u001b[0m\n\u001b[0;32m   1157\u001b[0m \u001b[38;5;124;03m        The predicted classes.\u001b[39;00m\n\u001b[0;32m   1158\u001b[0m \u001b[38;5;124;03m    \"\"\"\u001b[39;00m\n\u001b[1;32m-> 1159\u001b[0m     \u001b[43mcheck_is_fitted\u001b[49m\u001b[43m(\u001b[49m\u001b[38;5;28;43mself\u001b[39;49m\u001b[43m)\u001b[49m\n\u001b[0;32m   1160\u001b[0m     \u001b[38;5;28;01mreturn\u001b[39;00m \u001b[38;5;28mself\u001b[39m\u001b[38;5;241m.\u001b[39m_predict(X)\n",
      "File \u001b[1;32mc:\\Users\\GODA\\AppData\\Local\\Programs\\Python\\Python311\\Lib\\site-packages\\sklearn\\utils\\validation.py:1461\u001b[0m, in \u001b[0;36mcheck_is_fitted\u001b[1;34m(estimator, attributes, msg, all_or_any)\u001b[0m\n\u001b[0;32m   1458\u001b[0m     \u001b[38;5;28;01mraise\u001b[39;00m \u001b[38;5;167;01mTypeError\u001b[39;00m(\u001b[38;5;124m\"\u001b[39m\u001b[38;5;132;01m%s\u001b[39;00m\u001b[38;5;124m is not an estimator instance.\u001b[39m\u001b[38;5;124m\"\u001b[39m \u001b[38;5;241m%\u001b[39m (estimator))\n\u001b[0;32m   1460\u001b[0m \u001b[38;5;28;01mif\u001b[39;00m \u001b[38;5;129;01mnot\u001b[39;00m _is_fitted(estimator, attributes, all_or_any):\n\u001b[1;32m-> 1461\u001b[0m     \u001b[38;5;28;01mraise\u001b[39;00m NotFittedError(msg \u001b[38;5;241m%\u001b[39m {\u001b[38;5;124m\"\u001b[39m\u001b[38;5;124mname\u001b[39m\u001b[38;5;124m\"\u001b[39m: \u001b[38;5;28mtype\u001b[39m(estimator)\u001b[38;5;241m.\u001b[39m\u001b[38;5;18m__name__\u001b[39m})\n",
      "\u001b[1;31mNotFittedError\u001b[0m: This MLPClassifier instance is not fitted yet. Call 'fit' with appropriate arguments before using this estimator."
     ]
    }
   ],
   "source": [
    "evaluate_model(knn_accuracy,'knn_accuracy',X_test,y_test,3)\n",
    "evaluate_model(gnb,'gnb',X_test,y_test,3)\n",
    "evaluate_model(svm,'svm',X_test,y_test,3)\n",
    "evaluate_model(nn_accuracy,'nn_accuracy',X_test,y_test,3)\n",
    "evaluate_model(nn_f1,'nn_f1',X_test,y_test,3)\n",
    "evaluate_model(dt_accuracy,'dt_classifier',X_test,y_test,3)\n",
    "evaluate_model(dt_f1,'dt_f1',X_test,y_test,3)\n",
    "evaluate_model(rf_accuracy,'rf_model',X_test,y_test,3)\n",
    "evaluate_model(rf_f1,'rf_f1',X_test,y_test,3)\n",
    "print_results(results)"
   ]
  },
  {
   "cell_type": "markdown",
   "metadata": {},
   "source": [
    "## Unbalenced Data"
   ]
  },
  {
   "cell_type": "code",
   "execution_count": 120,
   "metadata": {},
   "outputs": [
    {
     "name": "stdout",
     "output_type": "stream",
     "text": [
      "name | accuracy | recall | prec | f1 | mean\n",
      "knn_accuracy | 0.895 | 0.283 | 0.8 | 0.419 | 0.599\n",
      "gnb | 0.87 | 0.394 | 0.521 | 0.448 | 0.558\n",
      "svm_acc | 0.926 | 0.583 | 0.813 | 0.679 | 0.75\n",
      "svm_f1 | 0.926 | 0.583 | 0.813 | 0.679 | 0.75\n",
      "nn_accuracy | 0.946 | 0.709 | 0.865 | 0.779 | 0.825\n",
      "nn_f1 | 0.94 | 0.701 | 0.824 | 0.757 | 0.806\n",
      "dt_classifier | 0.926 | 0.598 | 0.8 | 0.685 | 0.752\n",
      "dt_f1 | 0.928 | 0.598 | 0.817 | 0.691 | 0.758\n",
      "rf_model | 0.942 | 0.646 | 0.891 | 0.749 | 0.807\n",
      "rf_f1 | 0.937 | 0.622 | 0.868 | 0.725 | 0.788\n"
     ]
    }
   ],
   "source": [
    "results= [['name','accuracy','recall','prec','f1','mean']]\n",
    "evaluate_model(knn_accuracy_unbalenced,'knn_accuracy',X_test,y_test,3)\n",
    "evaluate_model(gnb_unbalenced,'gnb',X_test,y_test,3)\n",
    "evaluate_model(svc_accuracy_unbalenced,'svm_acc',X_test,y_test,3)\n",
    "evaluate_model(svc_f1_unbalenced,'svm_f1',X_test,y_test,3)\n",
    "evaluate_model(nn_accuracy_unbalenced,'nn_accuracy',X_test,y_test,3)\n",
    "evaluate_model(nn_f1_unbalenced,'nn_f1',X_test,y_test,3)\n",
    "evaluate_model(dt_accuracy_unbalenced,'dt_classifier',X_test,y_test,3)\n",
    "evaluate_model(dt_f1_unbalenced,'dt_f1',X_test,y_test,3)\n",
    "evaluate_model(rf_accuracy_unbalenced,'rf_model',X_test,y_test,3)\n",
    "evaluate_model(rf_f1_unbalenced,'rf_f1',X_test,y_test,3)\n",
    "print_results(results)"
   ]
  },
  {
   "cell_type": "markdown",
   "metadata": {},
   "source": [
    "As we can see the results of the models trained with the unbalenced data is worse than the results of the ones trained with balenced data."
   ]
  },
  {
   "cell_type": "markdown",
   "metadata": {},
   "source": [
    "# Best Overall Model"
   ]
  },
  {
   "cell_type": "markdown",
   "metadata": {},
   "source": [
    "The best overall model was the neural network built for accuracy with unbalanced data. Even though the SVM has also really good results, the NN had significantly better results for the recall and the F1-Score."
   ]
  },
  {
   "cell_type": "markdown",
   "metadata": {},
   "source": [
    "We can see that the Support Vector Machine had some issues dealing with the positive class. This is a problem with dealing with imbalanced datasets. However, even when we trained this model with a balanced dataset the recall and F1-Score were low (both with undersampling and oversampling). The SVM tries to find a hyperplane to separate the classes, using a specific kernel. For this case, it seems that the kernels did not find a good enough hyperplane that separated the data. Other kernels may have better results."
   ]
  },
  {
   "cell_type": "markdown",
   "metadata": {},
   "source": [
    "As for the neural network built for accuracy, the intricacy of this model may be the reason as to why it managed to do so well with the accuracy as well as the f1-score. It managed to have the highest f1-score out of all of the models, and overall the best model to handle the unbalanced data. In terms of accuracy, it managed to be the second best, and it would very likely be the one chosen to be deployed in a business environment. We would still need to be careful, since the f1-score was not very high, so it would need some care with maintenance."
   ]
  },
  {
   "cell_type": "markdown",
   "metadata": {},
   "source": [
    "## Confusion matrix for neural network"
   ]
  },
  {
   "cell_type": "code",
   "execution_count": 121,
   "metadata": {},
   "outputs": [
    {
     "data": {
      "image/png": "[encoded data removed]",
      "text/plain": [
       "<Figure size 640x480 with 2 Axes>"
      ]
     },
     "metadata": {},
     "output_type": "display_data"
    }
   ],
   "source": [
    "model = MLPClassifier(activation= 'relu', alpha= 0.001, batch_size= 32, hidden_layer_sizes= (25, 25, 25), learning_rate= 'adaptive', max_iter= 9999999999, solver= 'adam')\n",
    "model.fit(X_train,y_train)\n",
    "\n",
    "yhat = model.predict(X_test)\n",
    "\n",
    "conf_matrix = sklearn.metrics.confusion_matrix(yhat,y_test)\n",
    "disp = sklearn.metrics.ConfusionMatrixDisplay(conf_matrix)\n",
    "\n",
    "disp.plot()\n",
    "plt.show()\n"
   ]
  },
  {
   "cell_type": "markdown",
   "metadata": {},
   "source": [
    "## Confusion matrix for SVM"
   ]
  },
  {
   "cell_type": "code",
   "execution_count": 122,
   "metadata": {},
   "outputs": [
    {
     "data": {
      "image/png": "[encoded data removed]",
      "text/plain": [
       "<Figure size 640x480 with 2 Axes>"
      ]
     },
     "metadata": {},
     "output_type": "display_data"
    }
   ],
   "source": [
    "model = SVC(C= 10, degree= 2, gamma= 1, kernel= 'rbf')\n",
    "model.fit(X_oversampled,y_oversampled)\n",
    "\n",
    "yhat = model.predict(X_test)\n",
    "\n",
    "conf_matrix = sklearn.metrics.confusion_matrix(yhat,y_test)\n",
    "disp = sklearn.metrics.ConfusionMatrixDisplay(conf_matrix)\n",
    "\n",
    "disp.plot()\n",
    "plt.show()\n"
   ]
  },
  {
   "cell_type": "markdown",
   "metadata": {},
   "source": [
    "# Model combination\n",
    "\n",
    "Now we will analyze if combining the results of models can give us any improvement in performence.\n",
    "We will use our three best models (SVM, Neural Networks and Rnadom Forest), combining the results of these models using two techniques hard (majority voting) and soft voting (weighted by predicted probabilities)."
   ]
  },
  {
   "cell_type": "code",
   "execution_count": 123,
   "metadata": {},
   "outputs": [],
   "source": [
    "svm = SVC(kernel='rbf', C=10, gamma=1, degree=2, probability=True)\n",
    "nn_accuracy = MLPClassifier(activation= 'relu', alpha= 0.001, batch_size= 32, hidden_layer_sizes= (50, 50), learning_rate= 'adaptive', max_iter= 9999999999, solver= 'adam')\n",
    "rf_model = RandomForestClassifier(bootstrap=False, max_depth=30, max_features=1, min_samples_split=5, n_estimators=200)"
   ]
  },
  {
   "cell_type": "code",
   "execution_count": 124,
   "metadata": {},
   "outputs": [],
   "source": [
    "models = [('svm',svm),('nn',nn_accuracy),('rf',rf_model)]\n",
    "hard_voting_clf = VotingClassifier(models, voting='hard')\n",
    "soft_voting_clf = VotingClassifier(models, voting='soft')"
   ]
  },
  {
   "cell_type": "code",
   "execution_count": 125,
   "metadata": {},
   "outputs": [
    {
     "name": "stdout",
     "output_type": "stream",
     "text": [
      "TP: 77, TN: 811, FP: 10, FN: 50\n",
      "Accuracy: 0.9367088607594937\n",
      "Error: 0.06329113924050633\n",
      "Recall: 0.6062992125984252\n",
      "Specificity: 0.9878197320341048\n",
      "Precision: 0.8850574712643678\n",
      "F1: 0.719626168224299\n"
     ]
    }
   ],
   "source": [
    "hard_voting_clf.fit(X_train,y_train)\n",
    "evaluate_model(hard_voting_clf,'hard_voting_clf',X_test,y_test,3)\n",
    "evaluate(hard_voting_clf)"
   ]
  },
  {
   "cell_type": "code",
   "execution_count": 126,
   "metadata": {},
   "outputs": [
    {
     "name": "stdout",
     "output_type": "stream",
     "text": [
      "TP: 70, TN: 814, FP: 7, FN: 57\n",
      "Accuracy: 0.9324894514767933\n",
      "Error: 0.0675105485232067\n",
      "Recall: 0.5511811023622047\n",
      "Specificity: 0.9914738124238733\n",
      "Precision: 0.9090909090909091\n",
      "F1: 0.6862745098039216\n"
     ]
    }
   ],
   "source": [
    "soft_voting_clf.fit(X_train,y_train)\n",
    "evaluate_model(soft_voting_clf,'soft_voting_clf',X_test,y_test,3)\n",
    "evaluate(soft_voting_clf)"
   ]
  },
  {
   "cell_type": "code",
   "execution_count": 127,
   "metadata": {},
   "outputs": [
    {
     "name": "stdout",
     "output_type": "stream",
     "text": [
      "name | accuracy | recall | prec | f1 | mean\n",
      "knn_accuracy | 0.895 | 0.283 | 0.8 | 0.419 | 0.599\n",
      "gnb | 0.87 | 0.394 | 0.521 | 0.448 | 0.558\n",
      "svm_acc | 0.926 | 0.583 | 0.813 | 0.679 | 0.75\n",
      "svm_f1 | 0.926 | 0.583 | 0.813 | 0.679 | 0.75\n",
      "nn_accuracy | 0.946 | 0.709 | 0.865 | 0.779 | 0.825\n",
      "nn_f1 | 0.94 | 0.701 | 0.824 | 0.757 | 0.806\n",
      "dt_classifier | 0.926 | 0.598 | 0.8 | 0.685 | 0.752\n",
      "dt_f1 | 0.928 | 0.598 | 0.817 | 0.691 | 0.758\n",
      "rf_model | 0.942 | 0.646 | 0.891 | 0.749 | 0.807\n",
      "rf_f1 | 0.937 | 0.622 | 0.868 | 0.725 | 0.788\n",
      "hard_voting_clf | 0.937 | 0.606 | 0.885 | 0.72 | 0.787\n",
      "soft_voting_clf | 0.932 | 0.551 | 0.909 | 0.686 | 0.77\n"
     ]
    }
   ],
   "source": [
    "print_results(results)"
   ]
  },
  {
   "cell_type": "markdown",
   "metadata": {},
   "source": [
    "Analyzing the results we can see that combining the results of our best performing models does not improve the our results\n",
    "\n",
    "|name | accuracy | recall | prec | f1 | mean|\n",
    "|----|-----|----|----|----|----|\n",
    "|svm | 0.926 | 0.583 | 0.813 | 0.679 | 0.75 |\n",
    "|nn_accuracy | 0.946 | 0.709 | 0.865 | 0.779 | 0.825 |\n",
    "|rf_model | 0.942 | 0.646 | 0.891 | 0.749 | 0.807 |\n",
    "|hard_voting_clf | 0.937 | 0.606 | 0.885 | 0.72 | 0.787|\n",
    "|soft_voting_clf | 0.932 | 0.551 | 0.909 | 0.686 | 0.77|\n"
   ]
  },
  {
   "cell_type": "markdown",
   "metadata": {},
   "source": [
    "Neither the soft voting nor the hard voting tecnhiques imporoved the results over our best models."
   ]
  }
 ],
 "metadata": {
  "kernelspec": {
   "display_name": "Python 3.11.5 64-bit ('sbin')",
   "language": "python",
   "name": "python3"
  },
  "language_info": {
   "codemirror_mode": {
    "name": "ipython",
    "version": 3
   },
   "file_extension": ".py",
   "mimetype": "text/x-python",
   "name": "python",
   "nbconvert_exporter": "python",
   "pygments_lexer": "ipython3",
   "version": "3.9.13"
  },
  "vscode": {
   "interpreter": {
    "hash": "4e1d9a8909477db77738c33245c29c7265277ef753467dede8cf3f814cde494e"
   }
  }
 },
 "nbformat": 4,
 "nbformat_minor": 2
}
