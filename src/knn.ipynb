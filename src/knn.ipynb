{
 "cells": [
  {
   "cell_type": "code",
   "execution_count": 38,
   "metadata": {},
   "outputs": [],
   "source": [
    "import pandas as pd\n",
    "import sklearn.metrics\n",
    "from sklearn.neighbors import KNeighborsClassifier\n",
    "from sklearn.model_selection import train_test_split, GridSearchCV, cross_val_score, KFold\n",
    "from imblearn.over_sampling import RandomOverSampler\n",
    "from imblearn.under_sampling import RandomUnderSampler\n",
    "from sklearn.ensemble import VotingClassifier"
   ]
  },
  {
   "cell_type": "code",
   "execution_count": 39,
   "metadata": {},
   "outputs": [],
   "source": [
    "df = pd.read_csv('./../clean_data.csv')"
   ]
  },
  {
   "cell_type": "code",
   "execution_count": 40,
   "metadata": {},
   "outputs": [],
   "source": [
    "labels = df.columns[1:]\n",
    "x=df.loc[:,labels]\n",
    "y=df.loc[:,'churn']\n",
    "\n",
    "xtrain, xtest, ytrain, ytest = train_test_split(x,y,train_size=0.8)"
   ]
  },
  {
   "cell_type": "code",
   "execution_count": 46,
   "metadata": {},
   "outputs": [
    {
     "name": "stdout",
     "output_type": "stream",
     "text": [
      "\n",
      "Class distribution after oversampling:\n",
      "No     3282\n",
      "Yes    3282\n",
      "Name: churn, dtype: int64\n",
      "\n",
      "Class distribution after undersampling:\n",
      "No     3282\n",
      "Yes    3282\n",
      "Name: churn, dtype: int64\n"
     ]
    }
   ],
   "source": [
    "ros = RandomOverSampler(random_state=42)\n",
    "X_resampled, y_resampled = ros.fit_resample(xtrain, ytrain)\n",
    "\n",
    "# Display class distribution after oversampling\n",
    "print(\"\\nClass distribution after oversampling:\")\n",
    "print(pd.Series(y_resampled).value_counts())\n",
    "\n",
    "# Apply RandomUnderSampler to address class imbalance\n",
    "rus = RandomUnderSampler(random_state=42)\n",
    "X_resampled, y_resampled = rus.fit_resample(xtrain, ytrain)\n",
    "\n",
    "# Display class distribution after undersampling\n",
    "print(\"\\nClass distribution after undersampling:\")\n",
    "print(pd.Series(y_resampled).value_counts())"
   ]
  },
  {
   "cell_type": "code",
   "execution_count": 42,
   "metadata": {},
   "outputs": [
    {
     "name": "stdout",
     "output_type": "stream",
     "text": [
      "Fitting 5 folds for each of 180 candidates, totalling 900 fits\n",
      "{'algorithm': 'ball_tree', 'n_neighbors': 5, 'p': 1, 'weights': 'uniform'}\n",
      "Fitting 5 folds for each of 180 candidates, totalling 900 fits\n",
      "{'algorithm': 'ball_tree', 'n_neighbors': 5, 'p': 1, 'weights': 'uniform'}\n"
     ]
    }
   ],
   "source": [
    "\n",
    "\n",
    "model = KNeighborsClassifier()\n",
    "params = {\n",
    "    'n_neighbors': [3,5,7,9,11,13],\n",
    "    'weights': ['uniform', 'distance'],\n",
    "    'algorithm' : ['ball_tree', 'kd_tree', 'brute'],\n",
    "    'p' : [1,2,3,4,5]\n",
    "    }\n",
    "\n",
    "\n",
    "clf = GridSearchCV(estimator=model,param_grid=params,cv=5,n_jobs=5,verbose=1)\n",
    "clf.fit(xtrain,ytrain)\n",
    "\n",
    "print(clf.best_params_)\n",
    "model = KNeighborsClassifier(n_neighbors=clf.best_params_['n_neighbors'], weights=clf.best_params_['weights'], algorithm=clf.best_params_['algorithm'], p=clf.best_params_['p']) \n",
    "\n",
    "f1 = sklearn.metrics.make_scorer(sklearn.metrics.f1_score, average='micro')\n",
    "\n",
    "clf = GridSearchCV(estimator=model,param_grid=params,cv=5,n_jobs=5,verbose=1,scoring=f1)\n",
    "clf.fit(xtrain,ytrain)\n",
    "\n",
    "print(clf.best_params_)\n",
    "modelf1 = KNeighborsClassifier(n_neighbors=clf.best_params_['n_neighbors'], weights=clf.best_params_['weights'], algorithm=clf.best_params_['algorithm'], p=clf.best_params_['p']) \n",
    "\n",
    "combi_model = VotingClassifier(estimators=[('acc', model), ('f1', modelf1)], voting='soft')\n"
   ]
  },
  {
   "cell_type": "code",
   "execution_count": 43,
   "metadata": {},
   "outputs": [
    {
     "name": "stdout",
     "output_type": "stream",
     "text": [
      "Cross-Validation Scores: [0.89978903 0.9092827  0.907173   0.88806758 0.89757128]\n",
      "Mean Accuracy: 0.9003767170589783\n",
      "Standard Deviation: 0.007552967900650159\n"
     ]
    }
   ],
   "source": [
    "cv_strategy = KFold(n_splits=5, shuffle=True, random_state=42)\n",
    "cross_val_scores = cross_val_score(model, x, y, cv=cv_strategy, scoring='accuracy')\n",
    "\n",
    "print(\"Cross-Validation Scores:\", cross_val_scores)\n",
    "print(\"Mean Accuracy:\", cross_val_scores.mean())\n",
    "print(\"Standard Deviation:\", cross_val_scores.std())"
   ]
  },
  {
   "cell_type": "code",
   "execution_count": 47,
   "metadata": {},
   "outputs": [
    {
     "name": "stdout",
     "output_type": "stream",
     "text": [
      "balanced model\n",
      "accuracy: 0.8354430379746836\n",
      "recall: 0.7246376811594203\n",
      "precision: 0.45871559633027525\n",
      "f1: 0.5617977528089888\n",
      "confusion matrix:\n",
      "[[692 118]\n",
      " [ 38 100]]\n",
      "\n",
      "f1 model\n",
      "accuracy: 0.8354430379746836\n",
      "recall: 0.7246376811594203\n",
      "precision: 0.45871559633027525\n",
      "f1: 0.5617977528089888\n",
      "confusion matrix:\n",
      "[[692 118]\n",
      " [ 38 100]]\n",
      "\n",
      "combination model\n",
      "accuracy: 0.8354430379746836\n",
      "recall: 0.7246376811594203\n",
      "precision: 0.45871559633027525\n",
      "f1: 0.5617977528089888\n",
      "confusion matrix:\n",
      "[[692 118]\n",
      " [ 38 100]]\n",
      "\n"
     ]
    }
   ],
   "source": [
    "model.fit(X_resampled,y_resampled)\n",
    "\n",
    "yhat = model.predict(xtest)\n",
    "\n",
    "acc = sklearn.metrics.accuracy_score(ytest,yhat)\n",
    "recall = sklearn.metrics.recall_score(ytest,yhat,pos_label='Yes')\n",
    "prec = sklearn.metrics.precision_score(ytest,yhat,pos_label='Yes')\n",
    "f1 = sklearn.metrics.f1_score(ytest,yhat,pos_label='Yes')\n",
    "conf_matrix =  sklearn.metrics.confusion_matrix(ytest,yhat)\n",
    "print('balanced model')\n",
    "print(f\"accuracy: {acc}\")\n",
    "print(f\"recall: {recall}\")\n",
    "print(f\"precision: {prec}\")\n",
    "print(f\"f1: {f1}\")\n",
    "print(f\"confusion matrix:\\n{conf_matrix}\\n\")\n",
    "\n",
    "modelf1.fit(X_resampled,y_resampled)\n",
    "\n",
    "yhat = modelf1.predict(xtest)\n",
    "\n",
    "acc = sklearn.metrics.accuracy_score(ytest,yhat)\n",
    "recall = sklearn.metrics.recall_score(ytest,yhat,pos_label='Yes')\n",
    "prec = sklearn.metrics.precision_score(ytest,yhat,pos_label='Yes')\n",
    "f1 = sklearn.metrics.f1_score(ytest,yhat,pos_label='Yes')\n",
    "conf_matrix =  sklearn.metrics.confusion_matrix(ytest,yhat)\n",
    "print('f1 model')\n",
    "print(f\"accuracy: {acc}\")\n",
    "print(f\"recall: {recall}\")\n",
    "print(f\"precision: {prec}\")\n",
    "print(f\"f1: {f1}\")\n",
    "print(f\"confusion matrix:\\n{conf_matrix}\\n\")\n",
    "\n",
    "combi_model.fit(X_resampled,y_resampled)\n",
    "\n",
    "yhat = modelf1.predict(xtest)\n",
    "\n",
    "acc = sklearn.metrics.accuracy_score(ytest,yhat)\n",
    "recall = sklearn.metrics.recall_score(ytest,yhat,pos_label='Yes')\n",
    "prec = sklearn.metrics.precision_score(ytest,yhat,pos_label='Yes')\n",
    "f1 = sklearn.metrics.f1_score(ytest,yhat,pos_label='Yes')\n",
    "conf_matrix =  sklearn.metrics.confusion_matrix(ytest,yhat)\n",
    "print('combination model')\n",
    "print(f\"accuracy: {acc}\")\n",
    "print(f\"recall: {recall}\")\n",
    "print(f\"precision: {prec}\")\n",
    "print(f\"f1: {f1}\")\n",
    "print(f\"confusion matrix:\\n{conf_matrix}\\n\")"
   ]
  }
 ],
 "metadata": {
  "kernelspec": {
   "display_name": "Python 3",
   "language": "python",
   "name": "python3"
  },
  "language_info": {
   "codemirror_mode": {
    "name": "ipython",
    "version": 3
   },
   "file_extension": ".py",
   "mimetype": "text/x-python",
   "name": "python",
   "nbconvert_exporter": "python",
   "pygments_lexer": "ipython3",
   "version": "3.11.6"
  }
 },
 "nbformat": 4,
 "nbformat_minor": 2
}
